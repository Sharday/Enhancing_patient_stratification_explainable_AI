{
 "cells": [
  {
   "cell_type": "markdown",
   "id": "b866c9dc",
   "metadata": {},
   "source": [
    "## SHAP evaluation"
   ]
  },
  {
   "cell_type": "code",
   "execution_count": 21,
   "id": "18ece6d5",
   "metadata": {},
   "outputs": [],
   "source": [
    "# from importlib import reload\n",
    "import sys\n",
    "sys.stdout = sys.__stdout__\n",
    "# stdout = sys.stdout\n",
    "# reload(sys)\n",
    "# # sys.setdefaultencoding('utf-8')\n",
    "# sys.stdout = stdout\n",
    "\n",
    "# sys.stdout = open(1, 'w')\n",
    "# import sys\n",
    "# stdout = sys.stdout\n",
    "\n",
    "from gene_shap_minimal import *"
   ]
  },
  {
   "cell_type": "code",
   "execution_count": 22,
   "id": "f3fd82d4",
   "metadata": {},
   "outputs": [
    {
     "data": {
      "text/plain": [
       "<_io.TextIOWrapper name='<stdout>' mode='w' encoding='utf-8'>"
      ]
     },
     "execution_count": 22,
     "metadata": {},
     "output_type": "execute_result"
    }
   ],
   "source": [
    "sys.stdout"
   ]
  },
  {
   "cell_type": "code",
   "execution_count": 23,
   "id": "6a8fdfed",
   "metadata": {},
   "outputs": [],
   "source": [
    "# import shap\n",
    "import numpy as np"
   ]
  },
  {
   "cell_type": "code",
   "execution_count": 24,
   "id": "65f73286",
   "metadata": {},
   "outputs": [],
   "source": [
    "# explainer = shap.KernelExplainer(model=compound_model.predict, data=x_train_scaled, link=\"logit\")"
   ]
  },
  {
   "cell_type": "code",
   "execution_count": 25,
   "id": "cd2bde3e",
   "metadata": {},
   "outputs": [],
   "source": [
    "# import sys\n",
    "sys.path.insert(0,r\"C:\\Users\\shard\\OneDrive - University of Cambridge\\MPhil-Sonny\\research project\\exploring dataset\\gene_shap_minimal\")"
   ]
  },
  {
   "cell_type": "code",
   "execution_count": 26,
   "id": "8bdae39c",
   "metadata": {},
   "outputs": [
    {
     "data": {
      "text/plain": [
       "['C:\\\\Users\\\\shard\\\\OneDrive - University of Cambridge\\\\MPhil-Sonny\\\\research project\\\\exploring dataset\\\\gene_shap_minimal',\n",
       " 'C:\\\\Users\\\\shard\\\\OneDrive - University of Cambridge\\\\MPhil-Sonny\\\\research project\\\\exploring dataset\\\\gene_shap_minimal',\n",
       " 'C:\\\\Users\\\\shard\\\\OneDrive - University of Cambridge\\\\MPhil-Sonny\\\\research project\\\\patient_stratification',\n",
       " 'C:\\\\Program Files (x86)\\\\Eclipse\\\\Sumo\\\\tools',\n",
       " 'C:\\\\Users\\\\shard\\\\anaconda3\\\\envs\\\\mvp4\\\\python310.zip',\n",
       " 'C:\\\\Users\\\\shard\\\\anaconda3\\\\envs\\\\mvp4\\\\DLLs',\n",
       " 'C:\\\\Users\\\\shard\\\\anaconda3\\\\envs\\\\mvp4\\\\lib',\n",
       " 'C:\\\\Users\\\\shard\\\\anaconda3\\\\envs\\\\mvp4',\n",
       " '',\n",
       " 'C:\\\\Users\\\\shard\\\\anaconda3\\\\envs\\\\mvp4\\\\lib\\\\site-packages',\n",
       " 'C:\\\\Users\\\\shard\\\\anaconda3\\\\envs\\\\mvp4\\\\lib\\\\site-packages\\\\win32',\n",
       " 'C:\\\\Users\\\\shard\\\\anaconda3\\\\envs\\\\mvp4\\\\lib\\\\site-packages\\\\win32\\\\lib',\n",
       " 'C:\\\\Users\\\\shard\\\\anaconda3\\\\envs\\\\mvp4\\\\lib\\\\site-packages\\\\Pythonwin']"
      ]
     },
     "execution_count": 26,
     "metadata": {},
     "output_type": "execute_result"
    }
   ],
   "source": [
    "\n",
    "sys.path"
   ]
  },
  {
   "cell_type": "code",
   "execution_count": 27,
   "id": "57d177eb",
   "metadata": {},
   "outputs": [],
   "source": [
    "# some functions that mess up sys.stdout\n",
    "\n",
    "import sys\n",
    "sys.stdout = sys.__stdout__"
   ]
  },
  {
   "cell_type": "code",
   "execution_count": 35,
   "id": "ca042e42",
   "metadata": {},
   "outputs": [],
   "source": [
    "from gene_shap_minimal import objects\n",
    "from gene_shap_minimal import *"
   ]
  },
  {
   "cell_type": "code",
   "execution_count": 36,
   "id": "940adedc",
   "metadata": {
    "scrolled": true
   },
   "outputs": [],
   "source": [
    "# explainer = objects.get_explainer(model=compound_model.predict, data=x_train_scaled[:2], link=\"logit\")"
   ]
  },
  {
   "cell_type": "code",
   "execution_count": 37,
   "id": "66d234db",
   "metadata": {},
   "outputs": [
    {
     "data": {
      "text/plain": [
       "<explainers._kernel.Kernel at 0x180e47a1000>"
      ]
     },
     "execution_count": 37,
     "metadata": {},
     "output_type": "execute_result"
    }
   ],
   "source": [
    "objects.get_explainer(None, None, None)"
   ]
  },
  {
   "cell_type": "code",
   "execution_count": 38,
   "id": "0a87e632",
   "metadata": {},
   "outputs": [],
   "source": [
    "explainer = objects.get_explainer(None, None, None)"
   ]
  },
  {
   "cell_type": "code",
   "execution_count": 39,
   "id": "0f1f05d5",
   "metadata": {},
   "outputs": [
    {
     "data": {
      "text/plain": [
       "explainers._kernel.Kernel"
      ]
     },
     "execution_count": 39,
     "metadata": {},
     "output_type": "execute_result"
    }
   ],
   "source": [
    "type(explainer)"
   ]
  },
  {
   "cell_type": "code",
   "execution_count": 40,
   "id": "410a946a",
   "metadata": {},
   "outputs": [],
   "source": [
    "# import geneSHAP"
   ]
  },
  {
   "cell_type": "code",
   "execution_count": 41,
   "id": "59d8bafd",
   "metadata": {},
   "outputs": [],
   "source": [
    "# explainer = shap.KernelExplainer(model=compound_model.predict, data=x_train_scaled, link=\"logit\")"
   ]
  },
  {
   "cell_type": "code",
   "execution_count": 42,
   "id": "ebdcac88",
   "metadata": {},
   "outputs": [],
   "source": [
    "x = np.ones((16, 16))"
   ]
  },
  {
   "cell_type": "code",
   "execution_count": 43,
   "id": "96f5ce58",
   "metadata": {},
   "outputs": [],
   "source": [
    "sys.stdout = sys.__stdout__"
   ]
  },
  {
   "cell_type": "code",
   "execution_count": 44,
   "id": "cb727ec3",
   "metadata": {},
   "outputs": [],
   "source": [
    "e = explainer.explain(np.ones((1, 4)))"
   ]
  },
  {
   "cell_type": "code",
   "execution_count": 45,
   "id": "24d5b983",
   "metadata": {},
   "outputs": [],
   "source": [
    "# sys.stdout = stdout"
   ]
  },
  {
   "cell_type": "code",
   "execution_count": 46,
   "id": "d2611e83",
   "metadata": {},
   "outputs": [
    {
     "data": {
      "application/vnd.jupyter.widget-view+json": {
       "model_id": "36e6cb3716e44576970c3bd86602b757",
       "version_major": 2,
       "version_minor": 0
      },
      "text/plain": [
       "  0%|          | 0/16 [00:00<?, ?it/s]"
      ]
     },
     "metadata": {},
     "output_type": "display_data"
    }
   ],
   "source": [
    "shap_values = explainer.shap_values(X=x)"
   ]
  },
  {
   "cell_type": "code",
   "execution_count": 47,
   "id": "56cc1e53",
   "metadata": {},
   "outputs": [
    {
     "data": {
      "text/plain": [
       "array([[0., 0., 0., 0.],\n",
       "       [0., 0., 0., 0.],\n",
       "       [0., 0., 0., 0.],\n",
       "       [0., 0., 0., 0.],\n",
       "       [0., 0., 0., 0.],\n",
       "       [0., 0., 0., 0.],\n",
       "       [0., 0., 0., 0.],\n",
       "       [0., 0., 0., 0.],\n",
       "       [0., 0., 0., 0.],\n",
       "       [0., 0., 0., 0.],\n",
       "       [0., 0., 0., 0.],\n",
       "       [0., 0., 0., 0.],\n",
       "       [0., 0., 0., 0.],\n",
       "       [0., 0., 0., 0.],\n",
       "       [0., 0., 0., 0.],\n",
       "       [0., 0., 0., 0.]])"
      ]
     },
     "execution_count": 47,
     "metadata": {},
     "output_type": "execute_result"
    }
   ],
   "source": [
    "shap_values"
   ]
  },
  {
   "cell_type": "code",
   "execution_count": 48,
   "id": "4ccbe970",
   "metadata": {},
   "outputs": [],
   "source": [
    "# shap_values.shape"
   ]
  },
  {
   "cell_type": "code",
   "execution_count": 49,
   "id": "a09ce288",
   "metadata": {},
   "outputs": [],
   "source": [
    "# Prints the SHAP feature importances\n",
    "# print_feature_importances_shap_values(shap_values, X.columns)"
   ]
  },
  {
   "cell_type": "code",
   "execution_count": 23,
   "id": "343dd65a",
   "metadata": {},
   "outputs": [],
   "source": [
    "# gene_shap.plots.bar(shap_values)"
   ]
  },
  {
   "cell_type": "code",
   "execution_count": 24,
   "id": "1cfe7b50",
   "metadata": {},
   "outputs": [],
   "source": [
    "# Plots the beeswarm\n",
    "# gene_shap.plots.beeswarm(shap_values)"
   ]
  },
  {
   "cell_type": "code",
   "execution_count": null,
   "id": "5a2f84c7",
   "metadata": {},
   "outputs": [],
   "source": []
  }
 ],
 "metadata": {
  "kernelspec": {
   "display_name": "Python 3 (ipykernel)",
   "language": "python",
   "name": "python3"
  },
  "language_info": {
   "codemirror_mode": {
    "name": "ipython",
    "version": 3
   },
   "file_extension": ".py",
   "mimetype": "text/x-python",
   "name": "python",
   "nbconvert_exporter": "python",
   "pygments_lexer": "ipython3",
   "version": "3.10.9"
  }
 },
 "nbformat": 4,
 "nbformat_minor": 5
}
