{
 "cells": [
  {
   "cell_type": "code",
   "execution_count": 3,
   "id": "429b3568",
   "metadata": {},
   "outputs": [],
   "source": [
    "import math\n",
    "import pandas as pd\n",
    "import tensorflow as tf\n",
    "# import keras_tuner.tuners as kt\n",
    "import matplotlib.pyplot as plt\n",
    "import keras\n",
    "from tensorflow.keras import Model\n",
    "from tensorflow.keras import Sequential\n",
    "from sklearn.preprocessing import StandardScaler\n",
    "from tensorflow.keras.layers import Dense, Dropout\n",
    "from sklearn.model_selection import train_test_split\n",
    "from tensorflow.keras.losses import MeanSquaredLogarithmicError\n",
    "import numpy as np\n",
    "import pickle\n",
    "np.random.seed(0)\n",
    "from tensorflow.keras import Input\n",
    "from tensorflow.keras.layers import Conv1D, Conv2D, LeakyReLU, MaxPool1D, AveragePooling1D, UpSampling1D, Flatten, Dense, Reshape, BatchNormalization\n",
    "# https://towardsdatascience.com/improve-your-model-performance-with-auto-encoders-d4ee543b4154\n",
    "from tensorflow.keras import initializers\n",
    "from keras.wrappers.scikit_learn import KerasRegressor\n",
    "from sklearn.model_selection import GridSearchCV\n",
    "from scipy.stats import multivariate_normal\n",
    "from keras.optimizers import Adam, SGD, Adadelta\n",
    "\n",
    "from keras.optimizers import Adam, SGD, Adadelta"
   ]
  },
  {
   "cell_type": "code",
   "execution_count": 4,
   "id": "a2f2c22a",
   "metadata": {},
   "outputs": [
    {
     "data": {
      "text/html": [
       "<div>\n",
       "<style scoped>\n",
       "    .dataframe tbody tr th:only-of-type {\n",
       "        vertical-align: middle;\n",
       "    }\n",
       "\n",
       "    .dataframe tbody tr th {\n",
       "        vertical-align: top;\n",
       "    }\n",
       "\n",
       "    .dataframe thead th {\n",
       "        text-align: right;\n",
       "    }\n",
       "</style>\n",
       "<table border=\"1\" class=\"dataframe\">\n",
       "  <thead>\n",
       "    <tr style=\"text-align: right;\">\n",
       "      <th></th>\n",
       "      <th>AADAC</th>\n",
       "      <th>APOA1</th>\n",
       "      <th>APOA4</th>\n",
       "      <th>APOB</th>\n",
       "      <th>APOC3</th>\n",
       "      <th>AQP9</th>\n",
       "      <th>C6</th>\n",
       "      <th>CEACAM7</th>\n",
       "      <th>CHI3L1</th>\n",
       "      <th>ABCC2</th>\n",
       "      <th>...</th>\n",
       "      <th>TAF15</th>\n",
       "      <th>ZFYVE20</th>\n",
       "      <th>LOC100420253</th>\n",
       "      <th>LY6G5B</th>\n",
       "      <th>C5orf58</th>\n",
       "      <th>RSL24D1P1</th>\n",
       "      <th>MIEN1</th>\n",
       "      <th>PCBP1_AS1</th>\n",
       "      <th>LOC100133165</th>\n",
       "      <th>DNAJB8</th>\n",
       "    </tr>\n",
       "    <tr>\n",
       "      <th>Patient_ID</th>\n",
       "      <th></th>\n",
       "      <th></th>\n",
       "      <th></th>\n",
       "      <th></th>\n",
       "      <th></th>\n",
       "      <th></th>\n",
       "      <th></th>\n",
       "      <th></th>\n",
       "      <th></th>\n",
       "      <th></th>\n",
       "      <th></th>\n",
       "      <th></th>\n",
       "      <th></th>\n",
       "      <th></th>\n",
       "      <th></th>\n",
       "      <th></th>\n",
       "      <th></th>\n",
       "      <th></th>\n",
       "      <th></th>\n",
       "      <th></th>\n",
       "      <th></th>\n",
       "    </tr>\n",
       "  </thead>\n",
       "  <tbody>\n",
       "    <tr>\n",
       "      <th>55_control</th>\n",
       "      <td>0.702813</td>\n",
       "      <td>0.799052</td>\n",
       "      <td>0.719665</td>\n",
       "      <td>0.729547</td>\n",
       "      <td>0.794953</td>\n",
       "      <td>0.256451</td>\n",
       "      <td>1.000000</td>\n",
       "      <td>0.363133</td>\n",
       "      <td>0.374212</td>\n",
       "      <td>0.611161</td>\n",
       "      <td>...</td>\n",
       "      <td>0.468042</td>\n",
       "      <td>0.335792</td>\n",
       "      <td>0.0</td>\n",
       "      <td>0.609518</td>\n",
       "      <td>0.535456</td>\n",
       "      <td>0.0</td>\n",
       "      <td>0.543158</td>\n",
       "      <td>0.622641</td>\n",
       "      <td>0.0</td>\n",
       "      <td>1.0</td>\n",
       "    </tr>\n",
       "    <tr>\n",
       "      <th>168_CD_plain</th>\n",
       "      <td>0.751408</td>\n",
       "      <td>0.603707</td>\n",
       "      <td>0.622768</td>\n",
       "      <td>0.627712</td>\n",
       "      <td>0.606860</td>\n",
       "      <td>0.520576</td>\n",
       "      <td>0.311962</td>\n",
       "      <td>0.251356</td>\n",
       "      <td>0.553554</td>\n",
       "      <td>0.441131</td>\n",
       "      <td>...</td>\n",
       "      <td>0.000000</td>\n",
       "      <td>0.159464</td>\n",
       "      <td>0.0</td>\n",
       "      <td>0.173529</td>\n",
       "      <td>0.018188</td>\n",
       "      <td>0.0</td>\n",
       "      <td>0.623796</td>\n",
       "      <td>0.301179</td>\n",
       "      <td>0.0</td>\n",
       "      <td>0.0</td>\n",
       "    </tr>\n",
       "    <tr>\n",
       "      <th>72_control</th>\n",
       "      <td>0.786508</td>\n",
       "      <td>0.755331</td>\n",
       "      <td>0.739605</td>\n",
       "      <td>0.756170</td>\n",
       "      <td>0.819875</td>\n",
       "      <td>0.391132</td>\n",
       "      <td>0.648401</td>\n",
       "      <td>0.134017</td>\n",
       "      <td>0.200420</td>\n",
       "      <td>0.679453</td>\n",
       "      <td>...</td>\n",
       "      <td>0.335173</td>\n",
       "      <td>0.241577</td>\n",
       "      <td>0.0</td>\n",
       "      <td>0.659563</td>\n",
       "      <td>0.000000</td>\n",
       "      <td>0.0</td>\n",
       "      <td>0.853118</td>\n",
       "      <td>0.431083</td>\n",
       "      <td>0.0</td>\n",
       "      <td>0.0</td>\n",
       "    </tr>\n",
       "    <tr>\n",
       "      <th>120_control</th>\n",
       "      <td>0.707491</td>\n",
       "      <td>0.662993</td>\n",
       "      <td>0.648072</td>\n",
       "      <td>0.764621</td>\n",
       "      <td>0.654276</td>\n",
       "      <td>0.633929</td>\n",
       "      <td>0.579519</td>\n",
       "      <td>0.248934</td>\n",
       "      <td>0.759250</td>\n",
       "      <td>0.755407</td>\n",
       "      <td>...</td>\n",
       "      <td>0.181256</td>\n",
       "      <td>0.297248</td>\n",
       "      <td>0.0</td>\n",
       "      <td>0.837676</td>\n",
       "      <td>0.480372</td>\n",
       "      <td>0.0</td>\n",
       "      <td>0.392582</td>\n",
       "      <td>0.390569</td>\n",
       "      <td>0.0</td>\n",
       "      <td>0.0</td>\n",
       "    </tr>\n",
       "    <tr>\n",
       "      <th>258_CD_plain</th>\n",
       "      <td>0.701039</td>\n",
       "      <td>0.662511</td>\n",
       "      <td>0.707208</td>\n",
       "      <td>0.834562</td>\n",
       "      <td>0.670160</td>\n",
       "      <td>0.410612</td>\n",
       "      <td>0.370517</td>\n",
       "      <td>0.244987</td>\n",
       "      <td>0.445387</td>\n",
       "      <td>0.798000</td>\n",
       "      <td>...</td>\n",
       "      <td>0.319013</td>\n",
       "      <td>0.306320</td>\n",
       "      <td>0.0</td>\n",
       "      <td>0.893448</td>\n",
       "      <td>0.485539</td>\n",
       "      <td>0.0</td>\n",
       "      <td>0.259900</td>\n",
       "      <td>0.431818</td>\n",
       "      <td>0.0</td>\n",
       "      <td>0.0</td>\n",
       "    </tr>\n",
       "    <tr>\n",
       "      <th>...</th>\n",
       "      <td>...</td>\n",
       "      <td>...</td>\n",
       "      <td>...</td>\n",
       "      <td>...</td>\n",
       "      <td>...</td>\n",
       "      <td>...</td>\n",
       "      <td>...</td>\n",
       "      <td>...</td>\n",
       "      <td>...</td>\n",
       "      <td>...</td>\n",
       "      <td>...</td>\n",
       "      <td>...</td>\n",
       "      <td>...</td>\n",
       "      <td>...</td>\n",
       "      <td>...</td>\n",
       "      <td>...</td>\n",
       "      <td>...</td>\n",
       "      <td>...</td>\n",
       "      <td>...</td>\n",
       "      <td>...</td>\n",
       "      <td>...</td>\n",
       "    </tr>\n",
       "    <tr>\n",
       "      <th>15_CD_plain</th>\n",
       "      <td>0.382762</td>\n",
       "      <td>0.384030</td>\n",
       "      <td>0.377332</td>\n",
       "      <td>0.360165</td>\n",
       "      <td>0.300915</td>\n",
       "      <td>0.340090</td>\n",
       "      <td>0.077348</td>\n",
       "      <td>0.890965</td>\n",
       "      <td>0.261140</td>\n",
       "      <td>0.205779</td>\n",
       "      <td>...</td>\n",
       "      <td>0.209212</td>\n",
       "      <td>0.301844</td>\n",
       "      <td>0.0</td>\n",
       "      <td>0.643267</td>\n",
       "      <td>0.143476</td>\n",
       "      <td>0.0</td>\n",
       "      <td>0.262892</td>\n",
       "      <td>0.189790</td>\n",
       "      <td>0.0</td>\n",
       "      <td>0.0</td>\n",
       "    </tr>\n",
       "    <tr>\n",
       "      <th>182_CD_plain</th>\n",
       "      <td>0.679910</td>\n",
       "      <td>0.584723</td>\n",
       "      <td>0.722426</td>\n",
       "      <td>0.643867</td>\n",
       "      <td>0.740014</td>\n",
       "      <td>0.650358</td>\n",
       "      <td>0.468650</td>\n",
       "      <td>0.295686</td>\n",
       "      <td>0.649939</td>\n",
       "      <td>0.609862</td>\n",
       "      <td>...</td>\n",
       "      <td>0.408592</td>\n",
       "      <td>0.042243</td>\n",
       "      <td>0.0</td>\n",
       "      <td>0.765285</td>\n",
       "      <td>0.527984</td>\n",
       "      <td>0.0</td>\n",
       "      <td>0.413798</td>\n",
       "      <td>0.270021</td>\n",
       "      <td>0.0</td>\n",
       "      <td>0.0</td>\n",
       "    </tr>\n",
       "    <tr>\n",
       "      <th>164_CD_plain</th>\n",
       "      <td>0.754656</td>\n",
       "      <td>0.556562</td>\n",
       "      <td>0.694062</td>\n",
       "      <td>0.748334</td>\n",
       "      <td>0.535534</td>\n",
       "      <td>0.133869</td>\n",
       "      <td>0.319071</td>\n",
       "      <td>0.154562</td>\n",
       "      <td>0.440487</td>\n",
       "      <td>0.824013</td>\n",
       "      <td>...</td>\n",
       "      <td>0.514164</td>\n",
       "      <td>0.364434</td>\n",
       "      <td>0.0</td>\n",
       "      <td>0.930260</td>\n",
       "      <td>0.481733</td>\n",
       "      <td>0.0</td>\n",
       "      <td>0.273699</td>\n",
       "      <td>0.433093</td>\n",
       "      <td>0.0</td>\n",
       "      <td>0.0</td>\n",
       "    </tr>\n",
       "    <tr>\n",
       "      <th>53_CD_plain</th>\n",
       "      <td>0.591140</td>\n",
       "      <td>0.585802</td>\n",
       "      <td>0.750282</td>\n",
       "      <td>0.753309</td>\n",
       "      <td>0.603372</td>\n",
       "      <td>0.469634</td>\n",
       "      <td>0.213239</td>\n",
       "      <td>0.348800</td>\n",
       "      <td>0.485094</td>\n",
       "      <td>0.722492</td>\n",
       "      <td>...</td>\n",
       "      <td>0.428242</td>\n",
       "      <td>0.315197</td>\n",
       "      <td>0.0</td>\n",
       "      <td>0.877855</td>\n",
       "      <td>0.628071</td>\n",
       "      <td>0.0</td>\n",
       "      <td>0.183718</td>\n",
       "      <td>0.302030</td>\n",
       "      <td>0.0</td>\n",
       "      <td>0.0</td>\n",
       "    </tr>\n",
       "    <tr>\n",
       "      <th>97_CD_plain</th>\n",
       "      <td>0.817125</td>\n",
       "      <td>0.782223</td>\n",
       "      <td>0.854442</td>\n",
       "      <td>0.867360</td>\n",
       "      <td>0.793421</td>\n",
       "      <td>0.726438</td>\n",
       "      <td>0.246396</td>\n",
       "      <td>0.228774</td>\n",
       "      <td>0.611752</td>\n",
       "      <td>0.699944</td>\n",
       "      <td>...</td>\n",
       "      <td>0.261123</td>\n",
       "      <td>0.099541</td>\n",
       "      <td>0.0</td>\n",
       "      <td>0.156787</td>\n",
       "      <td>0.293838</td>\n",
       "      <td>0.0</td>\n",
       "      <td>0.561414</td>\n",
       "      <td>0.027077</td>\n",
       "      <td>0.0</td>\n",
       "      <td>0.0</td>\n",
       "    </tr>\n",
       "  </tbody>\n",
       "</table>\n",
       "<p>182 rows × 219 columns</p>\n",
       "</div>"
      ],
      "text/plain": [
       "                 AADAC     APOA1     APOA4      APOB     APOC3      AQP9  \\\n",
       "Patient_ID                                                                 \n",
       "55_control    0.702813  0.799052  0.719665  0.729547  0.794953  0.256451   \n",
       "168_CD_plain  0.751408  0.603707  0.622768  0.627712  0.606860  0.520576   \n",
       "72_control    0.786508  0.755331  0.739605  0.756170  0.819875  0.391132   \n",
       "120_control   0.707491  0.662993  0.648072  0.764621  0.654276  0.633929   \n",
       "258_CD_plain  0.701039  0.662511  0.707208  0.834562  0.670160  0.410612   \n",
       "...                ...       ...       ...       ...       ...       ...   \n",
       "15_CD_plain   0.382762  0.384030  0.377332  0.360165  0.300915  0.340090   \n",
       "182_CD_plain  0.679910  0.584723  0.722426  0.643867  0.740014  0.650358   \n",
       "164_CD_plain  0.754656  0.556562  0.694062  0.748334  0.535534  0.133869   \n",
       "53_CD_plain   0.591140  0.585802  0.750282  0.753309  0.603372  0.469634   \n",
       "97_CD_plain   0.817125  0.782223  0.854442  0.867360  0.793421  0.726438   \n",
       "\n",
       "                    C6   CEACAM7    CHI3L1     ABCC2  ...     TAF15   ZFYVE20  \\\n",
       "Patient_ID                                            ...                       \n",
       "55_control    1.000000  0.363133  0.374212  0.611161  ...  0.468042  0.335792   \n",
       "168_CD_plain  0.311962  0.251356  0.553554  0.441131  ...  0.000000  0.159464   \n",
       "72_control    0.648401  0.134017  0.200420  0.679453  ...  0.335173  0.241577   \n",
       "120_control   0.579519  0.248934  0.759250  0.755407  ...  0.181256  0.297248   \n",
       "258_CD_plain  0.370517  0.244987  0.445387  0.798000  ...  0.319013  0.306320   \n",
       "...                ...       ...       ...       ...  ...       ...       ...   \n",
       "15_CD_plain   0.077348  0.890965  0.261140  0.205779  ...  0.209212  0.301844   \n",
       "182_CD_plain  0.468650  0.295686  0.649939  0.609862  ...  0.408592  0.042243   \n",
       "164_CD_plain  0.319071  0.154562  0.440487  0.824013  ...  0.514164  0.364434   \n",
       "53_CD_plain   0.213239  0.348800  0.485094  0.722492  ...  0.428242  0.315197   \n",
       "97_CD_plain   0.246396  0.228774  0.611752  0.699944  ...  0.261123  0.099541   \n",
       "\n",
       "              LOC100420253    LY6G5B   C5orf58  RSL24D1P1     MIEN1  \\\n",
       "Patient_ID                                                            \n",
       "55_control             0.0  0.609518  0.535456        0.0  0.543158   \n",
       "168_CD_plain           0.0  0.173529  0.018188        0.0  0.623796   \n",
       "72_control             0.0  0.659563  0.000000        0.0  0.853118   \n",
       "120_control            0.0  0.837676  0.480372        0.0  0.392582   \n",
       "258_CD_plain           0.0  0.893448  0.485539        0.0  0.259900   \n",
       "...                    ...       ...       ...        ...       ...   \n",
       "15_CD_plain            0.0  0.643267  0.143476        0.0  0.262892   \n",
       "182_CD_plain           0.0  0.765285  0.527984        0.0  0.413798   \n",
       "164_CD_plain           0.0  0.930260  0.481733        0.0  0.273699   \n",
       "53_CD_plain            0.0  0.877855  0.628071        0.0  0.183718   \n",
       "97_CD_plain            0.0  0.156787  0.293838        0.0  0.561414   \n",
       "\n",
       "              PCBP1_AS1  LOC100133165  DNAJB8  \n",
       "Patient_ID                                     \n",
       "55_control     0.622641           0.0     1.0  \n",
       "168_CD_plain   0.301179           0.0     0.0  \n",
       "72_control     0.431083           0.0     0.0  \n",
       "120_control    0.390569           0.0     0.0  \n",
       "258_CD_plain   0.431818           0.0     0.0  \n",
       "...                 ...           ...     ...  \n",
       "15_CD_plain    0.189790           0.0     0.0  \n",
       "182_CD_plain   0.270021           0.0     0.0  \n",
       "164_CD_plain   0.433093           0.0     0.0  \n",
       "53_CD_plain    0.302030           0.0     0.0  \n",
       "97_CD_plain    0.027077           0.0     0.0  \n",
       "\n",
       "[182 rows x 219 columns]"
      ]
     },
     "execution_count": 4,
     "metadata": {},
     "output_type": "execute_result"
    }
   ],
   "source": [
    "x_train_scaled = pd.read_csv('../260_sample_train_scaled.csv').set_index(\"Patient_ID\")\n",
    "x_train_scaled"
   ]
  },
  {
   "cell_type": "code",
   "execution_count": 5,
   "id": "8d78cff8",
   "metadata": {},
   "outputs": [
    {
     "data": {
      "text/html": [
       "<div>\n",
       "<style scoped>\n",
       "    .dataframe tbody tr th:only-of-type {\n",
       "        vertical-align: middle;\n",
       "    }\n",
       "\n",
       "    .dataframe tbody tr th {\n",
       "        vertical-align: top;\n",
       "    }\n",
       "\n",
       "    .dataframe thead th {\n",
       "        text-align: right;\n",
       "    }\n",
       "</style>\n",
       "<table border=\"1\" class=\"dataframe\">\n",
       "  <thead>\n",
       "    <tr style=\"text-align: right;\">\n",
       "      <th></th>\n",
       "      <th>AADAC</th>\n",
       "      <th>APOA1</th>\n",
       "      <th>APOA4</th>\n",
       "      <th>APOB</th>\n",
       "      <th>APOC3</th>\n",
       "      <th>AQP9</th>\n",
       "      <th>C6</th>\n",
       "      <th>CEACAM7</th>\n",
       "      <th>CHI3L1</th>\n",
       "      <th>ABCC2</th>\n",
       "      <th>...</th>\n",
       "      <th>TAF15</th>\n",
       "      <th>ZFYVE20</th>\n",
       "      <th>LOC100420253</th>\n",
       "      <th>LY6G5B</th>\n",
       "      <th>C5orf58</th>\n",
       "      <th>RSL24D1P1</th>\n",
       "      <th>MIEN1</th>\n",
       "      <th>PCBP1_AS1</th>\n",
       "      <th>LOC100133165</th>\n",
       "      <th>DNAJB8</th>\n",
       "    </tr>\n",
       "    <tr>\n",
       "      <th>Patient_ID</th>\n",
       "      <th></th>\n",
       "      <th></th>\n",
       "      <th></th>\n",
       "      <th></th>\n",
       "      <th></th>\n",
       "      <th></th>\n",
       "      <th></th>\n",
       "      <th></th>\n",
       "      <th></th>\n",
       "      <th></th>\n",
       "      <th></th>\n",
       "      <th></th>\n",
       "      <th></th>\n",
       "      <th></th>\n",
       "      <th></th>\n",
       "      <th></th>\n",
       "      <th></th>\n",
       "      <th></th>\n",
       "      <th></th>\n",
       "      <th></th>\n",
       "      <th></th>\n",
       "    </tr>\n",
       "  </thead>\n",
       "  <tbody>\n",
       "    <tr>\n",
       "      <th>253_CD_plain</th>\n",
       "      <td>0.869185</td>\n",
       "      <td>0.841880</td>\n",
       "      <td>0.930171</td>\n",
       "      <td>0.886737</td>\n",
       "      <td>0.835678</td>\n",
       "      <td>0.297964</td>\n",
       "      <td>0.668498</td>\n",
       "      <td>0.266670</td>\n",
       "      <td>0.278122</td>\n",
       "      <td>0.933520</td>\n",
       "      <td>...</td>\n",
       "      <td>0.339788</td>\n",
       "      <td>0.326732</td>\n",
       "      <td>0.0</td>\n",
       "      <td>0.862246</td>\n",
       "      <td>0.074473</td>\n",
       "      <td>0.0</td>\n",
       "      <td>0.498941</td>\n",
       "      <td>0.349920</td>\n",
       "      <td>0.0</td>\n",
       "      <td>0.0</td>\n",
       "    </tr>\n",
       "    <tr>\n",
       "      <th>105_CD_plain</th>\n",
       "      <td>0.853562</td>\n",
       "      <td>0.933532</td>\n",
       "      <td>0.942213</td>\n",
       "      <td>0.794578</td>\n",
       "      <td>0.890482</td>\n",
       "      <td>0.206529</td>\n",
       "      <td>0.298987</td>\n",
       "      <td>0.350745</td>\n",
       "      <td>0.495663</td>\n",
       "      <td>0.849038</td>\n",
       "      <td>...</td>\n",
       "      <td>0.354602</td>\n",
       "      <td>-0.031527</td>\n",
       "      <td>0.0</td>\n",
       "      <td>0.717305</td>\n",
       "      <td>0.039214</td>\n",
       "      <td>0.0</td>\n",
       "      <td>0.697073</td>\n",
       "      <td>0.268224</td>\n",
       "      <td>0.0</td>\n",
       "      <td>0.0</td>\n",
       "    </tr>\n",
       "    <tr>\n",
       "      <th>2_CD_plain</th>\n",
       "      <td>0.165531</td>\n",
       "      <td>0.141475</td>\n",
       "      <td>0.263684</td>\n",
       "      <td>0.198091</td>\n",
       "      <td>0.160503</td>\n",
       "      <td>0.888878</td>\n",
       "      <td>0.000000</td>\n",
       "      <td>0.134461</td>\n",
       "      <td>0.989132</td>\n",
       "      <td>0.202203</td>\n",
       "      <td>...</td>\n",
       "      <td>0.320002</td>\n",
       "      <td>0.379134</td>\n",
       "      <td>0.0</td>\n",
       "      <td>0.604202</td>\n",
       "      <td>0.610072</td>\n",
       "      <td>0.0</td>\n",
       "      <td>0.324065</td>\n",
       "      <td>0.375123</td>\n",
       "      <td>0.0</td>\n",
       "      <td>0.0</td>\n",
       "    </tr>\n",
       "    <tr>\n",
       "      <th>184_CD_plain</th>\n",
       "      <td>0.717121</td>\n",
       "      <td>0.660314</td>\n",
       "      <td>0.769417</td>\n",
       "      <td>0.752737</td>\n",
       "      <td>0.694874</td>\n",
       "      <td>0.514735</td>\n",
       "      <td>0.692365</td>\n",
       "      <td>0.271127</td>\n",
       "      <td>0.650742</td>\n",
       "      <td>0.694599</td>\n",
       "      <td>...</td>\n",
       "      <td>0.445680</td>\n",
       "      <td>0.178908</td>\n",
       "      <td>0.0</td>\n",
       "      <td>0.702114</td>\n",
       "      <td>0.325357</td>\n",
       "      <td>0.0</td>\n",
       "      <td>0.390919</td>\n",
       "      <td>0.185509</td>\n",
       "      <td>0.0</td>\n",
       "      <td>0.0</td>\n",
       "    </tr>\n",
       "    <tr>\n",
       "      <th>312_CD_plain</th>\n",
       "      <td>0.730072</td>\n",
       "      <td>0.722909</td>\n",
       "      <td>0.713076</td>\n",
       "      <td>0.743545</td>\n",
       "      <td>0.679258</td>\n",
       "      <td>0.308459</td>\n",
       "      <td>0.399235</td>\n",
       "      <td>0.129019</td>\n",
       "      <td>0.597529</td>\n",
       "      <td>0.720390</td>\n",
       "      <td>...</td>\n",
       "      <td>0.419254</td>\n",
       "      <td>0.312215</td>\n",
       "      <td>0.0</td>\n",
       "      <td>0.821584</td>\n",
       "      <td>0.632007</td>\n",
       "      <td>0.0</td>\n",
       "      <td>0.183158</td>\n",
       "      <td>0.271359</td>\n",
       "      <td>0.0</td>\n",
       "      <td>0.0</td>\n",
       "    </tr>\n",
       "    <tr>\n",
       "      <th>...</th>\n",
       "      <td>...</td>\n",
       "      <td>...</td>\n",
       "      <td>...</td>\n",
       "      <td>...</td>\n",
       "      <td>...</td>\n",
       "      <td>...</td>\n",
       "      <td>...</td>\n",
       "      <td>...</td>\n",
       "      <td>...</td>\n",
       "      <td>...</td>\n",
       "      <td>...</td>\n",
       "      <td>...</td>\n",
       "      <td>...</td>\n",
       "      <td>...</td>\n",
       "      <td>...</td>\n",
       "      <td>...</td>\n",
       "      <td>...</td>\n",
       "      <td>...</td>\n",
       "      <td>...</td>\n",
       "      <td>...</td>\n",
       "      <td>...</td>\n",
       "    </tr>\n",
       "    <tr>\n",
       "      <th>107_CD_plain</th>\n",
       "      <td>0.736123</td>\n",
       "      <td>0.658232</td>\n",
       "      <td>0.772323</td>\n",
       "      <td>0.685637</td>\n",
       "      <td>0.658755</td>\n",
       "      <td>0.250970</td>\n",
       "      <td>0.247307</td>\n",
       "      <td>0.422075</td>\n",
       "      <td>0.555944</td>\n",
       "      <td>0.603675</td>\n",
       "      <td>...</td>\n",
       "      <td>0.379431</td>\n",
       "      <td>0.233196</td>\n",
       "      <td>0.0</td>\n",
       "      <td>0.759342</td>\n",
       "      <td>0.567491</td>\n",
       "      <td>0.0</td>\n",
       "      <td>0.404604</td>\n",
       "      <td>0.190411</td>\n",
       "      <td>0.0</td>\n",
       "      <td>0.0</td>\n",
       "    </tr>\n",
       "    <tr>\n",
       "      <th>279_CD_plain</th>\n",
       "      <td>0.220614</td>\n",
       "      <td>0.202090</td>\n",
       "      <td>0.182810</td>\n",
       "      <td>0.113245</td>\n",
       "      <td>0.105744</td>\n",
       "      <td>0.699851</td>\n",
       "      <td>0.000000</td>\n",
       "      <td>0.908485</td>\n",
       "      <td>0.688912</td>\n",
       "      <td>0.178259</td>\n",
       "      <td>...</td>\n",
       "      <td>0.181052</td>\n",
       "      <td>0.342262</td>\n",
       "      <td>0.0</td>\n",
       "      <td>0.639644</td>\n",
       "      <td>0.540444</td>\n",
       "      <td>0.0</td>\n",
       "      <td>0.397274</td>\n",
       "      <td>0.061934</td>\n",
       "      <td>0.0</td>\n",
       "      <td>0.0</td>\n",
       "    </tr>\n",
       "    <tr>\n",
       "      <th>179_CD_plain</th>\n",
       "      <td>0.724476</td>\n",
       "      <td>0.726774</td>\n",
       "      <td>0.766943</td>\n",
       "      <td>0.776284</td>\n",
       "      <td>0.690339</td>\n",
       "      <td>0.380637</td>\n",
       "      <td>0.440449</td>\n",
       "      <td>0.318944</td>\n",
       "      <td>0.558600</td>\n",
       "      <td>0.738787</td>\n",
       "      <td>...</td>\n",
       "      <td>0.331961</td>\n",
       "      <td>0.275577</td>\n",
       "      <td>0.0</td>\n",
       "      <td>0.886616</td>\n",
       "      <td>0.658049</td>\n",
       "      <td>0.0</td>\n",
       "      <td>0.259391</td>\n",
       "      <td>0.471132</td>\n",
       "      <td>0.0</td>\n",
       "      <td>0.0</td>\n",
       "    </tr>\n",
       "    <tr>\n",
       "      <th>70_CD_deep_ulcer</th>\n",
       "      <td>0.488321</td>\n",
       "      <td>0.495439</td>\n",
       "      <td>0.574906</td>\n",
       "      <td>0.491337</td>\n",
       "      <td>0.540073</td>\n",
       "      <td>0.525943</td>\n",
       "      <td>0.397648</td>\n",
       "      <td>0.414520</td>\n",
       "      <td>0.709700</td>\n",
       "      <td>0.389618</td>\n",
       "      <td>...</td>\n",
       "      <td>0.416087</td>\n",
       "      <td>0.252402</td>\n",
       "      <td>0.0</td>\n",
       "      <td>0.931974</td>\n",
       "      <td>0.370181</td>\n",
       "      <td>0.0</td>\n",
       "      <td>0.463922</td>\n",
       "      <td>0.413834</td>\n",
       "      <td>0.0</td>\n",
       "      <td>0.0</td>\n",
       "    </tr>\n",
       "    <tr>\n",
       "      <th>256_CD_deep_ulcer</th>\n",
       "      <td>0.609459</td>\n",
       "      <td>0.598912</td>\n",
       "      <td>0.682050</td>\n",
       "      <td>0.765806</td>\n",
       "      <td>0.648350</td>\n",
       "      <td>0.450384</td>\n",
       "      <td>0.000000</td>\n",
       "      <td>0.377102</td>\n",
       "      <td>0.444380</td>\n",
       "      <td>0.667302</td>\n",
       "      <td>...</td>\n",
       "      <td>0.270050</td>\n",
       "      <td>0.268483</td>\n",
       "      <td>0.0</td>\n",
       "      <td>0.711803</td>\n",
       "      <td>0.243749</td>\n",
       "      <td>0.0</td>\n",
       "      <td>0.345240</td>\n",
       "      <td>0.380147</td>\n",
       "      <td>0.0</td>\n",
       "      <td>0.0</td>\n",
       "    </tr>\n",
       "  </tbody>\n",
       "</table>\n",
       "<p>78 rows × 219 columns</p>\n",
       "</div>"
      ],
      "text/plain": [
       "                      AADAC     APOA1     APOA4      APOB     APOC3      AQP9  \\\n",
       "Patient_ID                                                                      \n",
       "253_CD_plain       0.869185  0.841880  0.930171  0.886737  0.835678  0.297964   \n",
       "105_CD_plain       0.853562  0.933532  0.942213  0.794578  0.890482  0.206529   \n",
       "2_CD_plain         0.165531  0.141475  0.263684  0.198091  0.160503  0.888878   \n",
       "184_CD_plain       0.717121  0.660314  0.769417  0.752737  0.694874  0.514735   \n",
       "312_CD_plain       0.730072  0.722909  0.713076  0.743545  0.679258  0.308459   \n",
       "...                     ...       ...       ...       ...       ...       ...   \n",
       "107_CD_plain       0.736123  0.658232  0.772323  0.685637  0.658755  0.250970   \n",
       "279_CD_plain       0.220614  0.202090  0.182810  0.113245  0.105744  0.699851   \n",
       "179_CD_plain       0.724476  0.726774  0.766943  0.776284  0.690339  0.380637   \n",
       "70_CD_deep_ulcer   0.488321  0.495439  0.574906  0.491337  0.540073  0.525943   \n",
       "256_CD_deep_ulcer  0.609459  0.598912  0.682050  0.765806  0.648350  0.450384   \n",
       "\n",
       "                         C6   CEACAM7    CHI3L1     ABCC2  ...     TAF15  \\\n",
       "Patient_ID                                                 ...             \n",
       "253_CD_plain       0.668498  0.266670  0.278122  0.933520  ...  0.339788   \n",
       "105_CD_plain       0.298987  0.350745  0.495663  0.849038  ...  0.354602   \n",
       "2_CD_plain         0.000000  0.134461  0.989132  0.202203  ...  0.320002   \n",
       "184_CD_plain       0.692365  0.271127  0.650742  0.694599  ...  0.445680   \n",
       "312_CD_plain       0.399235  0.129019  0.597529  0.720390  ...  0.419254   \n",
       "...                     ...       ...       ...       ...  ...       ...   \n",
       "107_CD_plain       0.247307  0.422075  0.555944  0.603675  ...  0.379431   \n",
       "279_CD_plain       0.000000  0.908485  0.688912  0.178259  ...  0.181052   \n",
       "179_CD_plain       0.440449  0.318944  0.558600  0.738787  ...  0.331961   \n",
       "70_CD_deep_ulcer   0.397648  0.414520  0.709700  0.389618  ...  0.416087   \n",
       "256_CD_deep_ulcer  0.000000  0.377102  0.444380  0.667302  ...  0.270050   \n",
       "\n",
       "                    ZFYVE20  LOC100420253    LY6G5B   C5orf58  RSL24D1P1  \\\n",
       "Patient_ID                                                                 \n",
       "253_CD_plain       0.326732           0.0  0.862246  0.074473        0.0   \n",
       "105_CD_plain      -0.031527           0.0  0.717305  0.039214        0.0   \n",
       "2_CD_plain         0.379134           0.0  0.604202  0.610072        0.0   \n",
       "184_CD_plain       0.178908           0.0  0.702114  0.325357        0.0   \n",
       "312_CD_plain       0.312215           0.0  0.821584  0.632007        0.0   \n",
       "...                     ...           ...       ...       ...        ...   \n",
       "107_CD_plain       0.233196           0.0  0.759342  0.567491        0.0   \n",
       "279_CD_plain       0.342262           0.0  0.639644  0.540444        0.0   \n",
       "179_CD_plain       0.275577           0.0  0.886616  0.658049        0.0   \n",
       "70_CD_deep_ulcer   0.252402           0.0  0.931974  0.370181        0.0   \n",
       "256_CD_deep_ulcer  0.268483           0.0  0.711803  0.243749        0.0   \n",
       "\n",
       "                      MIEN1  PCBP1_AS1  LOC100133165  DNAJB8  \n",
       "Patient_ID                                                    \n",
       "253_CD_plain       0.498941   0.349920           0.0     0.0  \n",
       "105_CD_plain       0.697073   0.268224           0.0     0.0  \n",
       "2_CD_plain         0.324065   0.375123           0.0     0.0  \n",
       "184_CD_plain       0.390919   0.185509           0.0     0.0  \n",
       "312_CD_plain       0.183158   0.271359           0.0     0.0  \n",
       "...                     ...        ...           ...     ...  \n",
       "107_CD_plain       0.404604   0.190411           0.0     0.0  \n",
       "279_CD_plain       0.397274   0.061934           0.0     0.0  \n",
       "179_CD_plain       0.259391   0.471132           0.0     0.0  \n",
       "70_CD_deep_ulcer   0.463922   0.413834           0.0     0.0  \n",
       "256_CD_deep_ulcer  0.345240   0.380147           0.0     0.0  \n",
       "\n",
       "[78 rows x 219 columns]"
      ]
     },
     "execution_count": 5,
     "metadata": {},
     "output_type": "execute_result"
    }
   ],
   "source": [
    "x_test_scaled = pd.read_csv('../260_sample_test_scaled.csv').set_index(\"Patient_ID\")\n",
    "x_test_scaled"
   ]
  },
  {
   "cell_type": "markdown",
   "id": "158a6513",
   "metadata": {},
   "source": [
    "## Construct multivariate normal distribution using means and correlations between pairs of genes"
   ]
  },
  {
   "cell_type": "code",
   "execution_count": null,
   "id": "5d47884c",
   "metadata": {},
   "outputs": [],
   "source": [
    "from numpy import inf\n",
    "from scipy.stats import norm\n",
    "from sklearn.preprocessing import MinMaxScaler\n",
    "from numpy import linalg as LA"
   ]
  },
  {
   "cell_type": "code",
   "execution_count": 562,
   "id": "8a49d95b",
   "metadata": {},
   "outputs": [],
   "source": [
    "x_stats = x_test_scaled.describe().iloc[[1,2,3,-1]]"
   ]
  },
  {
   "cell_type": "code",
   "execution_count": 563,
   "id": "5a9e98f3",
   "metadata": {},
   "outputs": [
    {
     "data": {
      "text/html": [
       "<div>\n",
       "<style scoped>\n",
       "    .dataframe tbody tr th:only-of-type {\n",
       "        vertical-align: middle;\n",
       "    }\n",
       "\n",
       "    .dataframe tbody tr th {\n",
       "        vertical-align: top;\n",
       "    }\n",
       "\n",
       "    .dataframe thead th {\n",
       "        text-align: right;\n",
       "    }\n",
       "</style>\n",
       "<table border=\"1\" class=\"dataframe\">\n",
       "  <thead>\n",
       "    <tr style=\"text-align: right;\">\n",
       "      <th></th>\n",
       "      <th>AADAC</th>\n",
       "      <th>APOA1</th>\n",
       "      <th>APOA4</th>\n",
       "      <th>APOB</th>\n",
       "      <th>APOC3</th>\n",
       "      <th>AQP9</th>\n",
       "      <th>C6</th>\n",
       "      <th>CEACAM7</th>\n",
       "      <th>CHI3L1</th>\n",
       "      <th>ABCC2</th>\n",
       "      <th>...</th>\n",
       "      <th>TAF15</th>\n",
       "      <th>ZFYVE20</th>\n",
       "      <th>LOC100420253</th>\n",
       "      <th>LY6G5B</th>\n",
       "      <th>C5orf58</th>\n",
       "      <th>RSL24D1P1</th>\n",
       "      <th>MIEN1</th>\n",
       "      <th>PCBP1_AS1</th>\n",
       "      <th>LOC100133165</th>\n",
       "      <th>DNAJB8</th>\n",
       "    </tr>\n",
       "  </thead>\n",
       "  <tbody>\n",
       "    <tr>\n",
       "      <th>mean</th>\n",
       "      <td>0.662326</td>\n",
       "      <td>0.615285</td>\n",
       "      <td>0.670829</td>\n",
       "      <td>0.658361</td>\n",
       "      <td>0.625205</td>\n",
       "      <td>0.459972</td>\n",
       "      <td>0.344742</td>\n",
       "      <td>0.345704</td>\n",
       "      <td>0.546377</td>\n",
       "      <td>0.595752</td>\n",
       "      <td>...</td>\n",
       "      <td>0.359887</td>\n",
       "      <td>0.248426</td>\n",
       "      <td>0.0</td>\n",
       "      <td>0.777372</td>\n",
       "      <td>0.440612</td>\n",
       "      <td>0.0</td>\n",
       "      <td>0.418557</td>\n",
       "      <td>0.331811</td>\n",
       "      <td>0.0</td>\n",
       "      <td>0.009305</td>\n",
       "    </tr>\n",
       "    <tr>\n",
       "      <th>std</th>\n",
       "      <td>0.186037</td>\n",
       "      <td>0.208824</td>\n",
       "      <td>0.196106</td>\n",
       "      <td>0.209957</td>\n",
       "      <td>0.200946</td>\n",
       "      <td>0.243852</td>\n",
       "      <td>0.282902</td>\n",
       "      <td>0.209450</td>\n",
       "      <td>0.221981</td>\n",
       "      <td>0.245207</td>\n",
       "      <td>...</td>\n",
       "      <td>0.106041</td>\n",
       "      <td>0.083038</td>\n",
       "      <td>0.0</td>\n",
       "      <td>0.129976</td>\n",
       "      <td>0.238418</td>\n",
       "      <td>0.0</td>\n",
       "      <td>0.197838</td>\n",
       "      <td>0.106248</td>\n",
       "      <td>0.0</td>\n",
       "      <td>0.082177</td>\n",
       "    </tr>\n",
       "    <tr>\n",
       "      <th>min</th>\n",
       "      <td>0.165531</td>\n",
       "      <td>0.141475</td>\n",
       "      <td>0.179189</td>\n",
       "      <td>0.041787</td>\n",
       "      <td>0.105744</td>\n",
       "      <td>0.000000</td>\n",
       "      <td>0.000000</td>\n",
       "      <td>0.000000</td>\n",
       "      <td>0.037820</td>\n",
       "      <td>0.077684</td>\n",
       "      <td>...</td>\n",
       "      <td>0.107633</td>\n",
       "      <td>-0.031527</td>\n",
       "      <td>0.0</td>\n",
       "      <td>0.323550</td>\n",
       "      <td>0.000000</td>\n",
       "      <td>0.0</td>\n",
       "      <td>0.048748</td>\n",
       "      <td>0.061934</td>\n",
       "      <td>0.0</td>\n",
       "      <td>0.000000</td>\n",
       "    </tr>\n",
       "    <tr>\n",
       "      <th>max</th>\n",
       "      <td>0.930585</td>\n",
       "      <td>1.029728</td>\n",
       "      <td>0.969910</td>\n",
       "      <td>0.950466</td>\n",
       "      <td>0.980092</td>\n",
       "      <td>1.151876</td>\n",
       "      <td>1.191519</td>\n",
       "      <td>0.915734</td>\n",
       "      <td>0.997430</td>\n",
       "      <td>1.042678</td>\n",
       "      <td>...</td>\n",
       "      <td>0.681479</td>\n",
       "      <td>0.404644</td>\n",
       "      <td>0.0</td>\n",
       "      <td>1.013531</td>\n",
       "      <td>1.221905</td>\n",
       "      <td>0.0</td>\n",
       "      <td>1.013627</td>\n",
       "      <td>0.701615</td>\n",
       "      <td>0.0</td>\n",
       "      <td>0.725770</td>\n",
       "    </tr>\n",
       "  </tbody>\n",
       "</table>\n",
       "<p>4 rows × 219 columns</p>\n",
       "</div>"
      ],
      "text/plain": [
       "         AADAC     APOA1     APOA4      APOB     APOC3      AQP9        C6  \\\n",
       "mean  0.662326  0.615285  0.670829  0.658361  0.625205  0.459972  0.344742   \n",
       "std   0.186037  0.208824  0.196106  0.209957  0.200946  0.243852  0.282902   \n",
       "min   0.165531  0.141475  0.179189  0.041787  0.105744  0.000000  0.000000   \n",
       "max   0.930585  1.029728  0.969910  0.950466  0.980092  1.151876  1.191519   \n",
       "\n",
       "       CEACAM7    CHI3L1     ABCC2  ...     TAF15   ZFYVE20  LOC100420253  \\\n",
       "mean  0.345704  0.546377  0.595752  ...  0.359887  0.248426           0.0   \n",
       "std   0.209450  0.221981  0.245207  ...  0.106041  0.083038           0.0   \n",
       "min   0.000000  0.037820  0.077684  ...  0.107633 -0.031527           0.0   \n",
       "max   0.915734  0.997430  1.042678  ...  0.681479  0.404644           0.0   \n",
       "\n",
       "        LY6G5B   C5orf58  RSL24D1P1     MIEN1  PCBP1_AS1  LOC100133165  \\\n",
       "mean  0.777372  0.440612        0.0  0.418557   0.331811           0.0   \n",
       "std   0.129976  0.238418        0.0  0.197838   0.106248           0.0   \n",
       "min   0.323550  0.000000        0.0  0.048748   0.061934           0.0   \n",
       "max   1.013531  1.221905        0.0  1.013627   0.701615           0.0   \n",
       "\n",
       "        DNAJB8  \n",
       "mean  0.009305  \n",
       "std   0.082177  \n",
       "min   0.000000  \n",
       "max   0.725770  \n",
       "\n",
       "[4 rows x 219 columns]"
      ]
     },
     "execution_count": 563,
     "metadata": {},
     "output_type": "execute_result"
    }
   ],
   "source": [
    "x_stats"
   ]
  },
  {
   "cell_type": "code",
   "execution_count": 564,
   "id": "9a2c65c8",
   "metadata": {},
   "outputs": [
    {
     "data": {
      "text/plain": [
       "(219, 219)"
      ]
     },
     "execution_count": 564,
     "metadata": {},
     "output_type": "execute_result"
    }
   ],
   "source": [
    "n = x_test_scaled.shape[1]\n",
    "cov = np.zeros((n,n))\n",
    "cov.shape"
   ]
  },
  {
   "cell_type": "code",
   "execution_count": 565,
   "id": "4a05bb4e",
   "metadata": {},
   "outputs": [
    {
     "data": {
      "text/plain": [
       "array([-2.   , -1.999, -1.998, ...,  1.997,  1.998,  1.999])"
      ]
     },
     "execution_count": 565,
     "metadata": {},
     "output_type": "execute_result"
    }
   ],
   "source": [
    "x_range = np.arange(-2, 2, 0.001)\n",
    "x_range"
   ]
  },
  {
   "cell_type": "code",
   "execution_count": 566,
   "id": "8f55d8d6",
   "metadata": {},
   "outputs": [],
   "source": [
    "gene_means = x_stats.iloc[0,:].values"
   ]
  },
  {
   "cell_type": "code",
   "execution_count": 567,
   "id": "f6c79045",
   "metadata": {},
   "outputs": [],
   "source": [
    "\n",
    "gene_stds = x_stats.iloc[1,:].values"
   ]
  },
  {
   "cell_type": "code",
   "execution_count": 568,
   "id": "7454c15d",
   "metadata": {},
   "outputs": [
    {
     "data": {
      "text/plain": [
       "array([0.18603737, 0.20882356, 0.19610569, 0.20995679, 0.20094566,\n",
       "       0.24385158, 0.28290245, 0.20945006, 0.22198126, 0.24520724,\n",
       "       0.2628695 , 0.1834831 , 0.28044837, 0.23865634, 0.23826   ,\n",
       "       0.20005719, 0.21108741, 0.20985854, 0.26212225, 0.26480426,\n",
       "       0.25977973, 0.21743511, 0.2590062 , 0.22294972, 0.24862806,\n",
       "       0.23827463, 0.26945909, 0.22071152, 0.21016382, 0.21171854,\n",
       "       0.15472029, 0.21320429, 0.20334415, 0.23253429, 0.26477574,\n",
       "       0.20785715, 0.24817908, 0.24104996, 0.18767385, 0.23115715,\n",
       "       0.26042853, 0.24586237, 0.23999711, 0.26238668, 0.2761071 ,\n",
       "       0.28359338, 0.2386538 , 0.30187102, 0.22605601, 0.2237137 ,\n",
       "       0.23621848, 0.25984292, 0.28376866, 0.28243106, 0.25521836,\n",
       "       0.30383792, 0.20933322, 0.25869955, 0.25637117, 0.24361392,\n",
       "       0.19625513, 0.22428705, 0.27031828, 0.26909346, 0.16953728,\n",
       "       0.24168735, 0.22772291, 0.23689837, 0.28936677, 0.23139414,\n",
       "       0.31402836, 0.2079133 , 0.24538149, 0.21937021, 0.30317704,\n",
       "       0.23873244, 0.26907757, 0.2336481 , 0.19315355, 0.22559664,\n",
       "       0.251953  , 0.28199225, 0.23548511, 0.31907799, 0.23045106,\n",
       "       0.23562963, 0.22211636, 0.24926765, 0.23530818, 0.26930851,\n",
       "       0.3101534 , 0.2453348 , 0.21047018, 0.23656116, 0.30857951,\n",
       "       0.22527973, 0.22191591, 0.22463985, 0.2503725 , 0.26749371,\n",
       "       0.26578943, 0.26621599, 0.27107079, 0.24632899, 0.1835275 ,\n",
       "       0.24359884, 0.27106464, 0.26342414, 0.21541174, 0.23388338,\n",
       "       0.21647239, 0.24791846, 0.22708851, 0.2744498 , 0.29974708,\n",
       "       0.30945206, 0.24403556, 0.19156752, 0.23518697, 0.19815289,\n",
       "       0.        , 0.20399604, 0.        , 0.22279679, 0.21074404,\n",
       "       0.        , 0.15977457, 0.11506203, 0.17027847, 0.10926235,\n",
       "       0.24001715, 0.1809324 , 0.09820893, 0.        , 0.21624071,\n",
       "       0.02488613, 0.12515918, 0.        , 0.2888691 , 0.        ,\n",
       "       0.        , 0.        , 0.        , 0.12851813, 0.21595658,\n",
       "       0.        , 0.        , 0.20425797, 0.16970521, 0.        ,\n",
       "       0.13724167, 0.10449653, 0.        , 0.16127946, 0.19788259,\n",
       "       0.19049322, 0.08005514, 0.16609019, 0.15801862, 0.16260911,\n",
       "       0.2099387 , 0.        , 0.12662406, 0.        , 0.        ,\n",
       "       0.        , 0.16175687, 0.16084837, 0.19990354, 0.09662525,\n",
       "       0.14186131, 0.        , 0.20170256, 0.        , 0.        ,\n",
       "       0.        , 0.11127418, 0.20976783, 0.        , 0.11401703,\n",
       "       0.        , 0.01034565, 0.        , 0.        , 0.17161366,\n",
       "       0.11101566, 0.11886457, 0.        , 0.        , 0.11801836,\n",
       "       0.09300807, 0.        , 0.19823896, 0.        , 0.        ,\n",
       "       0.15065896, 0.16774559, 0.        , 0.20549668, 0.16927395,\n",
       "       0.17030085, 0.        , 0.19033276, 0.        , 0.09767881,\n",
       "       0.        , 0.16852115, 0.1916269 , 0.        , 0.10604069,\n",
       "       0.08303774, 0.        , 0.12997578, 0.23841829, 0.        ,\n",
       "       0.19783763, 0.10624802, 0.        , 0.08217725])"
      ]
     },
     "execution_count": 568,
     "metadata": {},
     "output_type": "execute_result"
    }
   ],
   "source": [
    "gene_stds"
   ]
  },
  {
   "cell_type": "code",
   "execution_count": 569,
   "id": "39535fdc",
   "metadata": {},
   "outputs": [],
   "source": [
    "gene_vars = np.square(gene_stds)"
   ]
  },
  {
   "cell_type": "markdown",
   "id": "a116b3d6",
   "metadata": {},
   "source": [
    "### Calculate correlations using KL divergence"
   ]
  },
  {
   "cell_type": "code",
   "execution_count": 638,
   "id": "c0f8ccd9",
   "metadata": {},
   "outputs": [
    {
     "name": "stderr",
     "output_type": "stream",
     "text": [
      "divide by zero encountered in log\n"
     ]
    },
    {
     "data": {
      "text/plain": [
       "array([[0.00000000e+00, 3.77506774e-02, 3.62284219e-03, ...,\n",
       "        5.31126618e+00,           -inf, 3.28188435e+01],\n",
       "       [0.00000000e+00, 0.00000000e+00, 4.42295653e-02, ...,\n",
       "        4.31496789e+00,           -inf, 2.89844929e+01],\n",
       "       [0.00000000e+00, 0.00000000e+00, 0.00000000e+00, ...,\n",
       "        5.68113059e+00,           -inf, 3.38785873e+01],\n",
       "       ...,\n",
       "       [0.00000000e+00, 0.00000000e+00, 0.00000000e+00, ...,\n",
       "        0.00000000e+00,           -inf, 7.77985845e+00],\n",
       "       [0.00000000e+00, 0.00000000e+00, 0.00000000e+00, ...,\n",
       "        0.00000000e+00, 0.00000000e+00, 2.30585081e+00],\n",
       "       [0.00000000e+00, 0.00000000e+00, 0.00000000e+00, ...,\n",
       "        0.00000000e+00, 0.00000000e+00, 0.00000000e+00]])"
      ]
     },
     "execution_count": 638,
     "metadata": {},
     "output_type": "execute_result"
    }
   ],
   "source": [
    "\n",
    "\n",
    "# https://jamesmccaffrey.wordpress.com/2021/02/03/the-kullback-leibler-divergence-for-two-gaussian-distributions/\n",
    "def kld_gauss(u1, s1, u2, s2):\n",
    "  # general KL two Gaussians\n",
    "  # u2, s2 often N(0,1)\n",
    "  # https://stats.stackexchange.com/questions/7440/ +\n",
    "  # kl-divergence-between-two-univariate-gaussians\n",
    "  # log(s2/s1) + [( s1^2 + (u1-u2)^2 ) / 2*s2^2] - 0.5\n",
    "  v1 = s1 * s1\n",
    "  v2 = s2 * s2\n",
    "  if s1 == 0:\n",
    "    s1 = 0.005\n",
    "  a = np.log(s2/s1) \n",
    "  num = v1 + (u1 - u2)**2\n",
    "  den = 2 * v2\n",
    "  if den == 0:\n",
    "    den = 0.005\n",
    "  b = num / den\n",
    "  return a + b - 0.5\n",
    "\n",
    "min_v = 10000\n",
    "max_v = -10000\n",
    "for i in range(n):\n",
    "#     curr_gene_symbol = x_test_scaled.columns[i]\n",
    "    curr_mean = gene_means[i]\n",
    "    curr_std = gene_stds[i]\n",
    "#     cov[i][i] = curr_std**2\n",
    "    # gene distribution\n",
    "    \n",
    "#     curr_dist = norm.pdf(x_range, curr_mean, curr_std)\n",
    "\n",
    "    for j in range(i+1, n):\n",
    "#         other_gene_symbol = x_test_scaled.columns[j]\n",
    "        other_mean = gene_means[j]\n",
    "        other_std = gene_stds[j]\n",
    "        # gene distribution\n",
    "#         other_dist = norm.pdf(x_range, other_mean, other_std)\n",
    "#         kl = kl_divergence(curr_dist, other_dist)\n",
    "        kl = kld_gauss(curr_mean, curr_std, other_mean, other_std)\n",
    "        cov[i][j] = kl\n",
    "        \n",
    "        #max/min\n",
    "        min_v = min(min_v, kl)\n",
    "        if kl != float(\"inf\"):\n",
    "            max_v = max(max_v, kl)\n",
    "\n",
    "cov\n",
    "        \n"
   ]
  },
  {
   "cell_type": "code",
   "execution_count": 639,
   "id": "75e118b4",
   "metadata": {},
   "outputs": [
    {
     "name": "stdout",
     "output_type": "stream",
     "text": [
      "-inf\n",
      "3242.75701710342\n"
     ]
    }
   ],
   "source": [
    "print(min_v)\n",
    "print(max_v)"
   ]
  },
  {
   "cell_type": "code",
   "execution_count": 640,
   "id": "fd8ad7b5",
   "metadata": {},
   "outputs": [
    {
     "data": {
      "text/plain": [
       "True"
      ]
     },
     "execution_count": 640,
     "metadata": {},
     "output_type": "execute_result"
    }
   ],
   "source": [
    "nans = np.isnan(cov)\n",
    "np.all(nans == False)"
   ]
  },
  {
   "cell_type": "code",
   "execution_count": 641,
   "id": "e7e3eb6d",
   "metadata": {},
   "outputs": [],
   "source": [
    "\n",
    "cov[cov == -inf] = -max_v"
   ]
  },
  {
   "cell_type": "code",
   "execution_count": 642,
   "id": "59e5cf74",
   "metadata": {},
   "outputs": [
    {
     "name": "stdout",
     "output_type": "stream",
     "text": [
      "[0.         0.03775068 0.00362284 0.01369654 0.02271162]\n",
      "[0.         0.         0.04422957 0.02107563 0.00273583]\n",
      "[0.         0.         0.         0.00621603 0.02636019]\n",
      "[0.         0.         0.         0.         0.01559476]\n",
      "[0. 0. 0. 0. 0.]\n",
      "[0. 0. 0. 0. 0.]\n",
      "[0. 0. 0. 0. 0.]\n",
      "[0. 0. 0. 0. 0.]\n",
      "[0. 0. 0. 0. 0.]\n",
      "[0. 0. 0. 0. 0.]\n"
     ]
    }
   ],
   "source": [
    "for row in cov[:10]:\n",
    "    print(row[:5])"
   ]
  },
  {
   "cell_type": "markdown",
   "id": "4b2ff756",
   "metadata": {},
   "source": [
    "### Scale down correlations"
   ]
  },
  {
   "cell_type": "code",
   "execution_count": 643,
   "id": "7b0e6b62",
   "metadata": {},
   "outputs": [],
   "source": [
    "\n",
    "standard_scaler = MinMaxScaler((0,.1))\n",
    "cov_matrix = standard_scaler.fit_transform(cov)"
   ]
  },
  {
   "cell_type": "code",
   "execution_count": 644,
   "id": "80ea29f9",
   "metadata": {},
   "outputs": [],
   "source": [
    "# reduce scale of correlations even more\n",
    "# cov_matrix /= 10"
   ]
  },
  {
   "cell_type": "code",
   "execution_count": 645,
   "id": "6b1523c2",
   "metadata": {
    "scrolled": true
   },
   "outputs": [
    {
     "name": "stdout",
     "output_type": "stream",
     "text": [
      "[0.         0.1        0.008191   0.06498757 0.08615878]\n",
      "[0.         0.         0.1        0.1        0.01037864]\n",
      "[0.         0.         0.         0.02949391 0.1       ]\n",
      "[0.         0.         0.         0.         0.05916027]\n",
      "[0. 0. 0. 0. 0.]\n",
      "[0. 0. 0. 0. 0.]\n",
      "[0. 0. 0. 0. 0.]\n",
      "[0. 0. 0. 0. 0.]\n",
      "[0. 0. 0. 0. 0.]\n",
      "[0. 0. 0. 0. 0.]\n"
     ]
    }
   ],
   "source": [
    "for row in cov_matrix[:10]:\n",
    "    print(row[:5])"
   ]
  },
  {
   "cell_type": "markdown",
   "id": "7ed50d66",
   "metadata": {},
   "source": [
    "### Reflection to lower triangle"
   ]
  },
  {
   "cell_type": "code",
   "execution_count": 646,
   "id": "c2421725",
   "metadata": {},
   "outputs": [
    {
     "name": "stdout",
     "output_type": "stream",
     "text": [
      "[0.         0.1        0.008191   0.06498757 0.08615878]\n",
      "[0.1        0.         0.1        0.1        0.01037864]\n",
      "[0.008191   0.1        0.         0.02949391 0.1       ]\n",
      "[0.06498757 0.1        0.02949391 0.         0.05916027]\n",
      "[0.08615878 0.01037864 0.1        0.05916027 0.        ]\n",
      "[0.09778643 0.05409815 0.1        0.08461701 0.06326346]\n",
      "[0.09928367 0.06917081 0.1        0.08924297 0.07597152]\n",
      "[0.09558795 0.06851574 0.1        0.09216061 0.07378813]\n",
      "[0.03406693 0.01073703 0.03553461 0.02701243 0.01500331]\n",
      "[0.01844869 0.00483368 0.01649165 0.00994963 0.00769766]\n"
     ]
    }
   ],
   "source": [
    "# https://stackoverflow.com/questions/16444930/copy-upper-triangle-to-lower-triangle-in-a-python-matrix\n",
    "i_lower = np.tril_indices(n, -1)\n",
    "cov_matrix[i_lower] = cov_matrix.T[i_lower]  # make the matrix symmetric\n",
    "\n",
    "for row in cov_matrix[:10]:\n",
    "    print(row[:5])"
   ]
  },
  {
   "cell_type": "markdown",
   "id": "c023002e",
   "metadata": {},
   "source": [
    "### Insert variances on diagonal"
   ]
  },
  {
   "cell_type": "code",
   "execution_count": 647,
   "id": "bce494cb",
   "metadata": {},
   "outputs": [
    {
     "name": "stdout",
     "output_type": "stream",
     "text": [
      "[0.0346099  0.1        0.008191   0.06498757 0.08615878]\n",
      "[0.1        0.04360728 0.1        0.1        0.01037864]\n",
      "[0.008191   0.1        0.03845744 0.02949391 0.1       ]\n",
      "[0.06498757 0.1        0.02949391 0.04408185 0.05916027]\n",
      "[0.08615878 0.01037864 0.1        0.05916027 0.04037916]\n",
      "[0.09778643 0.05409815 0.1        0.08461701 0.06326346]\n",
      "[0.09928367 0.06917081 0.1        0.08924297 0.07597152]\n",
      "[0.09558795 0.06851574 0.1        0.09216061 0.07378813]\n",
      "[0.03406693 0.01073703 0.03553461 0.02701243 0.01500331]\n",
      "[0.01844869 0.00483368 0.01649165 0.00994963 0.00769766]\n"
     ]
    }
   ],
   "source": [
    "np.fill_diagonal(cov_matrix, gene_vars) \n",
    "\n",
    "for row in cov_matrix[:10]:\n",
    "    print(row[:5])"
   ]
  },
  {
   "cell_type": "code",
   "execution_count": 648,
   "id": "028cecf6",
   "metadata": {},
   "outputs": [
    {
     "name": "stdout",
     "output_type": "stream",
     "text": [
      "0.0\n",
      "0.101810760680313\n"
     ]
    }
   ],
   "source": [
    "dia = np.diag(cov_matrix)\n",
    "print(np.min(dia))\n",
    "print(np.max(dia))"
   ]
  },
  {
   "cell_type": "code",
   "execution_count": 649,
   "id": "d6ee054c",
   "metadata": {},
   "outputs": [],
   "source": [
    "# np.identity(n)"
   ]
  },
  {
   "cell_type": "code",
   "execution_count": 650,
   "id": "bf5c9365",
   "metadata": {},
   "outputs": [
    {
     "data": {
      "text/plain": [
       "array([ 4.73123458e+00+0.00000000e+00j,  2.60432631e+00+0.00000000e+00j,\n",
       "       -2.76558027e+00+0.00000000e+00j, -2.37119359e+00+0.00000000e+00j,\n",
       "       -1.07358060e+00+0.00000000e+00j,  1.00315410e+00+0.00000000e+00j,\n",
       "       -9.37468780e-01+0.00000000e+00j,  6.72642476e-01+0.00000000e+00j,\n",
       "       -6.17529609e-01+0.00000000e+00j, -4.91167983e-01+0.00000000e+00j,\n",
       "        5.37297792e-01+0.00000000e+00j, -4.55102625e-01+0.00000000e+00j,\n",
       "        4.49933350e-01+0.00000000e+00j, -3.42574133e-01+0.00000000e+00j,\n",
       "       -3.22329427e-01+0.00000000e+00j,  3.65803579e-01+0.00000000e+00j,\n",
       "        3.60018583e-01+0.00000000e+00j, -2.80525735e-01+0.00000000e+00j,\n",
       "       -2.52318095e-01+0.00000000e+00j,  2.88089071e-01+0.00000000e+00j,\n",
       "       -2.16391117e-01+0.00000000e+00j,  2.77227673e-01+0.00000000e+00j,\n",
       "       -1.97139377e-01+0.00000000e+00j,  2.37374477e-01+0.00000000e+00j,\n",
       "       -1.75612851e-01+0.00000000e+00j,  2.27675798e-01+0.00000000e+00j,\n",
       "        2.19925171e-01+0.00000000e+00j, -1.61930089e-01+0.00000000e+00j,\n",
       "        2.08446888e-01+0.00000000e+00j, -1.44385961e-01+0.00000000e+00j,\n",
       "       -1.41170155e-01+0.00000000e+00j,  1.91286246e-01+0.00000000e+00j,\n",
       "       -1.26549863e-01+0.00000000e+00j, -1.20344442e-01+0.00000000e+00j,\n",
       "       -1.17572515e-01+0.00000000e+00j,  1.81632108e-01+0.00000000e+00j,\n",
       "       -1.10484494e-01+0.00000000e+00j,  1.73131836e-01+0.00000000e+00j,\n",
       "       -1.01811389e-01+0.00000000e+00j,  1.63558024e-01+0.00000000e+00j,\n",
       "        1.59822257e-01+0.00000000e+00j,  1.55426578e-01+0.00000000e+00j,\n",
       "        1.50162919e-01+0.00000000e+00j, -9.06995623e-02+0.00000000e+00j,\n",
       "       -8.49547857e-02+0.00000000e+00j, -8.35971214e-02+0.00000000e+00j,\n",
       "       -7.85477756e-02+0.00000000e+00j,  1.39409430e-01+0.00000000e+00j,\n",
       "        1.38667297e-01+0.00000000e+00j,  1.30782863e-01+0.00000000e+00j,\n",
       "        1.27875908e-01+0.00000000e+00j,  1.22612565e-01+0.00000000e+00j,\n",
       "        1.21325796e-01+0.00000000e+00j,  1.15255186e-01+0.00000000e+00j,\n",
       "       -7.24739597e-02+0.00000000e+00j, -6.78502034e-02+0.00000000e+00j,\n",
       "       -6.49590113e-02+0.00000000e+00j, -6.17648050e-02+0.00000000e+00j,\n",
       "       -6.02746359e-02+0.00000000e+00j, -5.73163209e-02+0.00000000e+00j,\n",
       "       -5.53667029e-02+0.00000000e+00j, -4.78601207e-02+0.00000000e+00j,\n",
       "       -4.46871664e-02+0.00000000e+00j, -4.32379817e-02+0.00000000e+00j,\n",
       "       -4.12313841e-02+0.00000000e+00j, -3.26270723e-02+0.00000000e+00j,\n",
       "       -2.98703515e-02+0.00000000e+00j, -2.87671983e-02+0.00000000e+00j,\n",
       "       -2.66509513e-02+0.00000000e+00j,  1.10681299e-01+0.00000000e+00j,\n",
       "        1.07995262e-01+0.00000000e+00j,  1.06506562e-01+0.00000000e+00j,\n",
       "        1.04668755e-01+0.00000000e+00j,  1.02718566e-01+0.00000000e+00j,\n",
       "        1.02621607e-01+0.00000000e+00j,  1.00842899e-01+0.00000000e+00j,\n",
       "        9.97320163e-02+0.00000000e+00j,  9.73819958e-02+0.00000000e+00j,\n",
       "        9.70957412e-02+0.00000000e+00j,  9.40660609e-02+0.00000000e+00j,\n",
       "       -1.83674586e-02+0.00000000e+00j, -1.50250601e-02+0.00000000e+00j,\n",
       "       -1.05975445e-02+0.00000000e+00j,  9.17813844e-02+0.00000000e+00j,\n",
       "        9.15753033e-02+0.00000000e+00j,  9.05757945e-02+0.00000000e+00j,\n",
       "        8.94777231e-02+0.00000000e+00j,  8.81197664e-02+0.00000000e+00j,\n",
       "        8.72086160e-02+0.00000000e+00j,  8.64579915e-02+0.00000000e+00j,\n",
       "        8.50376992e-02+0.00000000e+00j,  8.29125295e-02+0.00000000e+00j,\n",
       "        8.40191474e-02+0.00000000e+00j,  8.42975591e-02+0.00000000e+00j,\n",
       "       -7.33015457e-03+0.00000000e+00j, -6.36843148e-03+0.00000000e+00j,\n",
       "       -3.26403024e-03+0.00000000e+00j,  6.18955681e-03+0.00000000e+00j,\n",
       "        1.30646113e-02+0.00000000e+00j,  8.18914188e-02+0.00000000e+00j,\n",
       "        8.17020994e-02+0.00000000e+00j,  8.01556875e-02+0.00000000e+00j,\n",
       "        7.94101294e-02+0.00000000e+00j,  7.74081406e-02+0.00000000e+00j,\n",
       "        7.63555663e-02+0.00000000e+00j,  7.66782495e-02+0.00000000e+00j,\n",
       "        7.41472523e-02+0.00000000e+00j,  7.46512045e-02+0.00000000e+00j,\n",
       "        7.36055420e-02+0.00000000e+00j,  7.26393233e-02+0.00000000e+00j,\n",
       "        8.97136719e-03+0.00000000e+00j,  9.56830745e-03+0.00000000e+00j,\n",
       "        1.12615218e-02+0.00000000e+00j,  1.49071971e-02+0.00000000e+00j,\n",
       "        1.64325736e-02+0.00000000e+00j, -1.37084967e-03+0.00000000e+00j,\n",
       "       -2.28533515e-05+0.00000000e+00j,  1.72901943e-02+0.00000000e+00j,\n",
       "        1.77228209e-02+0.00000000e+00j,  2.11508330e-02+0.00000000e+00j,\n",
       "        2.20148916e-02+0.00000000e+00j,  2.00596044e-02+0.00000000e+00j,\n",
       "        1.98074525e-02+0.00000000e+00j,  7.15925519e-02+0.00000000e+00j,\n",
       "        7.09795881e-02+0.00000000e+00j,  7.09468236e-02+0.00000000e+00j,\n",
       "        6.96664379e-02+0.00000000e+00j,  6.87076154e-02+0.00000000e+00j,\n",
       "        6.77041382e-02+0.00000000e+00j,  6.81308194e-02+0.00000000e+00j,\n",
       "        2.45444739e-03+0.00000000e+00j,  2.34307857e-02+0.00000000e+00j,\n",
       "        2.37267496e-02+0.00000000e+00j,  2.45569337e-02+0.00000000e+00j,\n",
       "        2.61519478e-02+0.00000000e+00j,  2.69156483e-02+0.00000000e+00j,\n",
       "        2.78903040e-02+0.00000000e+00j,  6.68141055e-02+0.00000000e+00j,\n",
       "        5.32094958e-04+0.00000000e+00j,  2.92062488e-02+0.00000000e+00j,\n",
       "        2.80536434e-02+0.00000000e+00j,  6.65427471e-02+0.00000000e+00j,\n",
       "        6.59710816e-02+0.00000000e+00j,  6.58854156e-02+0.00000000e+00j,\n",
       "        3.10657756e-02+0.00000000e+00j,  3.16920040e-02+0.00000000e+00j,\n",
       "        3.25948826e-02+0.00000000e+00j,  3.30467130e-02+0.00000000e+00j,\n",
       "        3.32969106e-02+0.00000000e+00j,  3.40293101e-02+0.00000000e+00j,\n",
       "        6.49131162e-02+0.00000000e+00j,  6.46170529e-02+0.00000000e+00j,\n",
       "        6.36042960e-02+0.00000000e+00j,  6.18000014e-02+0.00000000e+00j,\n",
       "        6.21391146e-02+0.00000000e+00j,  6.29214130e-02+0.00000000e+00j,\n",
       "        6.28372015e-02+0.00000000e+00j,  6.07209740e-02+0.00000000e+00j,\n",
       "        3.49206170e-02+0.00000000e+00j,  3.58268184e-02+0.00000000e+00j,\n",
       "        3.61848939e-02+0.00000000e+00j,  3.64900771e-02+0.00000000e+00j,\n",
       "        5.92106892e-02+0.00000000e+00j,  6.00669901e-02+0.00000000e+00j,\n",
       "        5.99745969e-02+0.00000000e+00j,  5.94744154e-02+0.00000000e+00j,\n",
       "        3.71062163e-02+0.00000000e+00j,  3.46767667e-02+0.00000000e+00j,\n",
       "        3.90488230e-02+0.00000000e+00j,  3.78094571e-02+0.00000000e+00j,\n",
       "        5.98749877e-02+0.00000000e+00j,  3.98314037e-02+0.00000000e+00j,\n",
       "        4.01687575e-02+0.00000000e+00j,  4.12278086e-02+0.00000000e+00j,\n",
       "        5.74065622e-02+0.00000000e+00j,  5.76053610e-02+0.00000000e+00j,\n",
       "        5.64376790e-02+0.00000000e+00j,  5.69320549e-02+0.00000000e+00j,\n",
       "        5.69029921e-02+0.00000000e+00j,  5.51253109e-02+0.00000000e+00j,\n",
       "        5.44974652e-02+0.00000000e+00j,  5.42784335e-02+0.00000000e+00j,\n",
       "        5.36349968e-02+0.00000000e+00j,  4.27368599e-02+0.00000000e+00j,\n",
       "        5.29964398e-02+0.00000000e+00j,  5.19307466e-02+0.00000000e+00j,\n",
       "        5.39940534e-02+0.00000000e+00j,  5.24409366e-02+0.00000000e+00j,\n",
       "        4.36190109e-02+0.00000000e+00j,  4.55954954e-02+0.00000000e+00j,\n",
       "        4.50328827e-02+0.00000000e+00j,  4.45754861e-02+0.00000000e+00j,\n",
       "        4.41684121e-02+0.00000000e+00j,  4.44727123e-02+0.00000000e+00j,\n",
       "        4.42623741e-02+0.00000000e+00j,  4.63753425e-02+0.00000000e+00j,\n",
       "        4.78474205e-02+0.00000000e+00j,  4.72229484e-02+0.00000000e+00j,\n",
       "        4.84531734e-02+0.00000000e+00j,  4.90063291e-02+0.00000000e+00j,\n",
       "        4.81933148e-02+0.00000000e+00j,  4.95244407e-02+0.00000000e+00j,\n",
       "        5.00254756e-02+0.00000000e+00j,  5.10438553e-02+0.00000000e+00j,\n",
       "        5.04959828e-02+0.00000000e+00j,  5.07869152e-02+0.00000000e+00j,\n",
       "        4.96366719e-02+0.00000000e+00j, -9.65554815e-11+0.00000000e+00j,\n",
       "       -7.25483362e-18+5.11364153e-18j, -7.25483362e-18-5.11364153e-18j,\n",
       "       -4.72245116e-18+0.00000000e+00j,  4.18517485e-19+5.82927445e-18j,\n",
       "        4.18517485e-19-5.82927445e-18j,  1.30083860e-18+0.00000000e+00j,\n",
       "        4.42164311e-18+2.73752995e-18j,  4.42164311e-18-2.73752995e-18j,\n",
       "       -2.19373563e-17+0.00000000e+00j,  1.31426805e-17+2.17878562e-18j,\n",
       "        1.31426805e-17-2.17878562e-18j])"
      ]
     },
     "execution_count": 650,
     "metadata": {},
     "output_type": "execute_result"
    }
   ],
   "source": [
    "\n",
    "\n",
    "w, v = LA.eig(cov_matrix)\n",
    "w"
   ]
  },
  {
   "cell_type": "code",
   "execution_count": 651,
   "id": "5a4e9f22",
   "metadata": {},
   "outputs": [
    {
     "data": {
      "text/plain": [
       "(-2.7655802701972245+0j)"
      ]
     },
     "execution_count": 651,
     "metadata": {},
     "output_type": "execute_result"
    }
   ],
   "source": [
    "np.min(w)"
   ]
  },
  {
   "cell_type": "code",
   "execution_count": 652,
   "id": "32c50e5b",
   "metadata": {},
   "outputs": [],
   "source": [
    "# adjust matrix to make it positive definite \n",
    "\n",
    "mod_cov_matrix = cov_matrix + (abs(np.min(w)) + 1e-7)*np.identity(n)\n",
    "# mod_cov_matrix = cov_matrix"
   ]
  },
  {
   "cell_type": "code",
   "execution_count": 653,
   "id": "86ec7036",
   "metadata": {},
   "outputs": [
    {
     "name": "stdout",
     "output_type": "stream",
     "text": [
      "[2.80019027 0.1        0.008191   0.06498757 0.08615878]\n",
      "[0.1        2.80918765 0.1        0.1        0.01037864]\n",
      "[0.008191   0.1        2.80403781 0.02949391 0.1       ]\n",
      "[0.06498757 0.1        0.02949391 2.80966222 0.05916027]\n",
      "[0.08615878 0.01037864 0.1        0.05916027 2.80595953]\n",
      "[0.09778643 0.05409815 0.1        0.08461701 0.06326346]\n",
      "[0.09928367 0.06917081 0.1        0.08924297 0.07597152]\n",
      "[0.09558795 0.06851574 0.1        0.09216061 0.07378813]\n",
      "[0.03406693 0.01073703 0.03553461 0.02701243 0.01500331]\n",
      "[0.01844869 0.00483368 0.01649165 0.00994963 0.00769766]\n"
     ]
    }
   ],
   "source": [
    "# w, v = LA.eig(mod_cov_matrix)\n",
    "# w\n",
    "\n",
    "for row in mod_cov_matrix[:10]:\n",
    "    print(row[:5])"
   ]
  },
  {
   "cell_type": "code",
   "execution_count": 654,
   "id": "9431261b",
   "metadata": {},
   "outputs": [
    {
     "data": {
      "text/plain": [
       "2.7655803701972244"
      ]
     },
     "execution_count": 654,
     "metadata": {},
     "output_type": "execute_result"
    }
   ],
   "source": [
    "np.diag(mod_cov_matrix).min()"
   ]
  },
  {
   "cell_type": "code",
   "execution_count": 655,
   "id": "d2839c42",
   "metadata": {},
   "outputs": [
    {
     "data": {
      "text/plain": [
       "2.8673911308775373"
      ]
     },
     "execution_count": 655,
     "metadata": {},
     "output_type": "execute_result"
    }
   ],
   "source": [
    "np.diag(mod_cov_matrix).max()"
   ]
  },
  {
   "cell_type": "markdown",
   "id": "f5318a14",
   "metadata": {},
   "source": [
    "### Construct and sample from multivariate normal distribution (1 dummy patient)"
   ]
  },
  {
   "cell_type": "code",
   "execution_count": null,
   "id": "0bd1dd1b",
   "metadata": {},
   "outputs": [],
   "source": [
    "\n"
   ]
  },
  {
   "cell_type": "code",
   "execution_count": null,
   "id": "60d6832b",
   "metadata": {},
   "outputs": [],
   "source": [
    "\n"
   ]
  },
  {
   "cell_type": "code",
   "execution_count": 698,
   "id": "66c01545",
   "metadata": {},
   "outputs": [],
   "source": [
    "def get_sample_patient(means, cov_matrix, gene_stds, allow_singular=False):\n",
    "    rv = multivariate_normal(means, cov_matrix, allow_singular=allow_singular)\n",
    "    sample = rv.rvs(size=1, random_state=None) # sample gene expression for a dummy patient\n",
    "    # account for rescaled variances when making cov matrix positive semidefinite\n",
    "    rescaled_sample = (sample - means) * gene_stds + means\n",
    "    return sample, rescaled_sample\n",
    "\n",
    "sample, rescaled_sample = get_sample_patient(gene_means, mod_cov_matrix, gene_stds)"
   ]
  },
  {
   "cell_type": "code",
   "execution_count": 667,
   "id": "a381ee1b",
   "metadata": {},
   "outputs": [
    {
     "data": {
      "image/png": "[encoded data removed]",
      "text/plain": [
       "<Figure size 640x480 with 1 Axes>"
      ]
     },
     "metadata": {},
     "output_type": "display_data"
    }
   ],
   "source": [
    "from numpy import inf\n",
    "res = rescaled_sample.copy()\n",
    "# res[res == -inf] = -5\n",
    "# res[res == inf] = 5\n",
    "fig, ax = plt.subplots(1, 1)\n",
    "# ax.hist(gene_means, density=True, bins='auto', histtype='stepfilled', alpha=0.2, label='means')\n",
    "ax.hist(sample, density=True, bins='auto', histtype='stepfilled', alpha=0.2, label='original sample')\n",
    "ax.hist(res, density=True, bins='auto', histtype='stepfilled', alpha=0.2, label='rescaled')\n",
    "\n",
    "\n",
    "# ax.hist(rescale, density=True, bins='auto', histtype='stepfilled', alpha=0.2)\n",
    "# ax.set_xlim(-20, 20)\n",
    "ax.legend(loc='best', frameon=False)\n",
    "plt.show()"
   ]
  },
  {
   "cell_type": "markdown",
   "id": "bc6b4000",
   "metadata": {},
   "source": [
    "### Sanity check"
   ]
  },
  {
   "cell_type": "code",
   "execution_count": 668,
   "id": "0830c8ee",
   "metadata": {},
   "outputs": [],
   "source": [
    "# test_sample - using means and variance with no correlations\n",
    "# sample - using means and covariance including correlations\n",
    "\n",
    "test_cov = np.zeros((n,n))\n",
    "np.fill_diagonal(test_cov, gene_vars) \n",
    "\n",
    "rv_test = multivariate_normal(gene_means, test_cov, allow_singular=True)\n",
    "test_sample = rv_test.rvs(size=1, random_state=None) \n"
   ]
  },
  {
   "cell_type": "code",
   "execution_count": 669,
   "id": "d83d6704",
   "metadata": {
    "scrolled": true
   },
   "outputs": [
    {
     "data": {
      "text/plain": [
       "219"
      ]
     },
     "execution_count": 669,
     "metadata": {},
     "output_type": "execute_result"
    }
   ],
   "source": [
    "len(test_sample)"
   ]
  },
  {
   "cell_type": "code",
   "execution_count": 670,
   "id": "e61abce3",
   "metadata": {},
   "outputs": [
    {
     "data": {
      "image/png": "[encoded data removed]",
      "text/plain": [
       "<Figure size 640x480 with 1 Axes>"
      ]
     },
     "metadata": {},
     "output_type": "display_data"
    }
   ],
   "source": [
    "fig, ax = plt.subplots(1, 1)\n",
    "# ax.hist(gene_means, density=True, bins='auto', histtype='stepfilled', alpha=0.2, label='means')\n",
    "ax.hist(test_sample, density=True, bins='auto', histtype='stepfilled', alpha=0.2, label='without_corr')\n",
    "ax.hist(sample, density=True, bins='auto', histtype='stepfilled', alpha=0.2, label='with_corr')\n",
    "ax.hist(rescaled_sample, density=True, bins='auto', histtype='stepfilled', alpha=0.2, label='with_corr_rescaled')\n",
    "\n",
    "\n",
    "# ax.hist(rescale, density=True, bins='auto', histtype='stepfilled', alpha=0.2)\n",
    "# ax.set_xlim(-20, 20)\n",
    "ax.legend(loc='best', frameon=False)\n",
    "plt.show()"
   ]
  },
  {
   "cell_type": "markdown",
   "id": "37a892e2",
   "metadata": {},
   "source": [
    "## Example: constructing multivariate normal - set low variance for known expression values (conditional genes)"
   ]
  },
  {
   "cell_type": "code",
   "execution_count": 685,
   "id": "00f4a7de",
   "metadata": {},
   "outputs": [
    {
     "name": "stdout",
     "output_type": "stream",
     "text": [
      "[2.80019027 0.1        0.008191   0.06498757 0.08615878]\n",
      "[0.1        2.80918765 0.1        0.1        0.01037864]\n",
      "[0.008191   0.1        2.80403781 0.02949391 0.1       ]\n",
      "[0.06498757 0.1        0.02949391 2.80966222 0.05916027]\n",
      "[0.08615878 0.01037864 0.1        0.05916027 2.80595953]\n",
      "[0.09778643 0.05409815 0.1        0.08461701 0.06326346]\n",
      "[0.09928367 0.06917081 0.1        0.08924297 0.07597152]\n",
      "[0.09558795 0.06851574 0.1        0.09216061 0.07378813]\n",
      "[0.03406693 0.01073703 0.03553461 0.02701243 0.01500331]\n",
      "[0.01844869 0.00483368 0.01649165 0.00994963 0.00769766]\n"
     ]
    }
   ],
   "source": [
    "for row in mod_cov_matrix[:10]:\n",
    "    print(row[:5])"
   ]
  },
  {
   "cell_type": "code",
   "execution_count": 710,
   "id": "263b963b",
   "metadata": {},
   "outputs": [],
   "source": [
    "# preprocessing\n",
    "cond_cov_matrix = mod_cov_matrix.copy()\n",
    "np.fill_diagonal(cond_cov_matrix, gene_vars)\n",
    "cond_cov_matrix[0][0] = 0.\n",
    "cond_cov_matrix[1][1] = 0."
   ]
  },
  {
   "cell_type": "code",
   "execution_count": 711,
   "id": "7cf28288",
   "metadata": {},
   "outputs": [
    {
     "name": "stdout",
     "output_type": "stream",
     "text": [
      "[0.         0.1        0.008191   0.06498757 0.08615878]\n",
      "[0.1        0.         0.1        0.1        0.01037864]\n",
      "[0.008191   0.1        0.03845744 0.02949391 0.1       ]\n",
      "[0.06498757 0.1        0.02949391 0.04408185 0.05916027]\n",
      "[0.08615878 0.01037864 0.1        0.05916027 0.04037916]\n",
      "[0.09778643 0.05409815 0.1        0.08461701 0.06326346]\n",
      "[0.09928367 0.06917081 0.1        0.08924297 0.07597152]\n",
      "[0.09558795 0.06851574 0.1        0.09216061 0.07378813]\n",
      "[0.03406693 0.01073703 0.03553461 0.02701243 0.01500331]\n",
      "[0.01844869 0.00483368 0.01649165 0.00994963 0.00769766]\n"
     ]
    }
   ],
   "source": [
    "\n",
    "# cond_cov_matrix[1:3,2:5] = 0\n",
    "# cond_cov_matrix[2:5,1:3] = 0\n",
    "for row in cond_cov_matrix[:10]:\n",
    "    print(row[:5])"
   ]
  },
  {
   "cell_type": "code",
   "execution_count": 712,
   "id": "557f4e72",
   "metadata": {},
   "outputs": [],
   "source": [
    "# adjust matrix to make it positive definite \n",
    "w, v = LA.eig(cond_cov_matrix)\n",
    "cond_cov_matrix = cond_cov_matrix + (abs(np.min(w)) + 1e-7)*np.identity(n)"
   ]
  },
  {
   "cell_type": "code",
   "execution_count": 713,
   "id": "0d3a8675",
   "metadata": {},
   "outputs": [
    {
     "name": "stdout",
     "output_type": "stream",
     "text": [
      "[2.76591177 0.1        0.008191   0.06498757 0.08615878]\n",
      "[0.1        2.76591177 0.1        0.1        0.01037864]\n",
      "[0.008191   0.1        2.80436921 0.02949391 0.1       ]\n",
      "[0.06498757 0.1        0.02949391 2.80999362 0.05916027]\n",
      "[0.08615878 0.01037864 0.1        0.05916027 2.80629093]\n",
      "[0.09778643 0.05409815 0.1        0.08461701 0.06326346]\n",
      "[0.09928367 0.06917081 0.1        0.08924297 0.07597152]\n",
      "[0.09558795 0.06851574 0.1        0.09216061 0.07378813]\n",
      "[0.03406693 0.01073703 0.03553461 0.02701243 0.01500331]\n",
      "[0.01844869 0.00483368 0.01649165 0.00994963 0.00769766]\n"
     ]
    }
   ],
   "source": [
    "for row in cond_cov_matrix[:10]:\n",
    "    print(row[:5])"
   ]
  },
  {
   "cell_type": "code",
   "execution_count": 714,
   "id": "b12063bd",
   "metadata": {},
   "outputs": [
    {
     "data": {
      "text/plain": [
       "array([1.        , 0.20882356, 0.19610569, 0.20995679, 0.20094566,\n",
       "       0.24385158, 0.28290245, 0.20945006, 0.22198126, 0.24520724,\n",
       "       0.2628695 , 0.1834831 , 0.28044837, 0.23865634, 0.23826   ,\n",
       "       0.20005719, 0.21108741, 0.20985854, 0.26212225, 0.26480426,\n",
       "       0.25977973, 0.21743511, 0.2590062 , 0.22294972, 0.24862806,\n",
       "       0.23827463, 0.26945909, 0.22071152, 0.21016382, 0.21171854,\n",
       "       0.15472029, 0.21320429, 0.20334415, 0.23253429, 0.26477574,\n",
       "       0.20785715, 0.24817908, 0.24104996, 0.18767385, 0.23115715,\n",
       "       0.26042853, 0.24586237, 0.23999711, 0.26238668, 0.2761071 ,\n",
       "       0.28359338, 0.2386538 , 0.30187102, 0.22605601, 0.2237137 ,\n",
       "       0.23621848, 0.25984292, 0.28376866, 0.28243106, 0.25521836,\n",
       "       0.30383792, 0.20933322, 0.25869955, 0.25637117, 0.24361392,\n",
       "       0.19625513, 0.22428705, 0.27031828, 0.26909346, 0.16953728,\n",
       "       0.24168735, 0.22772291, 0.23689837, 0.28936677, 0.23139414,\n",
       "       0.31402836, 0.2079133 , 0.24538149, 0.21937021, 0.30317704,\n",
       "       0.23873244, 0.26907757, 0.2336481 , 0.19315355, 0.22559664,\n",
       "       0.251953  , 0.28199225, 0.23548511, 0.31907799, 0.23045106,\n",
       "       0.23562963, 0.22211636, 0.24926765, 0.23530818, 0.26930851,\n",
       "       0.3101534 , 0.2453348 , 0.21047018, 0.23656116, 0.30857951,\n",
       "       0.22527973, 0.22191591, 0.22463985, 0.2503725 , 0.26749371,\n",
       "       0.26578943, 0.26621599, 0.27107079, 0.24632899, 0.1835275 ,\n",
       "       0.24359884, 0.27106464, 0.26342414, 0.21541174, 0.23388338,\n",
       "       0.21647239, 0.24791846, 0.22708851, 0.2744498 , 0.29974708,\n",
       "       0.30945206, 0.24403556, 0.19156752, 0.23518697, 0.19815289,\n",
       "       0.        , 0.20399604, 0.        , 0.22279679, 0.21074404,\n",
       "       0.        , 0.15977457, 0.11506203, 0.17027847, 0.10926235,\n",
       "       0.24001715, 0.1809324 , 0.09820893, 0.        , 0.21624071,\n",
       "       0.02488613, 0.12515918, 0.        , 0.2888691 , 0.        ,\n",
       "       0.        , 0.        , 0.        , 0.12851813, 0.21595658,\n",
       "       0.        , 0.        , 0.20425797, 0.16970521, 0.        ,\n",
       "       0.13724167, 0.10449653, 0.        , 0.16127946, 0.19788259,\n",
       "       0.19049322, 0.08005514, 0.16609019, 0.15801862, 0.16260911,\n",
       "       0.2099387 , 0.        , 0.12662406, 0.        , 0.        ,\n",
       "       0.        , 0.16175687, 0.16084837, 0.19990354, 0.09662525,\n",
       "       0.14186131, 0.        , 0.20170256, 0.        , 0.        ,\n",
       "       0.        , 0.11127418, 0.20976783, 0.        , 0.11401703,\n",
       "       0.        , 0.01034565, 0.        , 0.        , 0.17161366,\n",
       "       0.11101566, 0.11886457, 0.        , 0.        , 0.11801836,\n",
       "       0.09300807, 0.        , 0.19823896, 0.        , 0.        ,\n",
       "       0.15065896, 0.16774559, 0.        , 0.20549668, 0.16927395,\n",
       "       0.17030085, 0.        , 0.19033276, 0.        , 0.09767881,\n",
       "       0.        , 0.16852115, 0.1916269 , 0.        , 0.10604069,\n",
       "       0.08303774, 0.        , 0.12997578, 0.23841829, 0.        ,\n",
       "       0.19783763, 0.10624802, 0.        , 0.08217725])"
      ]
     },
     "execution_count": 714,
     "metadata": {},
     "output_type": "execute_result"
    }
   ],
   "source": [
    "mod_gene_stds = gene_stds.copy()\n",
    "mod_gene_stds[0] = 0\n",
    "mod_gene_stds[0] = 1\n",
    "mod_gene_stds"
   ]
  },
  {
   "cell_type": "code",
   "execution_count": null,
   "id": "7cbfc69a",
   "metadata": {},
   "outputs": [],
   "source": []
  },
  {
   "cell_type": "code",
   "execution_count": null,
   "id": "b97c33b4",
   "metadata": {},
   "outputs": [],
   "source": [
    "def get_patient_sample(means, cov_matrix, gene_stds, allow_singular=False):\n",
    "    rv = multivariate_normal(means, cov_matrix, allow_singular=allow_singular)\n",
    "    sample = rv.rvs(size=1, random_state=None) # sample gene expression for a dummy patient\n",
    "    # account for rescaled variances when making cov matrix positive semidefinite\n",
    "    rescaled_sample = (sample - means) * gene_stds + means\n",
    "    return np.clip(rescaled_sample, 0, 1)\n",
    "\n",
    "patient_sample = get_sample_patient(gene_means, mod_cov_matrix, gene_stds)"
   ]
  },
  {
   "cell_type": "code",
   "execution_count": 717,
   "id": "7287f122",
   "metadata": {},
   "outputs": [
    {
     "data": {
      "text/plain": [
       "-0.4818751505309441"
      ]
     },
     "execution_count": 717,
     "metadata": {},
     "output_type": "execute_result"
    }
   ],
   "source": [
    "test_sample.min()"
   ]
  },
  {
   "cell_type": "code",
   "execution_count": 734,
   "id": "5cceb368",
   "metadata": {},
   "outputs": [
    {
     "data": {
      "image/png": "[encoded data removed]",
      "text/plain": [
       "<Figure size 640x480 with 1 Axes>"
      ]
     },
     "metadata": {},
     "output_type": "display_data"
    }
   ],
   "source": [
    "fig, ax = plt.subplots(1, 1)\n",
    "# ax.hist(gene_means, density=True, bins='auto', histtype='stepfilled', alpha=0.2, label='means')\n",
    "ax.hist(test_sample, density=True, bins='auto', histtype='stepfilled', alpha=0.2, label='without_corr')\n",
    "ax.hist(sample, density=True, bins='auto', histtype='stepfilled', alpha=0.2, label=\"with_corr\")\n",
    "ax.hist(rescaled_sample, density=True, bins='auto', histtype='stepfilled', alpha=0.2, label='with_corr_rescaled')\n",
    "ax.set_title(\"The effect of the use of correlations on sample distributions (no clipping)\")\n",
    "ax.set_xlabel(\"Expression level (scaled)\")\n",
    "ax.set_ylabel(\"Probability density?\")\n",
    "\n",
    "\n",
    "# ax.hist(rescale, density=True, bins='auto', histtype='stepfilled', alpha=0.2)\n",
    "# ax.set_xlim(-20, 20)\n",
    "ax.legend(loc='best', frameon=False)\n",
    "plt.show()"
   ]
  },
  {
   "cell_type": "code",
   "execution_count": 735,
   "id": "1f9621e9",
   "metadata": {},
   "outputs": [
    {
     "data": {
      "image/png": "[encoded data removed]",
      "text/plain": [
       "<Figure size 640x480 with 1 Axes>"
      ]
     },
     "metadata": {},
     "output_type": "display_data"
    }
   ],
   "source": [
    "fig, ax = plt.subplots(1, 1)\n",
    "# ax.hist(gene_means, density=True, bins='auto', histtype='stepfilled', alpha=0.2, label='means')\n",
    "ax.hist(np.clip(test_sample, 0, 1), density=True, bins='auto', histtype='stepfilled', alpha=0.2, label='without_corr')\n",
    "ax.hist(np.clip(sample, 0, 1), density=True, bins='auto', histtype='stepfilled', alpha=0.2, label='with_corr')\n",
    "ax.hist(np.clip(rescaled_sample, 0, 1), density=True, bins='auto', histtype='stepfilled', alpha=0.2, label='with_corr_rescaled')\n",
    "ax.set_title(\"The effect of the use of correlations on sample distributions (with clipping)\")\n",
    "ax.set_xlabel(\"Expression level (scaled)\")\n",
    "ax.set_ylabel(\"Probability density?\")\n",
    "\n",
    "\n",
    "# ax.hist(rescale, density=True, bins='auto', histtype='stepfilled', alpha=0.2)\n",
    "# ax.set_xlim(-20, 20)\n",
    "ax.legend(loc='best', frameon=False)\n",
    "plt.show()"
   ]
  },
  {
   "cell_type": "code",
   "execution_count": null,
   "id": "f462fb23",
   "metadata": {},
   "outputs": [],
   "source": [
    "patient_sample = np.clip(sample, 0, 1)"
   ]
  },
  {
   "cell_type": "code",
   "execution_count": null,
   "id": "c587bb13",
   "metadata": {},
   "outputs": [],
   "source": []
  },
  {
   "cell_type": "code",
   "execution_count": null,
   "id": "de2801f0",
   "metadata": {},
   "outputs": [],
   "source": []
  },
  {
   "cell_type": "code",
   "execution_count": null,
   "id": "2cfb0335",
   "metadata": {},
   "outputs": [],
   "source": []
  },
  {
   "cell_type": "code",
   "execution_count": null,
   "id": "8b3f2796",
   "metadata": {},
   "outputs": [],
   "source": []
  },
  {
   "cell_type": "code",
   "execution_count": null,
   "id": "7d46877e",
   "metadata": {},
   "outputs": [],
   "source": []
  },
  {
   "cell_type": "markdown",
   "id": "6c4006a8",
   "metadata": {},
   "source": [
    "## Full workflow"
   ]
  },
  {
   "cell_type": "code",
   "execution_count": null,
   "id": "9a00611b",
   "metadata": {},
   "outputs": [],
   "source": []
  },
  {
   "cell_type": "code",
   "execution_count": 81,
   "id": "e40821e6",
   "metadata": {},
   "outputs": [],
   "source": [
    "from numpy import inf\n",
    "from scipy.stats import norm\n",
    "from sklearn.preprocessing import MinMaxScaler\n",
    "from numpy import linalg as LA"
   ]
  },
  {
   "cell_type": "markdown",
   "id": "48f25af6",
   "metadata": {},
   "source": [
    "### Calculate gene statistics"
   ]
  },
  {
   "cell_type": "code",
   "execution_count": 82,
   "id": "8fc79206",
   "metadata": {},
   "outputs": [],
   "source": [
    "x_stats = x_test_scaled.describe().iloc[[1,2,3,-1]]"
   ]
  },
  {
   "cell_type": "code",
   "execution_count": 83,
   "id": "0a1fe0fe",
   "metadata": {},
   "outputs": [
    {
     "data": {
      "text/html": [
       "<div>\n",
       "<style scoped>\n",
       "    .dataframe tbody tr th:only-of-type {\n",
       "        vertical-align: middle;\n",
       "    }\n",
       "\n",
       "    .dataframe tbody tr th {\n",
       "        vertical-align: top;\n",
       "    }\n",
       "\n",
       "    .dataframe thead th {\n",
       "        text-align: right;\n",
       "    }\n",
       "</style>\n",
       "<table border=\"1\" class=\"dataframe\">\n",
       "  <thead>\n",
       "    <tr style=\"text-align: right;\">\n",
       "      <th></th>\n",
       "      <th>AADAC</th>\n",
       "      <th>APOA1</th>\n",
       "      <th>APOA4</th>\n",
       "      <th>APOB</th>\n",
       "      <th>APOC3</th>\n",
       "      <th>AQP9</th>\n",
       "      <th>C6</th>\n",
       "      <th>CEACAM7</th>\n",
       "      <th>CHI3L1</th>\n",
       "      <th>ABCC2</th>\n",
       "      <th>...</th>\n",
       "      <th>TAF15</th>\n",
       "      <th>ZFYVE20</th>\n",
       "      <th>LOC100420253</th>\n",
       "      <th>LY6G5B</th>\n",
       "      <th>C5orf58</th>\n",
       "      <th>RSL24D1P1</th>\n",
       "      <th>MIEN1</th>\n",
       "      <th>PCBP1_AS1</th>\n",
       "      <th>LOC100133165</th>\n",
       "      <th>DNAJB8</th>\n",
       "    </tr>\n",
       "  </thead>\n",
       "  <tbody>\n",
       "    <tr>\n",
       "      <th>mean</th>\n",
       "      <td>0.662326</td>\n",
       "      <td>0.615285</td>\n",
       "      <td>0.670829</td>\n",
       "      <td>0.658361</td>\n",
       "      <td>0.625205</td>\n",
       "      <td>0.459972</td>\n",
       "      <td>0.344742</td>\n",
       "      <td>0.345704</td>\n",
       "      <td>0.546377</td>\n",
       "      <td>0.595752</td>\n",
       "      <td>...</td>\n",
       "      <td>0.359887</td>\n",
       "      <td>0.248426</td>\n",
       "      <td>0.0</td>\n",
       "      <td>0.777372</td>\n",
       "      <td>0.440612</td>\n",
       "      <td>0.0</td>\n",
       "      <td>0.418557</td>\n",
       "      <td>0.331811</td>\n",
       "      <td>0.0</td>\n",
       "      <td>0.009305</td>\n",
       "    </tr>\n",
       "    <tr>\n",
       "      <th>std</th>\n",
       "      <td>0.186037</td>\n",
       "      <td>0.208824</td>\n",
       "      <td>0.196106</td>\n",
       "      <td>0.209957</td>\n",
       "      <td>0.200946</td>\n",
       "      <td>0.243852</td>\n",
       "      <td>0.282902</td>\n",
       "      <td>0.209450</td>\n",
       "      <td>0.221981</td>\n",
       "      <td>0.245207</td>\n",
       "      <td>...</td>\n",
       "      <td>0.106041</td>\n",
       "      <td>0.083038</td>\n",
       "      <td>0.0</td>\n",
       "      <td>0.129976</td>\n",
       "      <td>0.238418</td>\n",
       "      <td>0.0</td>\n",
       "      <td>0.197838</td>\n",
       "      <td>0.106248</td>\n",
       "      <td>0.0</td>\n",
       "      <td>0.082177</td>\n",
       "    </tr>\n",
       "    <tr>\n",
       "      <th>min</th>\n",
       "      <td>0.165531</td>\n",
       "      <td>0.141475</td>\n",
       "      <td>0.179189</td>\n",
       "      <td>0.041787</td>\n",
       "      <td>0.105744</td>\n",
       "      <td>0.000000</td>\n",
       "      <td>0.000000</td>\n",
       "      <td>0.000000</td>\n",
       "      <td>0.037820</td>\n",
       "      <td>0.077684</td>\n",
       "      <td>...</td>\n",
       "      <td>0.107633</td>\n",
       "      <td>-0.031527</td>\n",
       "      <td>0.0</td>\n",
       "      <td>0.323550</td>\n",
       "      <td>0.000000</td>\n",
       "      <td>0.0</td>\n",
       "      <td>0.048748</td>\n",
       "      <td>0.061934</td>\n",
       "      <td>0.0</td>\n",
       "      <td>0.000000</td>\n",
       "    </tr>\n",
       "    <tr>\n",
       "      <th>max</th>\n",
       "      <td>0.930585</td>\n",
       "      <td>1.029728</td>\n",
       "      <td>0.969910</td>\n",
       "      <td>0.950466</td>\n",
       "      <td>0.980092</td>\n",
       "      <td>1.151876</td>\n",
       "      <td>1.191519</td>\n",
       "      <td>0.915734</td>\n",
       "      <td>0.997430</td>\n",
       "      <td>1.042678</td>\n",
       "      <td>...</td>\n",
       "      <td>0.681479</td>\n",
       "      <td>0.404644</td>\n",
       "      <td>0.0</td>\n",
       "      <td>1.013531</td>\n",
       "      <td>1.221905</td>\n",
       "      <td>0.0</td>\n",
       "      <td>1.013627</td>\n",
       "      <td>0.701615</td>\n",
       "      <td>0.0</td>\n",
       "      <td>0.725770</td>\n",
       "    </tr>\n",
       "  </tbody>\n",
       "</table>\n",
       "<p>4 rows × 219 columns</p>\n",
       "</div>"
      ],
      "text/plain": [
       "         AADAC     APOA1     APOA4      APOB     APOC3      AQP9        C6  \\\n",
       "mean  0.662326  0.615285  0.670829  0.658361  0.625205  0.459972  0.344742   \n",
       "std   0.186037  0.208824  0.196106  0.209957  0.200946  0.243852  0.282902   \n",
       "min   0.165531  0.141475  0.179189  0.041787  0.105744  0.000000  0.000000   \n",
       "max   0.930585  1.029728  0.969910  0.950466  0.980092  1.151876  1.191519   \n",
       "\n",
       "       CEACAM7    CHI3L1     ABCC2  ...     TAF15   ZFYVE20  LOC100420253  \\\n",
       "mean  0.345704  0.546377  0.595752  ...  0.359887  0.248426           0.0   \n",
       "std   0.209450  0.221981  0.245207  ...  0.106041  0.083038           0.0   \n",
       "min   0.000000  0.037820  0.077684  ...  0.107633 -0.031527           0.0   \n",
       "max   0.915734  0.997430  1.042678  ...  0.681479  0.404644           0.0   \n",
       "\n",
       "        LY6G5B   C5orf58  RSL24D1P1     MIEN1  PCBP1_AS1  LOC100133165  \\\n",
       "mean  0.777372  0.440612        0.0  0.418557   0.331811           0.0   \n",
       "std   0.129976  0.238418        0.0  0.197838   0.106248           0.0   \n",
       "min   0.323550  0.000000        0.0  0.048748   0.061934           0.0   \n",
       "max   1.013531  1.221905        0.0  1.013627   0.701615           0.0   \n",
       "\n",
       "        DNAJB8  \n",
       "mean  0.009305  \n",
       "std   0.082177  \n",
       "min   0.000000  \n",
       "max   0.725770  \n",
       "\n",
       "[4 rows x 219 columns]"
      ]
     },
     "execution_count": 83,
     "metadata": {},
     "output_type": "execute_result"
    }
   ],
   "source": [
    "x_stats"
   ]
  },
  {
   "cell_type": "code",
   "execution_count": 84,
   "id": "11e2dd74",
   "metadata": {},
   "outputs": [],
   "source": [
    "gene_means = x_stats.iloc[0,:].values"
   ]
  },
  {
   "cell_type": "code",
   "execution_count": 85,
   "id": "9a4d2cc2",
   "metadata": {},
   "outputs": [],
   "source": [
    "\n",
    "gene_stds = x_stats.iloc[1,:].values"
   ]
  },
  {
   "cell_type": "code",
   "execution_count": 86,
   "id": "0c931b71",
   "metadata": {},
   "outputs": [],
   "source": [
    "gene_vars = np.square(gene_stds)"
   ]
  },
  {
   "cell_type": "markdown",
   "id": "16871900",
   "metadata": {},
   "source": [
    "### Build covariance matrix"
   ]
  },
  {
   "cell_type": "code",
   "execution_count": 87,
   "id": "a752cfc6",
   "metadata": {},
   "outputs": [
    {
     "data": {
      "text/plain": [
       "(219, 219)"
      ]
     },
     "execution_count": 87,
     "metadata": {},
     "output_type": "execute_result"
    }
   ],
   "source": [
    "n = x_test_scaled.shape[1]\n",
    "cov = np.zeros((n,n))\n",
    "cov.shape"
   ]
  },
  {
   "cell_type": "markdown",
   "id": "3e8924e6",
   "metadata": {},
   "source": [
    "### Calculate correlations using KL divergence"
   ]
  },
  {
   "cell_type": "code",
   "execution_count": 88,
   "id": "56975e61",
   "metadata": {},
   "outputs": [
    {
     "name": "stderr",
     "output_type": "stream",
     "text": [
      "C:\\Users\\shard\\AppData\\Local\\Temp\\ipykernel_27476\\1465387533.py:12: RuntimeWarning: divide by zero encountered in log\n",
      "  a = np.log(s2/s1)\n"
     ]
    }
   ],
   "source": [
    "\n",
    "\n",
    "# https://jamesmccaffrey.wordpress.com/2021/02/03/the-kullback-leibler-divergence-for-two-gaussian-distributions/\n",
    "def kld_gauss(u1, s1, u2, s2):\n",
    "  # general KL two Gaussians\n",
    "  # u2, s2 often N(0,1)\n",
    "  # https://stats.stackexchange.com/questions/7440/ +\n",
    "  # kl-divergence-between-two-univariate-gaussians\n",
    "  # log(s2/s1) + [( s1^2 + (u1-u2)^2 ) / 2*s2^2] - 0.5\n",
    "  v1 = s1 * s1\n",
    "  v2 = s2 * s2\n",
    "  if s1 == 0:\n",
    "    s1 = 0.005\n",
    "  a = np.log(s2/s1) \n",
    "  num = v1 + (u1 - u2)**2\n",
    "  den = 2 * v2\n",
    "  if den == 0:\n",
    "    den = 0.005\n",
    "  b = num / den\n",
    "  return a + b - 0.5\n",
    "\n",
    "def build_cov_matrix(gene_means, gene_stds):\n",
    "    min_v = inf\n",
    "    max_v = -inf\n",
    "    for i in range(n):\n",
    "        curr_mean = gene_means[i]\n",
    "        curr_std = gene_stds[i]\n",
    "\n",
    "        for j in range(i+1, n):\n",
    "            other_mean = gene_means[j]\n",
    "            other_std = gene_stds[j]\n",
    "            kl = kld_gauss(curr_mean, curr_std, other_mean, other_std)\n",
    "            cov[i][j] = kl\n",
    "\n",
    "            #max/min\n",
    "            min_v = min(min_v, kl)\n",
    "            max_v = max(max_v, kl)\n",
    "    return cov, min_v, max_v\n",
    "\n",
    "cov, min_v, max_v = build_cov_matrix(gene_means, gene_stds)\n",
    "        \n"
   ]
  },
  {
   "cell_type": "code",
   "execution_count": 89,
   "id": "33ddda1d",
   "metadata": {},
   "outputs": [
    {
     "name": "stdout",
     "output_type": "stream",
     "text": [
      "-inf\n",
      "3242.75701710342\n"
     ]
    }
   ],
   "source": [
    "print(min_v)\n",
    "print(max_v)"
   ]
  },
  {
   "cell_type": "code",
   "execution_count": 90,
   "id": "078c5f43",
   "metadata": {},
   "outputs": [
    {
     "data": {
      "text/plain": [
       "True"
      ]
     },
     "execution_count": 90,
     "metadata": {},
     "output_type": "execute_result"
    }
   ],
   "source": [
    "nans = np.isnan(cov)\n",
    "np.all(nans == False)"
   ]
  },
  {
   "cell_type": "code",
   "execution_count": 91,
   "id": "a4779451",
   "metadata": {},
   "outputs": [],
   "source": [
    "\n",
    "cov[cov == -inf] = -max_v"
   ]
  },
  {
   "cell_type": "code",
   "execution_count": 92,
   "id": "aeab6585",
   "metadata": {},
   "outputs": [
    {
     "name": "stdout",
     "output_type": "stream",
     "text": [
      "[0.         0.03775068 0.00362284 0.01369654 0.02271162]\n",
      "[0.         0.         0.04422957 0.02107563 0.00273583]\n",
      "[0.         0.         0.         0.00621603 0.02636019]\n",
      "[0.         0.         0.         0.         0.01559476]\n",
      "[0. 0. 0. 0. 0.]\n",
      "[0. 0. 0. 0. 0.]\n",
      "[0. 0. 0. 0. 0.]\n",
      "[0. 0. 0. 0. 0.]\n",
      "[0. 0. 0. 0. 0.]\n",
      "[0. 0. 0. 0. 0.]\n"
     ]
    }
   ],
   "source": [
    "for row in cov[:10]:\n",
    "    print(row[:5])"
   ]
  },
  {
   "cell_type": "markdown",
   "id": "d4351d4b",
   "metadata": {},
   "source": [
    "### Scale down correlations"
   ]
  },
  {
   "cell_type": "code",
   "execution_count": 93,
   "id": "af24876c",
   "metadata": {},
   "outputs": [],
   "source": [
    "\n",
    "standard_scaler = MinMaxScaler((0,.1))\n",
    "cov_matrix = standard_scaler.fit_transform(cov)"
   ]
  },
  {
   "cell_type": "code",
   "execution_count": 94,
   "id": "e786c5b0",
   "metadata": {},
   "outputs": [],
   "source": [
    "# reduce scale of correlations even more\n",
    "# cov_matrix /= 10"
   ]
  },
  {
   "cell_type": "code",
   "execution_count": 95,
   "id": "11f31ddf",
   "metadata": {},
   "outputs": [
    {
     "name": "stdout",
     "output_type": "stream",
     "text": [
      "[0.         0.1        0.008191   0.06498757 0.08615878]\n",
      "[0.         0.         0.1        0.1        0.01037864]\n",
      "[0.         0.         0.         0.02949391 0.1       ]\n",
      "[0.         0.         0.         0.         0.05916027]\n",
      "[0. 0. 0. 0. 0.]\n",
      "[0. 0. 0. 0. 0.]\n",
      "[0. 0. 0. 0. 0.]\n",
      "[0. 0. 0. 0. 0.]\n",
      "[0. 0. 0. 0. 0.]\n",
      "[0. 0. 0. 0. 0.]\n"
     ]
    }
   ],
   "source": [
    "for row in cov_matrix[:10]:\n",
    "    print(row[:5])"
   ]
  },
  {
   "cell_type": "markdown",
   "id": "62191052",
   "metadata": {},
   "source": [
    "### Reflection to lower triangle"
   ]
  },
  {
   "cell_type": "code",
   "execution_count": 96,
   "id": "9359577d",
   "metadata": {},
   "outputs": [
    {
     "name": "stdout",
     "output_type": "stream",
     "text": [
      "[0.         0.1        0.008191   0.06498757 0.08615878]\n",
      "[0.1        0.         0.1        0.1        0.01037864]\n",
      "[0.008191   0.1        0.         0.02949391 0.1       ]\n",
      "[0.06498757 0.1        0.02949391 0.         0.05916027]\n",
      "[0.08615878 0.01037864 0.1        0.05916027 0.        ]\n",
      "[0.09778643 0.05409815 0.1        0.08461701 0.06326346]\n",
      "[0.09928367 0.06917081 0.1        0.08924297 0.07597152]\n",
      "[0.09558795 0.06851574 0.1        0.09216061 0.07378813]\n",
      "[0.03406693 0.01073703 0.03553461 0.02701243 0.01500331]\n",
      "[0.01844869 0.00483368 0.01649165 0.00994963 0.00769766]\n"
     ]
    }
   ],
   "source": [
    "# https://stackoverflow.com/questions/16444930/copy-upper-triangle-to-lower-triangle-in-a-python-matrix\n",
    "i_lower = np.tril_indices(n, -1)\n",
    "cov_matrix[i_lower] = cov_matrix.T[i_lower]  # make the matrix symmetric\n",
    "\n",
    "for row in cov_matrix[:10]:\n",
    "    print(row[:5])"
   ]
  },
  {
   "cell_type": "code",
   "execution_count": 97,
   "id": "57051f0e",
   "metadata": {},
   "outputs": [],
   "source": [
    "np.fill_diagonal(cov_matrix, gene_vars)"
   ]
  },
  {
   "cell_type": "markdown",
   "id": "1877821e",
   "metadata": {},
   "source": [
    "### Processing - conditional genes & matrix adjustment"
   ]
  },
  {
   "cell_type": "code",
   "execution_count": 108,
   "id": "28d7b263",
   "metadata": {},
   "outputs": [],
   "source": [
    "mod_gene_stds = gene_stds.copy()\n",
    "mod_gene_means = gene_means.copy()\n"
   ]
  },
  {
   "cell_type": "code",
   "execution_count": 109,
   "id": "66af98f3",
   "metadata": {},
   "outputs": [],
   "source": [
    "# if conditional genes, reset corresponding means\n",
    "mod_gene_means[0] = 0.7\n",
    "mod_gene_means[1] = 0.6\n",
    "\n",
    "\n",
    "# then set 0 variances and stds\n",
    "cond_gene_ids = [0,1]\n",
    "\n",
    "def set_cond_vars(cond_gene_ids, cov_matrix, gene_stds):\n",
    "    for idx in cond_gene_ids:\n",
    "        cov_matrix[idx][idx] = 0.\n",
    "        mod_gene_stds[idx] = 0.\n",
    "    return cov_matrix, gene_stds\n",
    "\n",
    "cov_matrix, mod_gene_stds = set_cond_vars(cond_gene_ids, cov_matrix, mod_gene_stds)"
   ]
  },
  {
   "cell_type": "code",
   "execution_count": 110,
   "id": "6e4aa4ce",
   "metadata": {},
   "outputs": [
    {
     "name": "stdout",
     "output_type": "stream",
     "text": [
      "[0.         0.1        0.008191   0.06498757 0.08615878]\n",
      "[0.1        0.         0.1        0.1        0.01037864]\n",
      "[0.008191   0.1        0.03845744 0.02949391 0.1       ]\n",
      "[0.06498757 0.1        0.02949391 0.04408185 0.05916027]\n",
      "[0.08615878 0.01037864 0.1        0.05916027 0.04037916]\n",
      "[0.09778643 0.05409815 0.1        0.08461701 0.06326346]\n",
      "[0.09928367 0.06917081 0.1        0.08924297 0.07597152]\n",
      "[0.09558795 0.06851574 0.1        0.09216061 0.07378813]\n",
      "[0.03406693 0.01073703 0.03553461 0.02701243 0.01500331]\n",
      "[0.01844869 0.00483368 0.01649165 0.00994963 0.00769766]\n"
     ]
    }
   ],
   "source": [
    "\n",
    "# cond_cov_matrix[1:3,2:5] = 0\n",
    "# cond_cov_matrix[2:5,1:3] = 0\n",
    "for row in cov_matrix[:10]:\n",
    "    print(row[:5])"
   ]
  },
  {
   "cell_type": "code",
   "execution_count": 111,
   "id": "af278a14",
   "metadata": {},
   "outputs": [],
   "source": [
    "# adjust matrix to make it positive definite \n",
    "w, v = LA.eig(cov_matrix)\n",
    "cond_cov_matrix = cov_matrix + (abs(np.min(w)) + 1e-7)*np.identity(n)"
   ]
  },
  {
   "cell_type": "code",
   "execution_count": 112,
   "id": "9e53cb93",
   "metadata": {},
   "outputs": [
    {
     "name": "stdout",
     "output_type": "stream",
     "text": [
      "[2.76591177 0.1        0.008191   0.06498757 0.08615878]\n",
      "[0.1        2.76591177 0.1        0.1        0.01037864]\n",
      "[0.008191   0.1        2.80436921 0.02949391 0.1       ]\n",
      "[0.06498757 0.1        0.02949391 2.80999362 0.05916027]\n",
      "[0.08615878 0.01037864 0.1        0.05916027 2.80629093]\n",
      "[0.09778643 0.05409815 0.1        0.08461701 0.06326346]\n",
      "[0.09928367 0.06917081 0.1        0.08924297 0.07597152]\n",
      "[0.09558795 0.06851574 0.1        0.09216061 0.07378813]\n",
      "[0.03406693 0.01073703 0.03553461 0.02701243 0.01500331]\n",
      "[0.01844869 0.00483368 0.01649165 0.00994963 0.00769766]\n"
     ]
    }
   ],
   "source": [
    "for row in cond_cov_matrix[:10]:\n",
    "    print(row[:5])"
   ]
  },
  {
   "cell_type": "code",
   "execution_count": null,
   "id": "6db97553",
   "metadata": {},
   "outputs": [],
   "source": []
  },
  {
   "cell_type": "code",
   "execution_count": 113,
   "id": "5567dbf8",
   "metadata": {},
   "outputs": [],
   "source": [
    "def get_patient_sample(means, cov_matrix, gene_stds, allow_singular=False):\n",
    "    rv = multivariate_normal(means, cov_matrix, allow_singular=allow_singular)\n",
    "    sample = rv.rvs(size=1, random_state=None) # sample gene expression for a dummy patient\n",
    "    # account for rescaled variances when making cov matrix positive semidefinite\n",
    "    rescaled_sample = (sample - means) * gene_stds + means\n",
    "    return np.clip(rescaled_sample, 0, 1)\n",
    "\n",
    "patient_sample = get_patient_sample(mod_gene_means, cond_cov_matrix, mod_gene_stds)"
   ]
  },
  {
   "cell_type": "code",
   "execution_count": 114,
   "id": "a89596c4",
   "metadata": {},
   "outputs": [
    {
     "data": {
      "text/plain": [
       "0.0"
      ]
     },
     "execution_count": 114,
     "metadata": {},
     "output_type": "execute_result"
    }
   ],
   "source": [
    "patient_sample.min()"
   ]
  },
  {
   "cell_type": "code",
   "execution_count": 115,
   "id": "f8c4fbc9",
   "metadata": {},
   "outputs": [],
   "source": [
    "# test_sample using only variance, no correlations\n",
    "test_cov = np.zeros((n,n))\n",
    "np.fill_diagonal(test_cov, gene_vars) \n",
    "\n",
    "rv_test = multivariate_normal(gene_means, test_cov, allow_singular=True)\n",
    "test_sample = np.clip(rv_test.rvs(size=1, random_state=None), 0, 1)"
   ]
  },
  {
   "cell_type": "code",
   "execution_count": 116,
   "id": "ac584dc0",
   "metadata": {},
   "outputs": [
    {
     "data": {
      "image/png": "[encoded data removed]",
      "text/plain": [
       "<Figure size 640x480 with 1 Axes>"
      ]
     },
     "metadata": {},
     "output_type": "display_data"
    }
   ],
   "source": [
    "fig, ax = plt.subplots(1, 1)\n",
    "# ax.hist(gene_means, density=True, bins='auto', histtype='stepfilled', alpha=0.2, label='means')\n",
    "ax.hist(test_sample, density=True, bins='auto', histtype='stepfilled', alpha=0.2, label='without_corr')\n",
    "ax.hist(patient_sample, density=True, bins='auto', histtype='stepfilled', alpha=0.2, label=\"with_corr\")\n",
    "# ax.hist(rescaled_sample, density=True, bins='auto', histtype='stepfilled', alpha=0.2, label='with_corr_rescaled')\n",
    "ax.set_title(\"The effect of the use of correlations on sample distributions (no clipping)\")\n",
    "ax.set_xlabel(\"Expression level (scaled)\")\n",
    "ax.set_ylabel(\"Probability density?\")\n",
    "\n",
    "\n",
    "# ax.hist(rescale, density=True, bins='auto', histtype='stepfilled', alpha=0.2)\n",
    "# ax.set_xlim(-20, 20)\n",
    "ax.legend(loc='best', frameon=False)\n",
    "plt.show()"
   ]
  },
  {
   "cell_type": "markdown",
   "id": "d8c01822",
   "metadata": {},
   "source": [
    "## Calculate SHAP values"
   ]
  },
  {
   "cell_type": "code",
   "execution_count": 40,
   "id": "b9119747",
   "metadata": {},
   "outputs": [
    {
     "ename": "NameError",
     "evalue": "name 'shap_values' is not defined",
     "output_type": "error",
     "traceback": [
      "\u001b[1;31m---------------------------------------------------------------------------\u001b[0m",
      "\u001b[1;31mNameError\u001b[0m                                 Traceback (most recent call last)",
      "Cell \u001b[1;32mIn[40], line 1\u001b[0m\n\u001b[1;32m----> 1\u001b[0m \u001b[43mshap_values\u001b[49m[\u001b[38;5;241m0\u001b[39m]\u001b[38;5;241m.\u001b[39mshape\n",
      "\u001b[1;31mNameError\u001b[0m: name 'shap_values' is not defined"
     ]
    }
   ],
   "source": [
    "shap_values[0].shape"
   ]
  },
  {
   "cell_type": "code",
   "execution_count": 41,
   "id": "d2611e83",
   "metadata": {
    "scrolled": false
   },
   "outputs": [
    {
     "name": "stdout",
     "output_type": "stream",
     "text": [
      "Calculating SHAP values\n"
     ]
    },
    {
     "data": {
      "application/vnd.jupyter.widget-view+json": {
       "model_id": "849949688a5443e3aab66ceecca751ec",
       "version_major": 2,
       "version_minor": 0
      },
      "text/plain": [
       "  0%|          | 0/2 [00:00<?, ?it/s]"
      ]
     },
     "metadata": {},
     "output_type": "display_data"
    },
    {
     "name": "stdout",
     "output_type": "stream",
     "text": [
      "1/1 [==============================] - 0s 10ms/step\n",
      "initial synthetic data: [[0.70281301 0.79905181 0.71966466 ... 0.62264083 0.         1.        ]\n",
      " [0.75140807 0.6037073  0.62276799 ... 0.30117921 0.         0.        ]\n",
      " [0.70281301 0.79905181 0.71966466 ... 0.62264083 0.         1.        ]\n",
      " ...\n",
      " [0.75140807 0.6037073  0.62276799 ... 0.30117921 0.         0.        ]\n",
      " [0.70281301 0.79905181 0.71966466 ... 0.62264083 0.         1.        ]\n",
      " [0.75140807 0.6037073  0.62276799 ... 0.30117921 0.         0.        ]]\n",
      "shape: 4820\n",
      "219\n",
      "synthetic samples generated: [[0.86918482 0.79905181 0.71966466 ... 0.62264083 0.         1.        ]\n",
      " [0.86918482 0.6037073  0.62276799 ... 0.30117921 0.         0.        ]\n",
      " [0.70281301 0.84188037 0.9301712  ... 0.34991969 0.         0.        ]\n",
      " ...\n",
      " [0.75140807 0.84188037 0.9301712  ... 0.34991969 0.         0.        ]\n",
      " [0.86918482 0.79905181 0.71966466 ... 0.62264083 0.         0.        ]\n",
      " [0.86918482 0.6037073  0.62276799 ... 0.30117921 0.         0.        ]]\n",
      "shape: 4820\n",
      "219\n",
      "151/151 [==============================] - 0s 861us/step\n",
      "1/1 [==============================] - 0s 10ms/step\n",
      "initial synthetic data: [[0.70281301 0.79905181 0.71966466 ... 0.62264083 0.         1.        ]\n",
      " [0.75140807 0.6037073  0.62276799 ... 0.30117921 0.         0.        ]\n",
      " [0.70281301 0.79905181 0.71966466 ... 0.62264083 0.         1.        ]\n",
      " ...\n",
      " [0.75140807 0.6037073  0.62276799 ... 0.30117921 0.         0.        ]\n",
      " [0.70281301 0.79905181 0.71966466 ... 0.62264083 0.         1.        ]\n",
      " [0.75140807 0.6037073  0.62276799 ... 0.30117921 0.         0.        ]]\n",
      "shape: 4820\n",
      "219\n",
      "synthetic samples generated: [[0.85356179 0.79905181 0.71966466 ... 0.62264083 0.         1.        ]\n",
      " [0.85356179 0.6037073  0.62276799 ... 0.30117921 0.         0.        ]\n",
      " [0.70281301 0.93353183 0.94221329 ... 0.26822402 0.         0.        ]\n",
      " ...\n",
      " [0.75140807 0.93353183 0.94221329 ... 0.30117921 0.         0.        ]\n",
      " [0.85356179 0.79905181 0.71966466 ... 0.26822402 0.         0.        ]\n",
      " [0.85356179 0.6037073  0.62276799 ... 0.26822402 0.         0.        ]]\n",
      "shape: 4820\n",
      "219\n",
      "151/151 [==============================] - 0s 913us/step\n"
     ]
    }
   ],
   "source": [
    "shap_values = explainer.shap_values(X=x_test_scaled[:2])"
   ]
  },
  {
   "cell_type": "code",
   "execution_count": null,
   "id": "b52a26da",
   "metadata": {},
   "outputs": [],
   "source": [
    "shap_values"
   ]
  },
  {
   "cell_type": "markdown",
   "id": "17346fcd",
   "metadata": {},
   "source": [
    "## Save SHAP values"
   ]
  },
  {
   "cell_type": "code",
   "execution_count": 42,
   "id": "3fcb2d5a",
   "metadata": {},
   "outputs": [],
   "source": [
    "# with open(\"shap_values\", \"wb\") as fp:   #Pickling\n",
    "#     pickle.dump(shap_values, fp)"
   ]
  },
  {
   "cell_type": "code",
   "execution_count": 43,
   "id": "dd6aada4",
   "metadata": {},
   "outputs": [],
   "source": [
    "\n",
    "\n",
    "with open(\"../shap_values\", \"rb\") as fp:   # Unpickling\n",
    "    shap_values = pickle.load(fp)"
   ]
  },
  {
   "cell_type": "code",
   "execution_count": 44,
   "id": "fdc84742",
   "metadata": {},
   "outputs": [
    {
     "name": "stdout",
     "output_type": "stream",
     "text": [
      "length of SHAP values: 3\n",
      "Shape of each element: (78, 219)\n"
     ]
    }
   ],
   "source": [
    "print(f'length of SHAP values: {len(shap_values)}')\n",
    "print(f'Shape of each element: {shap_values[0].shape}')"
   ]
  }
 ],
 "metadata": {
  "kernelspec": {
   "display_name": "Python 3 (ipykernel)",
   "language": "python",
   "name": "python3"
  },
  "language_info": {
   "codemirror_mode": {
    "name": "ipython",
    "version": 3
   },
   "file_extension": ".py",
   "mimetype": "text/x-python",
   "name": "python",
   "nbconvert_exporter": "python",
   "pygments_lexer": "ipython3",
   "version": "3.10.9"
  }
 },
 "nbformat": 4,
 "nbformat_minor": 5
}
