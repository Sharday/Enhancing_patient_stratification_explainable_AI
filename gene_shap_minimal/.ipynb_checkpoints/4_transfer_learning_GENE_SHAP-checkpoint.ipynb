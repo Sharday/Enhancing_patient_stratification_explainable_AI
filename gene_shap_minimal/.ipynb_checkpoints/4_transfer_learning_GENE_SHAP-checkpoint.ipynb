{
 "cells": [
  {
   "cell_type": "code",
   "execution_count": 12,
   "id": "429b3568",
   "metadata": {},
   "outputs": [],
   "source": [
    "import math\n",
    "import pandas as pd\n",
    "import tensorflow as tf\n",
    "# import keras_tuner.tuners as kt\n",
    "import matplotlib.pyplot as plt\n",
    "import keras\n",
    "from tensorflow.keras import Model\n",
    "from tensorflow.keras import Sequential\n",
    "from sklearn.preprocessing import StandardScaler\n",
    "from tensorflow.keras.layers import Dense, Dropout\n",
    "from sklearn.model_selection import train_test_split\n",
    "from tensorflow.keras.losses import MeanSquaredLogarithmicError\n",
    "import numpy as np\n",
    "import pickle\n",
    "np.random.seed(0)\n",
    "from tensorflow.keras import Input\n",
    "from tensorflow.keras.layers import Conv1D, Conv2D, LeakyReLU, MaxPool1D, AveragePooling1D, UpSampling1D, Flatten, Dense, Reshape, BatchNormalization\n",
    "# https://towardsdatascience.com/improve-your-model-performance-with-auto-encoders-d4ee543b4154\n",
    "from tensorflow.keras import initializers\n",
    "from keras.wrappers.scikit_learn import KerasRegressor\n",
    "from sklearn.model_selection import GridSearchCV\n",
    "\n",
    "from keras.optimizers import Adam, SGD, Adadelta"
   ]
  },
  {
   "cell_type": "code",
   "execution_count": 13,
   "id": "a2f2c22a",
   "metadata": {},
   "outputs": [
    {
     "data": {
      "text/html": [
       "<div>\n",
       "<style scoped>\n",
       "    .dataframe tbody tr th:only-of-type {\n",
       "        vertical-align: middle;\n",
       "    }\n",
       "\n",
       "    .dataframe tbody tr th {\n",
       "        vertical-align: top;\n",
       "    }\n",
       "\n",
       "    .dataframe thead th {\n",
       "        text-align: right;\n",
       "    }\n",
       "</style>\n",
       "<table border=\"1\" class=\"dataframe\">\n",
       "  <thead>\n",
       "    <tr style=\"text-align: right;\">\n",
       "      <th></th>\n",
       "      <th>AADAC</th>\n",
       "      <th>APOA1</th>\n",
       "      <th>APOA4</th>\n",
       "      <th>APOB</th>\n",
       "      <th>APOC3</th>\n",
       "      <th>AQP9</th>\n",
       "      <th>C6</th>\n",
       "      <th>CEACAM7</th>\n",
       "      <th>CHI3L1</th>\n",
       "      <th>ABCC2</th>\n",
       "      <th>...</th>\n",
       "      <th>TAF15</th>\n",
       "      <th>ZFYVE20</th>\n",
       "      <th>LOC100420253</th>\n",
       "      <th>LY6G5B</th>\n",
       "      <th>C5orf58</th>\n",
       "      <th>RSL24D1P1</th>\n",
       "      <th>MIEN1</th>\n",
       "      <th>PCBP1_AS1</th>\n",
       "      <th>LOC100133165</th>\n",
       "      <th>DNAJB8</th>\n",
       "    </tr>\n",
       "    <tr>\n",
       "      <th>Patient_ID</th>\n",
       "      <th></th>\n",
       "      <th></th>\n",
       "      <th></th>\n",
       "      <th></th>\n",
       "      <th></th>\n",
       "      <th></th>\n",
       "      <th></th>\n",
       "      <th></th>\n",
       "      <th></th>\n",
       "      <th></th>\n",
       "      <th></th>\n",
       "      <th></th>\n",
       "      <th></th>\n",
       "      <th></th>\n",
       "      <th></th>\n",
       "      <th></th>\n",
       "      <th></th>\n",
       "      <th></th>\n",
       "      <th></th>\n",
       "      <th></th>\n",
       "      <th></th>\n",
       "    </tr>\n",
       "  </thead>\n",
       "  <tbody>\n",
       "    <tr>\n",
       "      <th>55_control</th>\n",
       "      <td>0.702813</td>\n",
       "      <td>0.799052</td>\n",
       "      <td>0.719665</td>\n",
       "      <td>0.729547</td>\n",
       "      <td>0.794953</td>\n",
       "      <td>0.256451</td>\n",
       "      <td>1.000000</td>\n",
       "      <td>0.363133</td>\n",
       "      <td>0.374212</td>\n",
       "      <td>0.611161</td>\n",
       "      <td>...</td>\n",
       "      <td>0.468042</td>\n",
       "      <td>0.335792</td>\n",
       "      <td>0.0</td>\n",
       "      <td>0.609518</td>\n",
       "      <td>0.535456</td>\n",
       "      <td>0.0</td>\n",
       "      <td>0.543158</td>\n",
       "      <td>0.622641</td>\n",
       "      <td>0.0</td>\n",
       "      <td>1.0</td>\n",
       "    </tr>\n",
       "    <tr>\n",
       "      <th>168_CD_plain</th>\n",
       "      <td>0.751408</td>\n",
       "      <td>0.603707</td>\n",
       "      <td>0.622768</td>\n",
       "      <td>0.627712</td>\n",
       "      <td>0.606860</td>\n",
       "      <td>0.520576</td>\n",
       "      <td>0.311962</td>\n",
       "      <td>0.251356</td>\n",
       "      <td>0.553554</td>\n",
       "      <td>0.441131</td>\n",
       "      <td>...</td>\n",
       "      <td>0.000000</td>\n",
       "      <td>0.159464</td>\n",
       "      <td>0.0</td>\n",
       "      <td>0.173529</td>\n",
       "      <td>0.018188</td>\n",
       "      <td>0.0</td>\n",
       "      <td>0.623796</td>\n",
       "      <td>0.301179</td>\n",
       "      <td>0.0</td>\n",
       "      <td>0.0</td>\n",
       "    </tr>\n",
       "    <tr>\n",
       "      <th>72_control</th>\n",
       "      <td>0.786508</td>\n",
       "      <td>0.755331</td>\n",
       "      <td>0.739605</td>\n",
       "      <td>0.756170</td>\n",
       "      <td>0.819875</td>\n",
       "      <td>0.391132</td>\n",
       "      <td>0.648401</td>\n",
       "      <td>0.134017</td>\n",
       "      <td>0.200420</td>\n",
       "      <td>0.679453</td>\n",
       "      <td>...</td>\n",
       "      <td>0.335173</td>\n",
       "      <td>0.241577</td>\n",
       "      <td>0.0</td>\n",
       "      <td>0.659563</td>\n",
       "      <td>0.000000</td>\n",
       "      <td>0.0</td>\n",
       "      <td>0.853118</td>\n",
       "      <td>0.431083</td>\n",
       "      <td>0.0</td>\n",
       "      <td>0.0</td>\n",
       "    </tr>\n",
       "    <tr>\n",
       "      <th>120_control</th>\n",
       "      <td>0.707491</td>\n",
       "      <td>0.662993</td>\n",
       "      <td>0.648072</td>\n",
       "      <td>0.764621</td>\n",
       "      <td>0.654276</td>\n",
       "      <td>0.633929</td>\n",
       "      <td>0.579519</td>\n",
       "      <td>0.248934</td>\n",
       "      <td>0.759250</td>\n",
       "      <td>0.755407</td>\n",
       "      <td>...</td>\n",
       "      <td>0.181256</td>\n",
       "      <td>0.297248</td>\n",
       "      <td>0.0</td>\n",
       "      <td>0.837676</td>\n",
       "      <td>0.480372</td>\n",
       "      <td>0.0</td>\n",
       "      <td>0.392582</td>\n",
       "      <td>0.390569</td>\n",
       "      <td>0.0</td>\n",
       "      <td>0.0</td>\n",
       "    </tr>\n",
       "    <tr>\n",
       "      <th>258_CD_plain</th>\n",
       "      <td>0.701039</td>\n",
       "      <td>0.662511</td>\n",
       "      <td>0.707208</td>\n",
       "      <td>0.834562</td>\n",
       "      <td>0.670160</td>\n",
       "      <td>0.410612</td>\n",
       "      <td>0.370517</td>\n",
       "      <td>0.244987</td>\n",
       "      <td>0.445387</td>\n",
       "      <td>0.798000</td>\n",
       "      <td>...</td>\n",
       "      <td>0.319013</td>\n",
       "      <td>0.306320</td>\n",
       "      <td>0.0</td>\n",
       "      <td>0.893448</td>\n",
       "      <td>0.485539</td>\n",
       "      <td>0.0</td>\n",
       "      <td>0.259900</td>\n",
       "      <td>0.431818</td>\n",
       "      <td>0.0</td>\n",
       "      <td>0.0</td>\n",
       "    </tr>\n",
       "    <tr>\n",
       "      <th>...</th>\n",
       "      <td>...</td>\n",
       "      <td>...</td>\n",
       "      <td>...</td>\n",
       "      <td>...</td>\n",
       "      <td>...</td>\n",
       "      <td>...</td>\n",
       "      <td>...</td>\n",
       "      <td>...</td>\n",
       "      <td>...</td>\n",
       "      <td>...</td>\n",
       "      <td>...</td>\n",
       "      <td>...</td>\n",
       "      <td>...</td>\n",
       "      <td>...</td>\n",
       "      <td>...</td>\n",
       "      <td>...</td>\n",
       "      <td>...</td>\n",
       "      <td>...</td>\n",
       "      <td>...</td>\n",
       "      <td>...</td>\n",
       "      <td>...</td>\n",
       "    </tr>\n",
       "    <tr>\n",
       "      <th>15_CD_plain</th>\n",
       "      <td>0.382762</td>\n",
       "      <td>0.384030</td>\n",
       "      <td>0.377332</td>\n",
       "      <td>0.360165</td>\n",
       "      <td>0.300915</td>\n",
       "      <td>0.340090</td>\n",
       "      <td>0.077348</td>\n",
       "      <td>0.890965</td>\n",
       "      <td>0.261140</td>\n",
       "      <td>0.205779</td>\n",
       "      <td>...</td>\n",
       "      <td>0.209212</td>\n",
       "      <td>0.301844</td>\n",
       "      <td>0.0</td>\n",
       "      <td>0.643267</td>\n",
       "      <td>0.143476</td>\n",
       "      <td>0.0</td>\n",
       "      <td>0.262892</td>\n",
       "      <td>0.189790</td>\n",
       "      <td>0.0</td>\n",
       "      <td>0.0</td>\n",
       "    </tr>\n",
       "    <tr>\n",
       "      <th>182_CD_plain</th>\n",
       "      <td>0.679910</td>\n",
       "      <td>0.584723</td>\n",
       "      <td>0.722426</td>\n",
       "      <td>0.643867</td>\n",
       "      <td>0.740014</td>\n",
       "      <td>0.650358</td>\n",
       "      <td>0.468650</td>\n",
       "      <td>0.295686</td>\n",
       "      <td>0.649939</td>\n",
       "      <td>0.609862</td>\n",
       "      <td>...</td>\n",
       "      <td>0.408592</td>\n",
       "      <td>0.042243</td>\n",
       "      <td>0.0</td>\n",
       "      <td>0.765285</td>\n",
       "      <td>0.527984</td>\n",
       "      <td>0.0</td>\n",
       "      <td>0.413798</td>\n",
       "      <td>0.270021</td>\n",
       "      <td>0.0</td>\n",
       "      <td>0.0</td>\n",
       "    </tr>\n",
       "    <tr>\n",
       "      <th>164_CD_plain</th>\n",
       "      <td>0.754656</td>\n",
       "      <td>0.556562</td>\n",
       "      <td>0.694062</td>\n",
       "      <td>0.748334</td>\n",
       "      <td>0.535534</td>\n",
       "      <td>0.133869</td>\n",
       "      <td>0.319071</td>\n",
       "      <td>0.154562</td>\n",
       "      <td>0.440487</td>\n",
       "      <td>0.824013</td>\n",
       "      <td>...</td>\n",
       "      <td>0.514164</td>\n",
       "      <td>0.364434</td>\n",
       "      <td>0.0</td>\n",
       "      <td>0.930260</td>\n",
       "      <td>0.481733</td>\n",
       "      <td>0.0</td>\n",
       "      <td>0.273699</td>\n",
       "      <td>0.433093</td>\n",
       "      <td>0.0</td>\n",
       "      <td>0.0</td>\n",
       "    </tr>\n",
       "    <tr>\n",
       "      <th>53_CD_plain</th>\n",
       "      <td>0.591140</td>\n",
       "      <td>0.585802</td>\n",
       "      <td>0.750282</td>\n",
       "      <td>0.753309</td>\n",
       "      <td>0.603372</td>\n",
       "      <td>0.469634</td>\n",
       "      <td>0.213239</td>\n",
       "      <td>0.348800</td>\n",
       "      <td>0.485094</td>\n",
       "      <td>0.722492</td>\n",
       "      <td>...</td>\n",
       "      <td>0.428242</td>\n",
       "      <td>0.315197</td>\n",
       "      <td>0.0</td>\n",
       "      <td>0.877855</td>\n",
       "      <td>0.628071</td>\n",
       "      <td>0.0</td>\n",
       "      <td>0.183718</td>\n",
       "      <td>0.302030</td>\n",
       "      <td>0.0</td>\n",
       "      <td>0.0</td>\n",
       "    </tr>\n",
       "    <tr>\n",
       "      <th>97_CD_plain</th>\n",
       "      <td>0.817125</td>\n",
       "      <td>0.782223</td>\n",
       "      <td>0.854442</td>\n",
       "      <td>0.867360</td>\n",
       "      <td>0.793421</td>\n",
       "      <td>0.726438</td>\n",
       "      <td>0.246396</td>\n",
       "      <td>0.228774</td>\n",
       "      <td>0.611752</td>\n",
       "      <td>0.699944</td>\n",
       "      <td>...</td>\n",
       "      <td>0.261123</td>\n",
       "      <td>0.099541</td>\n",
       "      <td>0.0</td>\n",
       "      <td>0.156787</td>\n",
       "      <td>0.293838</td>\n",
       "      <td>0.0</td>\n",
       "      <td>0.561414</td>\n",
       "      <td>0.027077</td>\n",
       "      <td>0.0</td>\n",
       "      <td>0.0</td>\n",
       "    </tr>\n",
       "  </tbody>\n",
       "</table>\n",
       "<p>182 rows × 219 columns</p>\n",
       "</div>"
      ],
      "text/plain": [
       "                 AADAC     APOA1     APOA4      APOB     APOC3      AQP9  \\\n",
       "Patient_ID                                                                 \n",
       "55_control    0.702813  0.799052  0.719665  0.729547  0.794953  0.256451   \n",
       "168_CD_plain  0.751408  0.603707  0.622768  0.627712  0.606860  0.520576   \n",
       "72_control    0.786508  0.755331  0.739605  0.756170  0.819875  0.391132   \n",
       "120_control   0.707491  0.662993  0.648072  0.764621  0.654276  0.633929   \n",
       "258_CD_plain  0.701039  0.662511  0.707208  0.834562  0.670160  0.410612   \n",
       "...                ...       ...       ...       ...       ...       ...   \n",
       "15_CD_plain   0.382762  0.384030  0.377332  0.360165  0.300915  0.340090   \n",
       "182_CD_plain  0.679910  0.584723  0.722426  0.643867  0.740014  0.650358   \n",
       "164_CD_plain  0.754656  0.556562  0.694062  0.748334  0.535534  0.133869   \n",
       "53_CD_plain   0.591140  0.585802  0.750282  0.753309  0.603372  0.469634   \n",
       "97_CD_plain   0.817125  0.782223  0.854442  0.867360  0.793421  0.726438   \n",
       "\n",
       "                    C6   CEACAM7    CHI3L1     ABCC2  ...     TAF15   ZFYVE20  \\\n",
       "Patient_ID                                            ...                       \n",
       "55_control    1.000000  0.363133  0.374212  0.611161  ...  0.468042  0.335792   \n",
       "168_CD_plain  0.311962  0.251356  0.553554  0.441131  ...  0.000000  0.159464   \n",
       "72_control    0.648401  0.134017  0.200420  0.679453  ...  0.335173  0.241577   \n",
       "120_control   0.579519  0.248934  0.759250  0.755407  ...  0.181256  0.297248   \n",
       "258_CD_plain  0.370517  0.244987  0.445387  0.798000  ...  0.319013  0.306320   \n",
       "...                ...       ...       ...       ...  ...       ...       ...   \n",
       "15_CD_plain   0.077348  0.890965  0.261140  0.205779  ...  0.209212  0.301844   \n",
       "182_CD_plain  0.468650  0.295686  0.649939  0.609862  ...  0.408592  0.042243   \n",
       "164_CD_plain  0.319071  0.154562  0.440487  0.824013  ...  0.514164  0.364434   \n",
       "53_CD_plain   0.213239  0.348800  0.485094  0.722492  ...  0.428242  0.315197   \n",
       "97_CD_plain   0.246396  0.228774  0.611752  0.699944  ...  0.261123  0.099541   \n",
       "\n",
       "              LOC100420253    LY6G5B   C5orf58  RSL24D1P1     MIEN1  \\\n",
       "Patient_ID                                                            \n",
       "55_control             0.0  0.609518  0.535456        0.0  0.543158   \n",
       "168_CD_plain           0.0  0.173529  0.018188        0.0  0.623796   \n",
       "72_control             0.0  0.659563  0.000000        0.0  0.853118   \n",
       "120_control            0.0  0.837676  0.480372        0.0  0.392582   \n",
       "258_CD_plain           0.0  0.893448  0.485539        0.0  0.259900   \n",
       "...                    ...       ...       ...        ...       ...   \n",
       "15_CD_plain            0.0  0.643267  0.143476        0.0  0.262892   \n",
       "182_CD_plain           0.0  0.765285  0.527984        0.0  0.413798   \n",
       "164_CD_plain           0.0  0.930260  0.481733        0.0  0.273699   \n",
       "53_CD_plain            0.0  0.877855  0.628071        0.0  0.183718   \n",
       "97_CD_plain            0.0  0.156787  0.293838        0.0  0.561414   \n",
       "\n",
       "              PCBP1_AS1  LOC100133165  DNAJB8  \n",
       "Patient_ID                                     \n",
       "55_control     0.622641           0.0     1.0  \n",
       "168_CD_plain   0.301179           0.0     0.0  \n",
       "72_control     0.431083           0.0     0.0  \n",
       "120_control    0.390569           0.0     0.0  \n",
       "258_CD_plain   0.431818           0.0     0.0  \n",
       "...                 ...           ...     ...  \n",
       "15_CD_plain    0.189790           0.0     0.0  \n",
       "182_CD_plain   0.270021           0.0     0.0  \n",
       "164_CD_plain   0.433093           0.0     0.0  \n",
       "53_CD_plain    0.302030           0.0     0.0  \n",
       "97_CD_plain    0.027077           0.0     0.0  \n",
       "\n",
       "[182 rows x 219 columns]"
      ]
     },
     "execution_count": 13,
     "metadata": {},
     "output_type": "execute_result"
    }
   ],
   "source": [
    "x_train_scaled = pd.read_csv('../260_sample_train_scaled.csv').set_index(\"Patient_ID\")\n",
    "x_train_scaled"
   ]
  },
  {
   "cell_type": "code",
   "execution_count": 14,
   "id": "8d78cff8",
   "metadata": {},
   "outputs": [
    {
     "data": {
      "text/html": [
       "<div>\n",
       "<style scoped>\n",
       "    .dataframe tbody tr th:only-of-type {\n",
       "        vertical-align: middle;\n",
       "    }\n",
       "\n",
       "    .dataframe tbody tr th {\n",
       "        vertical-align: top;\n",
       "    }\n",
       "\n",
       "    .dataframe thead th {\n",
       "        text-align: right;\n",
       "    }\n",
       "</style>\n",
       "<table border=\"1\" class=\"dataframe\">\n",
       "  <thead>\n",
       "    <tr style=\"text-align: right;\">\n",
       "      <th></th>\n",
       "      <th>AADAC</th>\n",
       "      <th>APOA1</th>\n",
       "      <th>APOA4</th>\n",
       "      <th>APOB</th>\n",
       "      <th>APOC3</th>\n",
       "      <th>AQP9</th>\n",
       "      <th>C6</th>\n",
       "      <th>CEACAM7</th>\n",
       "      <th>CHI3L1</th>\n",
       "      <th>ABCC2</th>\n",
       "      <th>...</th>\n",
       "      <th>TAF15</th>\n",
       "      <th>ZFYVE20</th>\n",
       "      <th>LOC100420253</th>\n",
       "      <th>LY6G5B</th>\n",
       "      <th>C5orf58</th>\n",
       "      <th>RSL24D1P1</th>\n",
       "      <th>MIEN1</th>\n",
       "      <th>PCBP1_AS1</th>\n",
       "      <th>LOC100133165</th>\n",
       "      <th>DNAJB8</th>\n",
       "    </tr>\n",
       "    <tr>\n",
       "      <th>Patient_ID</th>\n",
       "      <th></th>\n",
       "      <th></th>\n",
       "      <th></th>\n",
       "      <th></th>\n",
       "      <th></th>\n",
       "      <th></th>\n",
       "      <th></th>\n",
       "      <th></th>\n",
       "      <th></th>\n",
       "      <th></th>\n",
       "      <th></th>\n",
       "      <th></th>\n",
       "      <th></th>\n",
       "      <th></th>\n",
       "      <th></th>\n",
       "      <th></th>\n",
       "      <th></th>\n",
       "      <th></th>\n",
       "      <th></th>\n",
       "      <th></th>\n",
       "      <th></th>\n",
       "    </tr>\n",
       "  </thead>\n",
       "  <tbody>\n",
       "    <tr>\n",
       "      <th>253_CD_plain</th>\n",
       "      <td>0.869185</td>\n",
       "      <td>0.841880</td>\n",
       "      <td>0.930171</td>\n",
       "      <td>0.886737</td>\n",
       "      <td>0.835678</td>\n",
       "      <td>0.297964</td>\n",
       "      <td>0.668498</td>\n",
       "      <td>0.266670</td>\n",
       "      <td>0.278122</td>\n",
       "      <td>0.933520</td>\n",
       "      <td>...</td>\n",
       "      <td>0.339788</td>\n",
       "      <td>0.326732</td>\n",
       "      <td>0.0</td>\n",
       "      <td>0.862246</td>\n",
       "      <td>0.074473</td>\n",
       "      <td>0.0</td>\n",
       "      <td>0.498941</td>\n",
       "      <td>0.349920</td>\n",
       "      <td>0.0</td>\n",
       "      <td>0.0</td>\n",
       "    </tr>\n",
       "    <tr>\n",
       "      <th>105_CD_plain</th>\n",
       "      <td>0.853562</td>\n",
       "      <td>0.933532</td>\n",
       "      <td>0.942213</td>\n",
       "      <td>0.794578</td>\n",
       "      <td>0.890482</td>\n",
       "      <td>0.206529</td>\n",
       "      <td>0.298987</td>\n",
       "      <td>0.350745</td>\n",
       "      <td>0.495663</td>\n",
       "      <td>0.849038</td>\n",
       "      <td>...</td>\n",
       "      <td>0.354602</td>\n",
       "      <td>-0.031527</td>\n",
       "      <td>0.0</td>\n",
       "      <td>0.717305</td>\n",
       "      <td>0.039214</td>\n",
       "      <td>0.0</td>\n",
       "      <td>0.697073</td>\n",
       "      <td>0.268224</td>\n",
       "      <td>0.0</td>\n",
       "      <td>0.0</td>\n",
       "    </tr>\n",
       "    <tr>\n",
       "      <th>2_CD_plain</th>\n",
       "      <td>0.165531</td>\n",
       "      <td>0.141475</td>\n",
       "      <td>0.263684</td>\n",
       "      <td>0.198091</td>\n",
       "      <td>0.160503</td>\n",
       "      <td>0.888878</td>\n",
       "      <td>0.000000</td>\n",
       "      <td>0.134461</td>\n",
       "      <td>0.989132</td>\n",
       "      <td>0.202203</td>\n",
       "      <td>...</td>\n",
       "      <td>0.320002</td>\n",
       "      <td>0.379134</td>\n",
       "      <td>0.0</td>\n",
       "      <td>0.604202</td>\n",
       "      <td>0.610072</td>\n",
       "      <td>0.0</td>\n",
       "      <td>0.324065</td>\n",
       "      <td>0.375123</td>\n",
       "      <td>0.0</td>\n",
       "      <td>0.0</td>\n",
       "    </tr>\n",
       "    <tr>\n",
       "      <th>184_CD_plain</th>\n",
       "      <td>0.717121</td>\n",
       "      <td>0.660314</td>\n",
       "      <td>0.769417</td>\n",
       "      <td>0.752737</td>\n",
       "      <td>0.694874</td>\n",
       "      <td>0.514735</td>\n",
       "      <td>0.692365</td>\n",
       "      <td>0.271127</td>\n",
       "      <td>0.650742</td>\n",
       "      <td>0.694599</td>\n",
       "      <td>...</td>\n",
       "      <td>0.445680</td>\n",
       "      <td>0.178908</td>\n",
       "      <td>0.0</td>\n",
       "      <td>0.702114</td>\n",
       "      <td>0.325357</td>\n",
       "      <td>0.0</td>\n",
       "      <td>0.390919</td>\n",
       "      <td>0.185509</td>\n",
       "      <td>0.0</td>\n",
       "      <td>0.0</td>\n",
       "    </tr>\n",
       "    <tr>\n",
       "      <th>312_CD_plain</th>\n",
       "      <td>0.730072</td>\n",
       "      <td>0.722909</td>\n",
       "      <td>0.713076</td>\n",
       "      <td>0.743545</td>\n",
       "      <td>0.679258</td>\n",
       "      <td>0.308459</td>\n",
       "      <td>0.399235</td>\n",
       "      <td>0.129019</td>\n",
       "      <td>0.597529</td>\n",
       "      <td>0.720390</td>\n",
       "      <td>...</td>\n",
       "      <td>0.419254</td>\n",
       "      <td>0.312215</td>\n",
       "      <td>0.0</td>\n",
       "      <td>0.821584</td>\n",
       "      <td>0.632007</td>\n",
       "      <td>0.0</td>\n",
       "      <td>0.183158</td>\n",
       "      <td>0.271359</td>\n",
       "      <td>0.0</td>\n",
       "      <td>0.0</td>\n",
       "    </tr>\n",
       "    <tr>\n",
       "      <th>...</th>\n",
       "      <td>...</td>\n",
       "      <td>...</td>\n",
       "      <td>...</td>\n",
       "      <td>...</td>\n",
       "      <td>...</td>\n",
       "      <td>...</td>\n",
       "      <td>...</td>\n",
       "      <td>...</td>\n",
       "      <td>...</td>\n",
       "      <td>...</td>\n",
       "      <td>...</td>\n",
       "      <td>...</td>\n",
       "      <td>...</td>\n",
       "      <td>...</td>\n",
       "      <td>...</td>\n",
       "      <td>...</td>\n",
       "      <td>...</td>\n",
       "      <td>...</td>\n",
       "      <td>...</td>\n",
       "      <td>...</td>\n",
       "      <td>...</td>\n",
       "    </tr>\n",
       "    <tr>\n",
       "      <th>107_CD_plain</th>\n",
       "      <td>0.736123</td>\n",
       "      <td>0.658232</td>\n",
       "      <td>0.772323</td>\n",
       "      <td>0.685637</td>\n",
       "      <td>0.658755</td>\n",
       "      <td>0.250970</td>\n",
       "      <td>0.247307</td>\n",
       "      <td>0.422075</td>\n",
       "      <td>0.555944</td>\n",
       "      <td>0.603675</td>\n",
       "      <td>...</td>\n",
       "      <td>0.379431</td>\n",
       "      <td>0.233196</td>\n",
       "      <td>0.0</td>\n",
       "      <td>0.759342</td>\n",
       "      <td>0.567491</td>\n",
       "      <td>0.0</td>\n",
       "      <td>0.404604</td>\n",
       "      <td>0.190411</td>\n",
       "      <td>0.0</td>\n",
       "      <td>0.0</td>\n",
       "    </tr>\n",
       "    <tr>\n",
       "      <th>279_CD_plain</th>\n",
       "      <td>0.220614</td>\n",
       "      <td>0.202090</td>\n",
       "      <td>0.182810</td>\n",
       "      <td>0.113245</td>\n",
       "      <td>0.105744</td>\n",
       "      <td>0.699851</td>\n",
       "      <td>0.000000</td>\n",
       "      <td>0.908485</td>\n",
       "      <td>0.688912</td>\n",
       "      <td>0.178259</td>\n",
       "      <td>...</td>\n",
       "      <td>0.181052</td>\n",
       "      <td>0.342262</td>\n",
       "      <td>0.0</td>\n",
       "      <td>0.639644</td>\n",
       "      <td>0.540444</td>\n",
       "      <td>0.0</td>\n",
       "      <td>0.397274</td>\n",
       "      <td>0.061934</td>\n",
       "      <td>0.0</td>\n",
       "      <td>0.0</td>\n",
       "    </tr>\n",
       "    <tr>\n",
       "      <th>179_CD_plain</th>\n",
       "      <td>0.724476</td>\n",
       "      <td>0.726774</td>\n",
       "      <td>0.766943</td>\n",
       "      <td>0.776284</td>\n",
       "      <td>0.690339</td>\n",
       "      <td>0.380637</td>\n",
       "      <td>0.440449</td>\n",
       "      <td>0.318944</td>\n",
       "      <td>0.558600</td>\n",
       "      <td>0.738787</td>\n",
       "      <td>...</td>\n",
       "      <td>0.331961</td>\n",
       "      <td>0.275577</td>\n",
       "      <td>0.0</td>\n",
       "      <td>0.886616</td>\n",
       "      <td>0.658049</td>\n",
       "      <td>0.0</td>\n",
       "      <td>0.259391</td>\n",
       "      <td>0.471132</td>\n",
       "      <td>0.0</td>\n",
       "      <td>0.0</td>\n",
       "    </tr>\n",
       "    <tr>\n",
       "      <th>70_CD_deep_ulcer</th>\n",
       "      <td>0.488321</td>\n",
       "      <td>0.495439</td>\n",
       "      <td>0.574906</td>\n",
       "      <td>0.491337</td>\n",
       "      <td>0.540073</td>\n",
       "      <td>0.525943</td>\n",
       "      <td>0.397648</td>\n",
       "      <td>0.414520</td>\n",
       "      <td>0.709700</td>\n",
       "      <td>0.389618</td>\n",
       "      <td>...</td>\n",
       "      <td>0.416087</td>\n",
       "      <td>0.252402</td>\n",
       "      <td>0.0</td>\n",
       "      <td>0.931974</td>\n",
       "      <td>0.370181</td>\n",
       "      <td>0.0</td>\n",
       "      <td>0.463922</td>\n",
       "      <td>0.413834</td>\n",
       "      <td>0.0</td>\n",
       "      <td>0.0</td>\n",
       "    </tr>\n",
       "    <tr>\n",
       "      <th>256_CD_deep_ulcer</th>\n",
       "      <td>0.609459</td>\n",
       "      <td>0.598912</td>\n",
       "      <td>0.682050</td>\n",
       "      <td>0.765806</td>\n",
       "      <td>0.648350</td>\n",
       "      <td>0.450384</td>\n",
       "      <td>0.000000</td>\n",
       "      <td>0.377102</td>\n",
       "      <td>0.444380</td>\n",
       "      <td>0.667302</td>\n",
       "      <td>...</td>\n",
       "      <td>0.270050</td>\n",
       "      <td>0.268483</td>\n",
       "      <td>0.0</td>\n",
       "      <td>0.711803</td>\n",
       "      <td>0.243749</td>\n",
       "      <td>0.0</td>\n",
       "      <td>0.345240</td>\n",
       "      <td>0.380147</td>\n",
       "      <td>0.0</td>\n",
       "      <td>0.0</td>\n",
       "    </tr>\n",
       "  </tbody>\n",
       "</table>\n",
       "<p>78 rows × 219 columns</p>\n",
       "</div>"
      ],
      "text/plain": [
       "                      AADAC     APOA1     APOA4      APOB     APOC3      AQP9  \\\n",
       "Patient_ID                                                                      \n",
       "253_CD_plain       0.869185  0.841880  0.930171  0.886737  0.835678  0.297964   \n",
       "105_CD_plain       0.853562  0.933532  0.942213  0.794578  0.890482  0.206529   \n",
       "2_CD_plain         0.165531  0.141475  0.263684  0.198091  0.160503  0.888878   \n",
       "184_CD_plain       0.717121  0.660314  0.769417  0.752737  0.694874  0.514735   \n",
       "312_CD_plain       0.730072  0.722909  0.713076  0.743545  0.679258  0.308459   \n",
       "...                     ...       ...       ...       ...       ...       ...   \n",
       "107_CD_plain       0.736123  0.658232  0.772323  0.685637  0.658755  0.250970   \n",
       "279_CD_plain       0.220614  0.202090  0.182810  0.113245  0.105744  0.699851   \n",
       "179_CD_plain       0.724476  0.726774  0.766943  0.776284  0.690339  0.380637   \n",
       "70_CD_deep_ulcer   0.488321  0.495439  0.574906  0.491337  0.540073  0.525943   \n",
       "256_CD_deep_ulcer  0.609459  0.598912  0.682050  0.765806  0.648350  0.450384   \n",
       "\n",
       "                         C6   CEACAM7    CHI3L1     ABCC2  ...     TAF15  \\\n",
       "Patient_ID                                                 ...             \n",
       "253_CD_plain       0.668498  0.266670  0.278122  0.933520  ...  0.339788   \n",
       "105_CD_plain       0.298987  0.350745  0.495663  0.849038  ...  0.354602   \n",
       "2_CD_plain         0.000000  0.134461  0.989132  0.202203  ...  0.320002   \n",
       "184_CD_plain       0.692365  0.271127  0.650742  0.694599  ...  0.445680   \n",
       "312_CD_plain       0.399235  0.129019  0.597529  0.720390  ...  0.419254   \n",
       "...                     ...       ...       ...       ...  ...       ...   \n",
       "107_CD_plain       0.247307  0.422075  0.555944  0.603675  ...  0.379431   \n",
       "279_CD_plain       0.000000  0.908485  0.688912  0.178259  ...  0.181052   \n",
       "179_CD_plain       0.440449  0.318944  0.558600  0.738787  ...  0.331961   \n",
       "70_CD_deep_ulcer   0.397648  0.414520  0.709700  0.389618  ...  0.416087   \n",
       "256_CD_deep_ulcer  0.000000  0.377102  0.444380  0.667302  ...  0.270050   \n",
       "\n",
       "                    ZFYVE20  LOC100420253    LY6G5B   C5orf58  RSL24D1P1  \\\n",
       "Patient_ID                                                                 \n",
       "253_CD_plain       0.326732           0.0  0.862246  0.074473        0.0   \n",
       "105_CD_plain      -0.031527           0.0  0.717305  0.039214        0.0   \n",
       "2_CD_plain         0.379134           0.0  0.604202  0.610072        0.0   \n",
       "184_CD_plain       0.178908           0.0  0.702114  0.325357        0.0   \n",
       "312_CD_plain       0.312215           0.0  0.821584  0.632007        0.0   \n",
       "...                     ...           ...       ...       ...        ...   \n",
       "107_CD_plain       0.233196           0.0  0.759342  0.567491        0.0   \n",
       "279_CD_plain       0.342262           0.0  0.639644  0.540444        0.0   \n",
       "179_CD_plain       0.275577           0.0  0.886616  0.658049        0.0   \n",
       "70_CD_deep_ulcer   0.252402           0.0  0.931974  0.370181        0.0   \n",
       "256_CD_deep_ulcer  0.268483           0.0  0.711803  0.243749        0.0   \n",
       "\n",
       "                      MIEN1  PCBP1_AS1  LOC100133165  DNAJB8  \n",
       "Patient_ID                                                    \n",
       "253_CD_plain       0.498941   0.349920           0.0     0.0  \n",
       "105_CD_plain       0.697073   0.268224           0.0     0.0  \n",
       "2_CD_plain         0.324065   0.375123           0.0     0.0  \n",
       "184_CD_plain       0.390919   0.185509           0.0     0.0  \n",
       "312_CD_plain       0.183158   0.271359           0.0     0.0  \n",
       "...                     ...        ...           ...     ...  \n",
       "107_CD_plain       0.404604   0.190411           0.0     0.0  \n",
       "279_CD_plain       0.397274   0.061934           0.0     0.0  \n",
       "179_CD_plain       0.259391   0.471132           0.0     0.0  \n",
       "70_CD_deep_ulcer   0.463922   0.413834           0.0     0.0  \n",
       "256_CD_deep_ulcer  0.345240   0.380147           0.0     0.0  \n",
       "\n",
       "[78 rows x 219 columns]"
      ]
     },
     "execution_count": 14,
     "metadata": {},
     "output_type": "execute_result"
    }
   ],
   "source": [
    "x_test_scaled = pd.read_csv('../260_sample_test_scaled.csv').set_index(\"Patient_ID\")\n",
    "x_test_scaled"
   ]
  },
  {
   "cell_type": "code",
   "execution_count": 15,
   "id": "aa1bd71d",
   "metadata": {},
   "outputs": [],
   "source": [
    "sh = x_train_scaled.head(1).shape"
   ]
  },
  {
   "cell_type": "code",
   "execution_count": 16,
   "id": "02a3da1a",
   "metadata": {},
   "outputs": [],
   "source": [
    "\n",
    "\n",
    "# class AutoEncoder(Model):\n",
    "\n",
    "#     def __init__(self, n_inputs, init_fn, n_bottleneck=32):\n",
    "\n",
    "#         super().__init__()\n",
    "\n",
    "#         self.encoder = Sequential(\n",
    "#             [\n",
    "\n",
    "#                 Input(shape=(n_inputs,)),\n",
    "#                 # encoder level 1\n",
    "#                 Dense(n_inputs*2, kernel_initializer=init_fn,\n",
    "#     bias_initializer=initializers.Zeros()),\n",
    "#                 BatchNormalization(),\n",
    "#                 LeakyReLU(),\n",
    "#                 # encoder level 2\n",
    "#                 Dense(n_inputs),\n",
    "#                 BatchNormalization(),\n",
    "#                 LeakyReLU(),\n",
    "#                 # bottleneck\n",
    "#                 Dense(n_bottleneck)\n",
    "#             ]\n",
    "#         )\n",
    "\n",
    "\n",
    "\n",
    "#     def call(self, inputs):\n",
    "\n",
    "#         encoded = self.encoder(inputs)\n",
    "#         return encoded"
   ]
  },
  {
   "cell_type": "code",
   "execution_count": 17,
   "id": "b9b38ce5",
   "metadata": {},
   "outputs": [],
   "source": [
    "# n_bottleneck = 32\n",
    "# initializer = tf.keras.initializers.GlorotUniform()\n",
    "# auto_encoder = AutoEncoder(219,initializer, n_bottleneck)"
   ]
  },
  {
   "cell_type": "code",
   "execution_count": 18,
   "id": "13c44ae4",
   "metadata": {},
   "outputs": [],
   "source": [
    "# auto_encoder.encoder.load_weights(\"encoder_ckpt\")"
   ]
  },
  {
   "cell_type": "code",
   "execution_count": 19,
   "id": "3cafe91c",
   "metadata": {},
   "outputs": [],
   "source": [
    "# auto_encoder.build(sh) \n",
    "# auto_encoder.summary()"
   ]
  },
  {
   "cell_type": "code",
   "execution_count": 20,
   "id": "4a9a97ee",
   "metadata": {},
   "outputs": [],
   "source": [
    "# auto_encoder.encoder.summary()"
   ]
  },
  {
   "cell_type": "code",
   "execution_count": null,
   "id": "f1a99884",
   "metadata": {},
   "outputs": [],
   "source": []
  },
  {
   "cell_type": "code",
   "execution_count": null,
   "id": "8a35c082",
   "metadata": {},
   "outputs": [],
   "source": []
  },
  {
   "cell_type": "code",
   "execution_count": null,
   "id": "1e34de44",
   "metadata": {},
   "outputs": [],
   "source": []
  },
  {
   "cell_type": "code",
   "execution_count": 21,
   "id": "3634de2e",
   "metadata": {},
   "outputs": [
    {
     "data": {
      "text/plain": [
       "array(['55_control', '168_CD_plain', '72_control', '120_control',\n",
       "       '258_CD_plain', '254_CD_deep_ulcer', '9_CD_plain', '111_CD_plain',\n",
       "       '57_CD_plain', '216_CD_deep_ulcer', '263_CD_deep_ulcer',\n",
       "       '95_CD_deep_ulcer', '31_control', '172_CD_plain', '310_CD_plain',\n",
       "       '68_CD_plain', '65_control', '285_CD_plain', '201_CD_plain',\n",
       "       '223_CD_deep_ulcer', '320_CD_plain', '8_CD_plain',\n",
       "       '99_CD_deep_ulcer', '90_control', '296_CD_deep_ulcer',\n",
       "       '219_CD_deep_ulcer', '138_CD_deep_ulcer', '38_control',\n",
       "       '113_CD_plain', '76_control', '146_CD_deep_ulcer',\n",
       "       '147_CD_deep_ulcer', '186_CD_plain', '158_CD_plain',\n",
       "       '299_CD_plain', '178_CD_plain', '189_CD_plain', '266_CD_plain',\n",
       "       '231_CD_deep_ulcer', '198_CD_plain', '6_CD_deep_ulcer',\n",
       "       '30_CD_plain', '265_CD_plain', '181_CD_deep_ulcer', '16_CD_plain',\n",
       "       '264_CD_deep_ulcer', '209_CD_plain', '83_control', '214_CD_plain',\n",
       "       '193_CD_deep_ulcer', '104_CD_plain', '66_CD_plain', '188_CD_plain',\n",
       "       '269_CD_deep_ulcer', '115_CD_plain', '287_CD_plain',\n",
       "       '275_CD_deep_ulcer', '171_CD_deep_ulcer', '103_CD_plain',\n",
       "       '169_CD_plain', '149_CD_plain', '24_CD_plain', '317_CD_plain',\n",
       "       '21_CD_deep_ulcer', '224_CD_plain', '278_CD_plain', '208_CD_plain',\n",
       "       '273_CD_plain', '170_CD_deep_ulcer', '51_CD_deep_ulcer',\n",
       "       '300_CD_deep_ulcer', '225_CD_plain', '54_control', '87_control',\n",
       "       '14_control', '159_CD_plain', '22_CD_deep_ulcer',\n",
       "       '163_CD_deep_ulcer', '116_CD_deep_ulcer', '190_CD_plain',\n",
       "       '267_CD_plain', '218_CD_deep_ulcer', '5_CD_plain',\n",
       "       '276_CD_deep_ulcer', '101_CD_plain', '121_control', '91_CD_plain',\n",
       "       '106_CD_deep_ulcer', '43_CD_plain', '261_CD_deep_ulcer',\n",
       "       '10_control', '77_control', '60_CD_plain', '17_CD_deep_ulcer',\n",
       "       '213_CD_deep_ulcer', '4_CD_plain', '173_CD_plain',\n",
       "       '37_CD_deep_ulcer', '48_CD_deep_ulcer', '44_control',\n",
       "       '100_CD_plain', '96_CD_deep_ulcer', '220_CD_plain',\n",
       "       '199_CD_deep_ulcer', '25_CD_plain', '88_control',\n",
       "       '202_CD_deep_ulcer', '94_CD_plain', '313_CD_plain', '135_CD_plain',\n",
       "       '75_CD_deep_ulcer', '3_CD_plain', '18_CD_plain', '166_CD_plain',\n",
       "       '200_CD_plain', '142_CD_deep_ulcer', '13_CD_plain', '210_CD_plain',\n",
       "       '304_CD_plain', '79_control', '61_CD_plain', '20_control',\n",
       "       '45_CD_plain', '74_CD_plain', '64_control', '27_CD_deep_ulcer',\n",
       "       '255_CD_deep_ulcer', '69_CD_deep_ulcer', '33_control',\n",
       "       '187_CD_plain', '102_CD_plain', '257_CD_deep_ulcer',\n",
       "       '252_CD_deep_ulcer', '194_CD_plain', '221_CD_plain',\n",
       "       '203_CD_deep_ulcer', '63_CD_deep_ulcer', '311_CD_plain',\n",
       "       '222_CD_plain', '309_CD_plain', '174_CD_plain', '274_CD_plain',\n",
       "       '160_CD_plain', '227_CD_plain', '150_CD_deep_ulcer',\n",
       "       '217_CD_deep_ulcer', '85_control', '175_CD_plain', '1_CD_plain',\n",
       "       '156_CD_plain', '157_CD_plain', '109_CD_deep_ulcer', '73_CD_plain',\n",
       "       '71_CD_plain', '141_CD_plain', '139_CD_deep_ulcer', '205_CD_plain',\n",
       "       '32_CD_plain', '39_control', '207_CD_plain', '133_CD_deep_ulcer',\n",
       "       '162_CD_plain', '195_CD_plain', '36_control', '237_CD_plain',\n",
       "       '7_CD_plain', '108_CD_plain', '140_CD_plain', '185_CD_plain',\n",
       "       '86_control', '117_control', '26_CD_plain', '303_CD_plain',\n",
       "       '35_control', '148_CD_deep_ulcer', '28_control', '67_control',\n",
       "       '15_CD_plain', '182_CD_plain', '164_CD_plain', '53_CD_plain',\n",
       "       '97_CD_plain'], dtype=object)"
      ]
     },
     "execution_count": 21,
     "metadata": {},
     "output_type": "execute_result"
    }
   ],
   "source": [
    "patient_ids_train = np.array(x_train_scaled.index)\n",
    "patient_ids_test = np.array(x_test_scaled.index)\n",
    "patient_ids_train"
   ]
  },
  {
   "cell_type": "code",
   "execution_count": 22,
   "id": "7142e08b",
   "metadata": {},
   "outputs": [
    {
     "data": {
      "text/plain": [
       "array([0, 1, 0, 0, 1, 2, 1, 1, 1, 2, 2, 2, 0, 1, 1, 1, 0, 1, 1, 2, 1, 1,\n",
       "       2, 0, 2, 2, 2, 0, 1, 0, 2, 2, 1, 1, 1, 1, 1, 1, 2, 1, 2, 1, 1, 2,\n",
       "       1, 2, 1, 0, 1, 2, 1, 1, 1, 2, 1, 1, 2, 2, 1, 1, 1, 1, 1, 2, 1, 1,\n",
       "       1, 1, 2, 2, 2, 1, 0, 0, 0, 1, 2, 2, 2, 1, 1, 2, 1, 2, 1, 0, 1, 2,\n",
       "       1, 2, 0, 0, 1, 2, 2, 1, 1, 2, 2, 0, 1, 2, 1, 2, 1, 0, 2, 1, 1, 1,\n",
       "       2, 1, 1, 1, 1, 2, 1, 1, 1, 0, 1, 0, 1, 1, 0, 2, 2, 2, 0, 1, 1, 2,\n",
       "       2, 1, 1, 2, 2, 1, 1, 1, 1, 1, 1, 1, 2, 2, 0, 1, 1, 1, 1, 2, 1, 1,\n",
       "       1, 2, 1, 1, 0, 1, 2, 1, 1, 0, 1, 1, 1, 1, 1, 0, 0, 1, 1, 0, 2, 0,\n",
       "       0, 1, 1, 1, 1, 1])"
      ]
     },
     "execution_count": 22,
     "metadata": {},
     "output_type": "execute_result"
    }
   ],
   "source": [
    "def classify(x):\n",
    "    if \"_control\" in x: # control\n",
    "        return 0\n",
    "    elif \"CD_plain\" in x: # Crohn's Disease no deep ulcer\n",
    "#         print(x)\n",
    "        return 1\n",
    "    elif \"CD_deep_ulcer\" in x: # Crohn's Disease deep ulcer\n",
    "#         print(x)\n",
    "        return 2\n",
    "    else:\n",
    "        return 3 # Ulcerative Collitis\n",
    "\n",
    "vec = np.vectorize(classify)\n",
    "\n",
    "disease_labels_train = vec(patient_ids_train)\n",
    "disease_labels_test = vec(patient_ids_test)\n",
    "disease_labels_train"
   ]
  },
  {
   "cell_type": "code",
   "execution_count": 23,
   "id": "60192979",
   "metadata": {},
   "outputs": [],
   "source": [
    "n_inputs = 219\n",
    "n_bottleneck = 32\n",
    "encoder_base = Sequential(\n",
    "            [\n",
    "\n",
    "#                 Input(shape=(n_inputs,)),\n",
    "                # encoder level 1\n",
    "                Dense(n_inputs*2),\n",
    "                BatchNormalization(),\n",
    "                LeakyReLU(),\n",
    "                # encoder level 2\n",
    "                Dense(n_inputs),\n",
    "                BatchNormalization(),\n",
    "                LeakyReLU(),\n",
    "                # bottleneck\n",
    "                Dense(n_bottleneck)\n",
    "            ]\n",
    "        )"
   ]
  },
  {
   "cell_type": "code",
   "execution_count": 25,
   "id": "faf6f4fb",
   "metadata": {},
   "outputs": [
    {
     "data": {
      "text/plain": [
       "<tensorflow.python.training.tracking.util.CheckpointLoadStatus at 0x20df8d84400>"
      ]
     },
     "execution_count": 25,
     "metadata": {},
     "output_type": "execute_result"
    }
   ],
   "source": [
    "encoder_base.load_weights(\"../encoder_ckpt\")"
   ]
  },
  {
   "cell_type": "code",
   "execution_count": 26,
   "id": "9d70d5e5",
   "metadata": {},
   "outputs": [
    {
     "name": "stdout",
     "output_type": "stream",
     "text": [
      "Model: \"sequential\"\n",
      "_________________________________________________________________\n",
      " Layer (type)                Output Shape              Param #   \n",
      "=================================================================\n",
      " dense (Dense)               (1, 438)                  96360     \n",
      "                                                                 \n",
      " batch_normalization (BatchN  (1, 438)                 1752      \n",
      " ormalization)                                                   \n",
      "                                                                 \n",
      " leaky_re_lu (LeakyReLU)     (1, 438)                  0         \n",
      "                                                                 \n",
      " dense_1 (Dense)             (1, 219)                  96141     \n",
      "                                                                 \n",
      " batch_normalization_1 (Batc  (1, 219)                 876       \n",
      " hNormalization)                                                 \n",
      "                                                                 \n",
      " leaky_re_lu_1 (LeakyReLU)   (1, 219)                  0         \n",
      "                                                                 \n",
      " dense_2 (Dense)             (1, 32)                   7040      \n",
      "                                                                 \n",
      "=================================================================\n",
      "Total params: 202,169\n",
      "Trainable params: 200,855\n",
      "Non-trainable params: 1,314\n",
      "_________________________________________________________________\n"
     ]
    }
   ],
   "source": [
    "# encoder_base.trainable = False\n",
    "encoder_base.build(sh) \n",
    "encoder_base.summary()"
   ]
  },
  {
   "cell_type": "code",
   "execution_count": 27,
   "id": "c3a7e42e",
   "metadata": {},
   "outputs": [
    {
     "data": {
      "text/plain": [
       "(182, 219)"
      ]
     },
     "execution_count": 27,
     "metadata": {},
     "output_type": "execute_result"
    }
   ],
   "source": [
    "x_train_scaled.shape"
   ]
  },
  {
   "cell_type": "code",
   "execution_count": 28,
   "id": "30856a12",
   "metadata": {},
   "outputs": [],
   "source": [
    "# inputs = keras.Input(shape=(219,))\n",
    "# x = encoder_base(inputs, training=False)\n",
    "inter = Dense(24, activation='relu')"
   ]
  },
  {
   "cell_type": "code",
   "execution_count": 29,
   "id": "79b334e2",
   "metadata": {},
   "outputs": [],
   "source": [
    "# inter = Dense(24, activation='relu')(x)\n",
    "# outputs = Dense(3, activation='softmax')(inter)\n",
    "# compound_model = Model(inputs, outputs)\n",
    "\n",
    "compound_model = encoder_base\n",
    "compound_model.add(Dense(24, activation='relu'))\n",
    "compound_model.add(Dense(3, activation='softmax'))"
   ]
  },
  {
   "cell_type": "code",
   "execution_count": 30,
   "id": "7d58437c",
   "metadata": {},
   "outputs": [
    {
     "data": {
      "text/plain": [
       "(219,)"
      ]
     },
     "execution_count": 30,
     "metadata": {},
     "output_type": "execute_result"
    }
   ],
   "source": [
    "x_train_scaled.head(1).values.flatten().shape"
   ]
  },
  {
   "cell_type": "code",
   "execution_count": 31,
   "id": "a9423033",
   "metadata": {},
   "outputs": [],
   "source": [
    "y = compound_model(x_train_scaled.head(1).values)"
   ]
  },
  {
   "cell_type": "code",
   "execution_count": 32,
   "id": "fce7302c",
   "metadata": {},
   "outputs": [
    {
     "name": "stdout",
     "output_type": "stream",
     "text": [
      "Model: \"sequential\"\n",
      "_________________________________________________________________\n",
      " Layer (type)                Output Shape              Param #   \n",
      "=================================================================\n",
      " dense (Dense)               (1, 438)                  96360     \n",
      "                                                                 \n",
      " batch_normalization (BatchN  (1, 438)                 1752      \n",
      " ormalization)                                                   \n",
      "                                                                 \n",
      " leaky_re_lu (LeakyReLU)     (1, 438)                  0         \n",
      "                                                                 \n",
      " dense_1 (Dense)             (1, 219)                  96141     \n",
      "                                                                 \n",
      " batch_normalization_1 (Batc  (1, 219)                 876       \n",
      " hNormalization)                                                 \n",
      "                                                                 \n",
      " leaky_re_lu_1 (LeakyReLU)   (1, 219)                  0         \n",
      "                                                                 \n",
      " dense_2 (Dense)             (1, 32)                   7040      \n",
      "                                                                 \n",
      " dense_4 (Dense)             (1, 24)                   792       \n",
      "                                                                 \n",
      " dense_5 (Dense)             (1, 3)                    75        \n",
      "                                                                 \n",
      "=================================================================\n",
      "Total params: 203,036\n",
      "Trainable params: 201,722\n",
      "Non-trainable params: 1,314\n",
      "_________________________________________________________________\n"
     ]
    }
   ],
   "source": [
    "compound_model.summary()"
   ]
  },
  {
   "cell_type": "code",
   "execution_count": 33,
   "id": "e8f4b49b",
   "metadata": {},
   "outputs": [
    {
     "name": "stdout",
     "output_type": "stream",
     "text": [
      "Model: \"sequential\"\n",
      "_________________________________________________________________\n",
      " Layer (type)                Output Shape              Param #   \n",
      "=================================================================\n",
      " dense (Dense)               (1, 438)                  96360     \n",
      "                                                                 \n",
      " batch_normalization (BatchN  (1, 438)                 1752      \n",
      " ormalization)                                                   \n",
      "                                                                 \n",
      " leaky_re_lu (LeakyReLU)     (1, 438)                  0         \n",
      "                                                                 \n",
      " dense_1 (Dense)             (1, 219)                  96141     \n",
      "                                                                 \n",
      " batch_normalization_1 (Batc  (1, 219)                 876       \n",
      " hNormalization)                                                 \n",
      "                                                                 \n",
      " leaky_re_lu_1 (LeakyReLU)   (1, 219)                  0         \n",
      "                                                                 \n",
      " dense_2 (Dense)             (1, 32)                   7040      \n",
      "                                                                 \n",
      " dense_4 (Dense)             (1, 24)                   792       \n",
      "                                                                 \n",
      " dense_5 (Dense)             (1, 3)                    75        \n",
      "                                                                 \n",
      "=================================================================\n",
      "Total params: 203,036\n",
      "Trainable params: 867\n",
      "Non-trainable params: 202,169\n",
      "_________________________________________________________________\n"
     ]
    }
   ],
   "source": [
    "for i in range(7):\n",
    "    compound_model.layers[i].trainable = False\n",
    "\n",
    "compound_model.summary()"
   ]
  },
  {
   "cell_type": "code",
   "execution_count": 34,
   "id": "0c4a0532",
   "metadata": {},
   "outputs": [],
   "source": [
    "from keras.optimizers import Adam, SGD, Adadelta\n",
    "\n",
    "opt = Adam(learning_rate=0.001)\n",
    "\n",
    "compound_model.compile(optimizer=opt,\n",
    "              loss=tf.keras.losses.SparseCategoricalCrossentropy(from_logits=False),\n",
    "              metrics=['accuracy'])"
   ]
  },
  {
   "cell_type": "code",
   "execution_count": 35,
   "id": "e6354baa",
   "metadata": {
    "scrolled": false
   },
   "outputs": [
    {
     "name": "stdout",
     "output_type": "stream",
     "text": [
      "Epoch 1/100\n",
      "6/6 [==============================] - 0s 2ms/step - loss: 1.6478 - accuracy: 0.3407\n",
      "Epoch 2/100\n",
      "6/6 [==============================] - 0s 1ms/step - loss: 1.3397 - accuracy: 0.3956\n",
      "Epoch 3/100\n",
      "6/6 [==============================] - 0s 1ms/step - loss: 1.1669 - accuracy: 0.4286\n",
      "Epoch 4/100\n",
      "6/6 [==============================] - 0s 1ms/step - loss: 1.0327 - accuracy: 0.4615\n",
      "Epoch 5/100\n",
      "6/6 [==============================] - 0s 1ms/step - loss: 0.9414 - accuracy: 0.5000\n",
      "Epoch 6/100\n",
      "6/6 [==============================] - 0s 1000us/step - loss: 0.8929 - accuracy: 0.5165\n",
      "Epoch 7/100\n",
      "6/6 [==============================] - 0s 2ms/step - loss: 0.8641 - accuracy: 0.5275\n",
      "Epoch 8/100\n",
      "6/6 [==============================] - 0s 1ms/step - loss: 0.8417 - accuracy: 0.5549\n",
      "Epoch 9/100\n",
      "6/6 [==============================] - 0s 1ms/step - loss: 0.8235 - accuracy: 0.5440\n",
      "Epoch 10/100\n",
      "6/6 [==============================] - 0s 1ms/step - loss: 0.8093 - accuracy: 0.5440\n",
      "Epoch 11/100\n",
      "6/6 [==============================] - 0s 1ms/step - loss: 0.7961 - accuracy: 0.5769\n",
      "Epoch 12/100\n",
      "6/6 [==============================] - 0s 1ms/step - loss: 0.7861 - accuracy: 0.5714\n",
      "Epoch 13/100\n",
      "6/6 [==============================] - 0s 1ms/step - loss: 0.7778 - accuracy: 0.5769\n",
      "Epoch 14/100\n",
      "6/6 [==============================] - 0s 1ms/step - loss: 0.7674 - accuracy: 0.5714\n",
      "Epoch 15/100\n",
      "6/6 [==============================] - 0s 1ms/step - loss: 0.7605 - accuracy: 0.6044\n",
      "Epoch 16/100\n",
      "6/6 [==============================] - 0s 1ms/step - loss: 0.7528 - accuracy: 0.6154\n",
      "Epoch 17/100\n",
      "6/6 [==============================] - 0s 999us/step - loss: 0.7458 - accuracy: 0.6209\n",
      "Epoch 18/100\n",
      "6/6 [==============================] - 0s 1ms/step - loss: 0.7379 - accuracy: 0.6209\n",
      "Epoch 19/100\n",
      "6/6 [==============================] - 0s 1000us/step - loss: 0.7322 - accuracy: 0.6209\n",
      "Epoch 20/100\n",
      "6/6 [==============================] - 0s 1ms/step - loss: 0.7284 - accuracy: 0.6209\n",
      "Epoch 21/100\n",
      "6/6 [==============================] - 0s 1000us/step - loss: 0.7223 - accuracy: 0.6319\n",
      "Epoch 22/100\n",
      "6/6 [==============================] - 0s 1ms/step - loss: 0.7185 - accuracy: 0.6319\n",
      "Epoch 23/100\n",
      "6/6 [==============================] - 0s 1000us/step - loss: 0.7128 - accuracy: 0.6374\n",
      "Epoch 24/100\n",
      "6/6 [==============================] - 0s 1ms/step - loss: 0.7086 - accuracy: 0.6593\n",
      "Epoch 25/100\n",
      "6/6 [==============================] - 0s 1000us/step - loss: 0.7041 - accuracy: 0.6593\n",
      "Epoch 26/100\n",
      "6/6 [==============================] - 0s 1ms/step - loss: 0.7017 - accuracy: 0.6538\n",
      "Epoch 27/100\n",
      "6/6 [==============================] - 0s 1ms/step - loss: 0.6956 - accuracy: 0.6703\n",
      "Epoch 28/100\n",
      "6/6 [==============================] - 0s 1ms/step - loss: 0.6920 - accuracy: 0.6758\n",
      "Epoch 29/100\n",
      "6/6 [==============================] - 0s 1000us/step - loss: 0.6901 - accuracy: 0.6648\n",
      "Epoch 30/100\n",
      "6/6 [==============================] - 0s 1ms/step - loss: 0.6846 - accuracy: 0.6703\n",
      "Epoch 31/100\n",
      "6/6 [==============================] - 0s 1ms/step - loss: 0.6830 - accuracy: 0.6648\n",
      "Epoch 32/100\n",
      "6/6 [==============================] - 0s 1ms/step - loss: 0.6782 - accuracy: 0.6703\n",
      "Epoch 33/100\n",
      "6/6 [==============================] - 0s 1ms/step - loss: 0.6758 - accuracy: 0.6703\n",
      "Epoch 34/100\n",
      "6/6 [==============================] - 0s 1ms/step - loss: 0.6715 - accuracy: 0.6923\n",
      "Epoch 35/100\n",
      "6/6 [==============================] - 0s 1ms/step - loss: 0.6690 - accuracy: 0.6978\n",
      "Epoch 36/100\n",
      "6/6 [==============================] - 0s 1ms/step - loss: 0.6654 - accuracy: 0.6813\n",
      "Epoch 37/100\n",
      "6/6 [==============================] - 0s 1ms/step - loss: 0.6633 - accuracy: 0.6758\n",
      "Epoch 38/100\n",
      "6/6 [==============================] - 0s 1000us/step - loss: 0.6616 - accuracy: 0.6813\n",
      "Epoch 39/100\n",
      "6/6 [==============================] - 0s 1ms/step - loss: 0.6569 - accuracy: 0.6868\n",
      "Epoch 40/100\n",
      "6/6 [==============================] - 0s 1ms/step - loss: 0.6535 - accuracy: 0.6868\n",
      "Epoch 41/100\n",
      "6/6 [==============================] - 0s 1ms/step - loss: 0.6518 - accuracy: 0.6813\n",
      "Epoch 42/100\n",
      "6/6 [==============================] - 0s 1000us/step - loss: 0.6482 - accuracy: 0.6923\n",
      "Epoch 43/100\n",
      "6/6 [==============================] - 0s 1ms/step - loss: 0.6463 - accuracy: 0.6923\n",
      "Epoch 44/100\n",
      "6/6 [==============================] - 0s 1ms/step - loss: 0.6456 - accuracy: 0.6813\n",
      "Epoch 45/100\n",
      "6/6 [==============================] - 0s 1000us/step - loss: 0.6420 - accuracy: 0.6978\n",
      "Epoch 46/100\n",
      "6/6 [==============================] - 0s 1ms/step - loss: 0.6389 - accuracy: 0.7033\n",
      "Epoch 47/100\n",
      "6/6 [==============================] - 0s 1ms/step - loss: 0.6351 - accuracy: 0.7033\n",
      "Epoch 48/100\n",
      "6/6 [==============================] - 0s 1ms/step - loss: 0.6343 - accuracy: 0.6978\n",
      "Epoch 49/100\n",
      "6/6 [==============================] - 0s 1000us/step - loss: 0.6312 - accuracy: 0.7143\n",
      "Epoch 50/100\n",
      "6/6 [==============================] - 0s 1ms/step - loss: 0.6287 - accuracy: 0.7088\n",
      "Epoch 51/100\n",
      "6/6 [==============================] - 0s 1000us/step - loss: 0.6267 - accuracy: 0.7088\n",
      "Epoch 52/100\n",
      "6/6 [==============================] - 0s 1ms/step - loss: 0.6259 - accuracy: 0.6978\n",
      "Epoch 53/100\n",
      "6/6 [==============================] - 0s 1000us/step - loss: 0.6250 - accuracy: 0.7088\n",
      "Epoch 54/100\n",
      "6/6 [==============================] - 0s 1ms/step - loss: 0.6206 - accuracy: 0.7143\n",
      "Epoch 55/100\n",
      "6/6 [==============================] - 0s 1ms/step - loss: 0.6176 - accuracy: 0.7143\n",
      "Epoch 56/100\n",
      "6/6 [==============================] - 0s 1ms/step - loss: 0.6164 - accuracy: 0.7253\n",
      "Epoch 57/100\n",
      "6/6 [==============================] - 0s 1ms/step - loss: 0.6135 - accuracy: 0.7198\n",
      "Epoch 58/100\n",
      "6/6 [==============================] - 0s 1ms/step - loss: 0.6114 - accuracy: 0.7033\n",
      "Epoch 59/100\n",
      "6/6 [==============================] - 0s 1ms/step - loss: 0.6090 - accuracy: 0.7143\n",
      "Epoch 60/100\n",
      "6/6 [==============================] - 0s 1ms/step - loss: 0.6081 - accuracy: 0.7088\n",
      "Epoch 61/100\n",
      "6/6 [==============================] - 0s 1ms/step - loss: 0.6056 - accuracy: 0.7308\n",
      "Epoch 62/100\n",
      "6/6 [==============================] - 0s 1ms/step - loss: 0.6035 - accuracy: 0.7198\n",
      "Epoch 63/100\n",
      "6/6 [==============================] - 0s 1000us/step - loss: 0.6018 - accuracy: 0.7308\n",
      "Epoch 64/100\n",
      "6/6 [==============================] - 0s 1ms/step - loss: 0.6003 - accuracy: 0.7418\n",
      "Epoch 65/100\n",
      "6/6 [==============================] - 0s 1000us/step - loss: 0.5975 - accuracy: 0.7198\n",
      "Epoch 66/100\n",
      "6/6 [==============================] - 0s 1ms/step - loss: 0.5952 - accuracy: 0.7363\n",
      "Epoch 67/100\n",
      "6/6 [==============================] - 0s 1ms/step - loss: 0.5956 - accuracy: 0.7308\n",
      "Epoch 68/100\n",
      "6/6 [==============================] - 0s 1ms/step - loss: 0.5936 - accuracy: 0.7308\n",
      "Epoch 69/100\n",
      "6/6 [==============================] - 0s 999us/step - loss: 0.5924 - accuracy: 0.7308\n",
      "Epoch 70/100\n",
      "6/6 [==============================] - 0s 1ms/step - loss: 0.5898 - accuracy: 0.7253\n",
      "Epoch 71/100\n",
      "6/6 [==============================] - 0s 1ms/step - loss: 0.5878 - accuracy: 0.7308\n",
      "Epoch 72/100\n",
      "6/6 [==============================] - 0s 1ms/step - loss: 0.5886 - accuracy: 0.7308\n",
      "Epoch 73/100\n",
      "6/6 [==============================] - 0s 1ms/step - loss: 0.5854 - accuracy: 0.7253\n",
      "Epoch 74/100\n",
      "6/6 [==============================] - 0s 1ms/step - loss: 0.5846 - accuracy: 0.7308\n",
      "Epoch 75/100\n",
      "6/6 [==============================] - 0s 1ms/step - loss: 0.5811 - accuracy: 0.7308\n",
      "Epoch 76/100\n",
      "6/6 [==============================] - 0s 1ms/step - loss: 0.5821 - accuracy: 0.7308\n",
      "Epoch 77/100\n",
      "6/6 [==============================] - 0s 1ms/step - loss: 0.5768 - accuracy: 0.7253\n",
      "Epoch 78/100\n",
      "6/6 [==============================] - 0s 1ms/step - loss: 0.5759 - accuracy: 0.7308\n",
      "Epoch 79/100\n",
      "6/6 [==============================] - 0s 1ms/step - loss: 0.5740 - accuracy: 0.7418\n",
      "Epoch 80/100\n",
      "6/6 [==============================] - 0s 1ms/step - loss: 0.5754 - accuracy: 0.7418\n",
      "Epoch 81/100\n",
      "6/6 [==============================] - 0s 1ms/step - loss: 0.5704 - accuracy: 0.7363\n",
      "Epoch 82/100\n",
      "6/6 [==============================] - 0s 1ms/step - loss: 0.5683 - accuracy: 0.7473\n",
      "Epoch 83/100\n",
      "6/6 [==============================] - 0s 1ms/step - loss: 0.5686 - accuracy: 0.7418\n",
      "Epoch 84/100\n"
     ]
    },
    {
     "name": "stdout",
     "output_type": "stream",
     "text": [
      "6/6 [==============================] - 0s 1000us/step - loss: 0.5666 - accuracy: 0.7527\n",
      "Epoch 85/100\n",
      "6/6 [==============================] - 0s 1ms/step - loss: 0.5657 - accuracy: 0.7582\n",
      "Epoch 86/100\n",
      "6/6 [==============================] - 0s 1ms/step - loss: 0.5637 - accuracy: 0.7418\n",
      "Epoch 87/100\n",
      "6/6 [==============================] - 0s 1ms/step - loss: 0.5612 - accuracy: 0.7692\n",
      "Epoch 88/100\n",
      "6/6 [==============================] - 0s 1ms/step - loss: 0.5594 - accuracy: 0.7857\n",
      "Epoch 89/100\n",
      "6/6 [==============================] - 0s 1ms/step - loss: 0.5580 - accuracy: 0.7692\n",
      "Epoch 90/100\n",
      "6/6 [==============================] - 0s 1000us/step - loss: 0.5570 - accuracy: 0.7582\n",
      "Epoch 91/100\n",
      "6/6 [==============================] - 0s 1000us/step - loss: 0.5550 - accuracy: 0.7637\n",
      "Epoch 92/100\n",
      "6/6 [==============================] - 0s 1ms/step - loss: 0.5533 - accuracy: 0.7747\n",
      "Epoch 93/100\n",
      "6/6 [==============================] - 0s 1ms/step - loss: 0.5514 - accuracy: 0.7802\n",
      "Epoch 94/100\n",
      "6/6 [==============================] - 0s 1ms/step - loss: 0.5518 - accuracy: 0.7582\n",
      "Epoch 95/100\n",
      "6/6 [==============================] - 0s 1ms/step - loss: 0.5493 - accuracy: 0.7747\n",
      "Epoch 96/100\n",
      "6/6 [==============================] - 0s 1ms/step - loss: 0.5482 - accuracy: 0.7802\n",
      "Epoch 97/100\n",
      "6/6 [==============================] - 0s 1ms/step - loss: 0.5465 - accuracy: 0.7802\n",
      "Epoch 98/100\n",
      "6/6 [==============================] - 0s 1ms/step - loss: 0.5455 - accuracy: 0.7802\n",
      "Epoch 99/100\n",
      "6/6 [==============================] - 0s 1000us/step - loss: 0.5446 - accuracy: 0.7857\n",
      "Epoch 100/100\n",
      "6/6 [==============================] - 0s 1000us/step - loss: 0.5413 - accuracy: 0.7857\n"
     ]
    }
   ],
   "source": [
    "history = compound_model.fit(x_train_scaled, disease_labels_train, epochs=100)"
   ]
  },
  {
   "cell_type": "code",
   "execution_count": 36,
   "id": "6b6b2a75",
   "metadata": {},
   "outputs": [
    {
     "name": "stdout",
     "output_type": "stream",
     "text": [
      "dict_keys(['loss', 'accuracy'])\n"
     ]
    }
   ],
   "source": [
    "print(history.history.keys())"
   ]
  },
  {
   "cell_type": "code",
   "execution_count": 37,
   "id": "eca49e3d",
   "metadata": {
    "scrolled": true
   },
   "outputs": [
    {
     "data": {
      "image/png": "[encoded data removed]",
      "text/plain": [
       "<Figure size 432x288 with 1 Axes>"
      ]
     },
     "metadata": {
      "needs_background": "light"
     },
     "output_type": "display_data"
    }
   ],
   "source": [
    "# summarize history for loss\n",
    "plt.figure()\n",
    "plt.grid()\n",
    "plt.plot(history.history['loss'])\n",
    "# plt.plot(history.history['val_loss'])\n",
    "plt.title('model loss')\n",
    "plt.ylabel('loss')\n",
    "plt.xlabel('epoch')\n",
    "# plt.legend(['Training', 'Validation'], loc='upper left')\n",
    "plt.tight_layout()\n",
    "# plt.savefig('autoencoder_learning_curve_loss.png', dpi=300)\n",
    "plt.show()"
   ]
  },
  {
   "cell_type": "code",
   "execution_count": 38,
   "id": "59484450",
   "metadata": {},
   "outputs": [
    {
     "name": "stdout",
     "output_type": "stream",
     "text": [
      "3/3 - 0s - loss: 0.8211 - accuracy: 0.6282 - 124ms/epoch - 41ms/step\n",
      "\n",
      "Test accuracy: 0.6282051205635071\n"
     ]
    }
   ],
   "source": [
    "test_loss, test_acc = compound_model.evaluate(x_test_scaled, disease_labels_test, verbose=2)\n",
    "\n",
    "print('\\nTest accuracy:', test_acc)"
   ]
  },
  {
   "cell_type": "code",
   "execution_count": 39,
   "id": "3ecdd0c3",
   "metadata": {},
   "outputs": [
    {
     "name": "stdout",
     "output_type": "stream",
     "text": [
      "1/1 [==============================] - 0s 75ms/step\n"
     ]
    },
    {
     "data": {
      "text/plain": [
       "array([0.48168048, 0.5015872 , 0.01673228], dtype=float32)"
      ]
     },
     "execution_count": 39,
     "metadata": {},
     "output_type": "execute_result"
    }
   ],
   "source": [
    "compound_model.predict(x_test_scaled.head(1))[0]"
   ]
  },
  {
   "cell_type": "code",
   "execution_count": 40,
   "id": "37c28b6e",
   "metadata": {},
   "outputs": [
    {
     "data": {
      "text/html": [
       "<div>\n",
       "<style scoped>\n",
       "    .dataframe tbody tr th:only-of-type {\n",
       "        vertical-align: middle;\n",
       "    }\n",
       "\n",
       "    .dataframe tbody tr th {\n",
       "        vertical-align: top;\n",
       "    }\n",
       "\n",
       "    .dataframe thead th {\n",
       "        text-align: right;\n",
       "    }\n",
       "</style>\n",
       "<table border=\"1\" class=\"dataframe\">\n",
       "  <thead>\n",
       "    <tr style=\"text-align: right;\">\n",
       "      <th></th>\n",
       "      <th>AADAC</th>\n",
       "      <th>APOA1</th>\n",
       "      <th>APOA4</th>\n",
       "      <th>APOB</th>\n",
       "      <th>APOC3</th>\n",
       "      <th>AQP9</th>\n",
       "      <th>C6</th>\n",
       "      <th>CEACAM7</th>\n",
       "      <th>CHI3L1</th>\n",
       "      <th>ABCC2</th>\n",
       "      <th>...</th>\n",
       "      <th>TAF15</th>\n",
       "      <th>ZFYVE20</th>\n",
       "      <th>LOC100420253</th>\n",
       "      <th>LY6G5B</th>\n",
       "      <th>C5orf58</th>\n",
       "      <th>RSL24D1P1</th>\n",
       "      <th>MIEN1</th>\n",
       "      <th>PCBP1_AS1</th>\n",
       "      <th>LOC100133165</th>\n",
       "      <th>DNAJB8</th>\n",
       "    </tr>\n",
       "    <tr>\n",
       "      <th>Patient_ID</th>\n",
       "      <th></th>\n",
       "      <th></th>\n",
       "      <th></th>\n",
       "      <th></th>\n",
       "      <th></th>\n",
       "      <th></th>\n",
       "      <th></th>\n",
       "      <th></th>\n",
       "      <th></th>\n",
       "      <th></th>\n",
       "      <th></th>\n",
       "      <th></th>\n",
       "      <th></th>\n",
       "      <th></th>\n",
       "      <th></th>\n",
       "      <th></th>\n",
       "      <th></th>\n",
       "      <th></th>\n",
       "      <th></th>\n",
       "      <th></th>\n",
       "      <th></th>\n",
       "    </tr>\n",
       "  </thead>\n",
       "  <tbody>\n",
       "    <tr>\n",
       "      <th>253_CD_plain</th>\n",
       "      <td>0.869185</td>\n",
       "      <td>0.84188</td>\n",
       "      <td>0.930171</td>\n",
       "      <td>0.886737</td>\n",
       "      <td>0.835678</td>\n",
       "      <td>0.297964</td>\n",
       "      <td>0.668498</td>\n",
       "      <td>0.26667</td>\n",
       "      <td>0.278122</td>\n",
       "      <td>0.93352</td>\n",
       "      <td>...</td>\n",
       "      <td>0.339788</td>\n",
       "      <td>0.326732</td>\n",
       "      <td>0.0</td>\n",
       "      <td>0.862246</td>\n",
       "      <td>0.074473</td>\n",
       "      <td>0.0</td>\n",
       "      <td>0.498941</td>\n",
       "      <td>0.34992</td>\n",
       "      <td>0.0</td>\n",
       "      <td>0.0</td>\n",
       "    </tr>\n",
       "  </tbody>\n",
       "</table>\n",
       "<p>1 rows × 219 columns</p>\n",
       "</div>"
      ],
      "text/plain": [
       "                 AADAC    APOA1     APOA4      APOB     APOC3      AQP9  \\\n",
       "Patient_ID                                                                \n",
       "253_CD_plain  0.869185  0.84188  0.930171  0.886737  0.835678  0.297964   \n",
       "\n",
       "                    C6  CEACAM7    CHI3L1    ABCC2  ...     TAF15   ZFYVE20  \\\n",
       "Patient_ID                                          ...                       \n",
       "253_CD_plain  0.668498  0.26667  0.278122  0.93352  ...  0.339788  0.326732   \n",
       "\n",
       "              LOC100420253    LY6G5B   C5orf58  RSL24D1P1     MIEN1  \\\n",
       "Patient_ID                                                            \n",
       "253_CD_plain           0.0  0.862246  0.074473        0.0  0.498941   \n",
       "\n",
       "              PCBP1_AS1  LOC100133165  DNAJB8  \n",
       "Patient_ID                                     \n",
       "253_CD_plain    0.34992           0.0     0.0  \n",
       "\n",
       "[1 rows x 219 columns]"
      ]
     },
     "execution_count": 40,
     "metadata": {},
     "output_type": "execute_result"
    }
   ],
   "source": [
    "x_test_scaled.iloc[[0],:]"
   ]
  },
  {
   "cell_type": "markdown",
   "id": "b866c9dc",
   "metadata": {},
   "source": [
    "## SHAP evaluation"
   ]
  },
  {
   "cell_type": "code",
   "execution_count": 1,
   "id": "f26b366e",
   "metadata": {},
   "outputs": [
    {
     "ename": "ModuleNotFoundError",
     "evalue": "No module named 'gene_shap_minimal'",
     "output_type": "error",
     "traceback": [
      "\u001b[1;31m---------------------------------------------------------------------------\u001b[0m",
      "\u001b[1;31mModuleNotFoundError\u001b[0m                       Traceback (most recent call last)",
      "Input \u001b[1;32mIn [1]\u001b[0m, in \u001b[0;36m<cell line: 1>\u001b[1;34m()\u001b[0m\n\u001b[1;32m----> 1\u001b[0m \u001b[38;5;28;01mimport\u001b[39;00m \u001b[38;5;21;01mgene_shap_minimal\u001b[39;00m\n",
      "\u001b[1;31mModuleNotFoundError\u001b[0m: No module named 'gene_shap_minimal'"
     ]
    }
   ],
   "source": [
    "import gene_shap_minimal"
   ]
  },
  {
   "cell_type": "code",
   "execution_count": 1,
   "id": "30c66463",
   "metadata": {},
   "outputs": [
    {
     "ename": "ModuleNotFoundError",
     "evalue": "No module named 'explainers'",
     "output_type": "error",
     "traceback": [
      "\u001b[1;31m---------------------------------------------------------------------------\u001b[0m",
      "\u001b[1;31mModuleNotFoundError\u001b[0m                       Traceback (most recent call last)",
      "Input \u001b[1;32mIn [1]\u001b[0m, in \u001b[0;36m<cell line: 1>\u001b[1;34m()\u001b[0m\n\u001b[1;32m----> 1\u001b[0m \u001b[38;5;28;01mfrom\u001b[39;00m \u001b[38;5;21;01mgene_shap_minimal\u001b[39;00m \u001b[38;5;28;01mimport\u001b[39;00m test\n",
      "File \u001b[1;32m~\\OneDrive - University of Cambridge\\MPhil-Sonny\\research project\\exploring dataset\\gene_shap_minimal\\test.py:1\u001b[0m, in \u001b[0;36m<module>\u001b[1;34m\u001b[0m\n\u001b[1;32m----> 1\u001b[0m \u001b[38;5;28;01mfrom\u001b[39;00m \u001b[38;5;21;01mexplainers\u001b[39;00m\u001b[38;5;21;01m.\u001b[39;00m\u001b[38;5;21;01m_kernel\u001b[39;00m \u001b[38;5;28;01mimport\u001b[39;00m Kernel \u001b[38;5;28;01mas\u001b[39;00m KernelExplainer\n\u001b[0;32m      2\u001b[0m \u001b[38;5;66;03m# from utils._clustering import hclust\u001b[39;00m\n\u001b[0;32m      3\u001b[0m \u001b[38;5;28;01mimport\u001b[39;00m \u001b[38;5;21;01mnumpy\u001b[39;00m \u001b[38;5;28;01mas\u001b[39;00m \u001b[38;5;21;01mnp\u001b[39;00m\n",
      "\u001b[1;31mModuleNotFoundError\u001b[0m: No module named 'explainers'"
     ]
    }
   ],
   "source": [
    "from gene_shap_minimal import test"
   ]
  },
  {
   "cell_type": "code",
   "execution_count": 5,
   "id": "9fd912d4",
   "metadata": {},
   "outputs": [],
   "source": [
    "from explainers._kernel import Kernel as KernelExplainer"
   ]
  },
  {
   "cell_type": "code",
   "execution_count": 4,
   "id": "ab9638f1",
   "metadata": {},
   "outputs": [
    {
     "name": "stdout",
     "output_type": "stream",
     "text": [
      "hello world\n"
     ]
    }
   ],
   "source": [
    "test.say_hello()"
   ]
  },
  {
   "cell_type": "code",
   "execution_count": 31,
   "id": "410a946a",
   "metadata": {},
   "outputs": [
    {
     "ename": "ModuleNotFoundError",
     "evalue": "No module named 'geneSHAP'",
     "output_type": "error",
     "traceback": [
      "\u001b[1;31m---------------------------------------------------------------------------\u001b[0m",
      "\u001b[1;31mModuleNotFoundError\u001b[0m                       Traceback (most recent call last)",
      "Input \u001b[1;32mIn [31]\u001b[0m, in \u001b[0;36m<cell line: 1>\u001b[1;34m()\u001b[0m\n\u001b[1;32m----> 1\u001b[0m \u001b[38;5;28;01mimport\u001b[39;00m \u001b[38;5;21;01mgeneSHAP\u001b[39;00m\n",
      "\u001b[1;31mModuleNotFoundError\u001b[0m: No module named 'geneSHAP'"
     ]
    }
   ],
   "source": [
    "import geneSHAP"
   ]
  },
  {
   "cell_type": "code",
   "execution_count": 41,
   "id": "59d8bafd",
   "metadata": {},
   "outputs": [
    {
     "name": "stdout",
     "output_type": "stream",
     "text": [
      "6/6 [==============================] - 0s 1ms/step\n"
     ]
    },
    {
     "name": "stderr",
     "output_type": "stream",
     "text": [
      "Using 182 background data samples could cause slower run times. Consider using shap.sample(data, K) or shap.kmeans(data, K) to summarize the background as K samples.\n"
     ]
    }
   ],
   "source": [
    "explainer = KernelExplainer(model=compound_model.predict, data=x_train_scaled, link=\"logit\")"
   ]
  },
  {
   "cell_type": "code",
   "execution_count": null,
   "id": "d2611e83",
   "metadata": {
    "scrolled": false
   },
   "outputs": [],
   "source": [
    "# shap_values = explainer.shap_values(X=x_test_scaled)"
   ]
  },
  {
   "cell_type": "markdown",
   "id": "17346fcd",
   "metadata": {},
   "source": [
    "## Save SHAP values"
   ]
  },
  {
   "cell_type": "code",
   "execution_count": null,
   "id": "3fcb2d5a",
   "metadata": {},
   "outputs": [],
   "source": [
    "# with open(\"shap_values\", \"wb\") as fp:   #Pickling\n",
    "#     pickle.dump(shap_values, fp)"
   ]
  },
  {
   "cell_type": "code",
   "execution_count": 42,
   "id": "dd6aada4",
   "metadata": {},
   "outputs": [],
   "source": [
    "\n",
    "\n",
    "with open(\"../shap_values\", \"rb\") as fp:   # Unpickling\n",
    "    shap_values = pickle.load(fp)"
   ]
  },
  {
   "cell_type": "code",
   "execution_count": 43,
   "id": "fdc84742",
   "metadata": {},
   "outputs": [
    {
     "name": "stdout",
     "output_type": "stream",
     "text": [
      "length of SHAP values: 3\n",
      "Shape of each element: (78, 219)\n"
     ]
    }
   ],
   "source": [
    "print(f'length of SHAP values: {len(shap_values)}')\n",
    "print(f'Shape of each element: {shap_values[0].shape}')"
   ]
  },
  {
   "cell_type": "markdown",
   "id": "55542143",
   "metadata": {},
   "source": [
    "Target Classes:\n",
    "0: control\n",
    "1: CD no ulcer\n",
    "2: CD deep ulcer"
   ]
  },
  {
   "cell_type": "markdown",
   "id": "17dec114",
   "metadata": {},
   "source": [
    "## Patient-specific plots"
   ]
  },
  {
   "cell_type": "code",
   "execution_count": 44,
   "id": "7f4c0d02",
   "metadata": {},
   "outputs": [
    {
     "data": {
      "text/html": [
       "<div>\n",
       "<style scoped>\n",
       "    .dataframe tbody tr th:only-of-type {\n",
       "        vertical-align: middle;\n",
       "    }\n",
       "\n",
       "    .dataframe tbody tr th {\n",
       "        vertical-align: top;\n",
       "    }\n",
       "\n",
       "    .dataframe thead th {\n",
       "        text-align: right;\n",
       "    }\n",
       "</style>\n",
       "<table border=\"1\" class=\"dataframe\">\n",
       "  <thead>\n",
       "    <tr style=\"text-align: right;\">\n",
       "      <th></th>\n",
       "      <th>AADAC</th>\n",
       "      <th>APOA1</th>\n",
       "      <th>APOA4</th>\n",
       "      <th>APOB</th>\n",
       "      <th>APOC3</th>\n",
       "      <th>AQP9</th>\n",
       "      <th>C6</th>\n",
       "      <th>CEACAM7</th>\n",
       "      <th>CHI3L1</th>\n",
       "      <th>ABCC2</th>\n",
       "      <th>...</th>\n",
       "      <th>TAF15</th>\n",
       "      <th>ZFYVE20</th>\n",
       "      <th>LOC100420253</th>\n",
       "      <th>LY6G5B</th>\n",
       "      <th>C5orf58</th>\n",
       "      <th>RSL24D1P1</th>\n",
       "      <th>MIEN1</th>\n",
       "      <th>PCBP1_AS1</th>\n",
       "      <th>LOC100133165</th>\n",
       "      <th>DNAJB8</th>\n",
       "    </tr>\n",
       "    <tr>\n",
       "      <th>Patient_ID</th>\n",
       "      <th></th>\n",
       "      <th></th>\n",
       "      <th></th>\n",
       "      <th></th>\n",
       "      <th></th>\n",
       "      <th></th>\n",
       "      <th></th>\n",
       "      <th></th>\n",
       "      <th></th>\n",
       "      <th></th>\n",
       "      <th></th>\n",
       "      <th></th>\n",
       "      <th></th>\n",
       "      <th></th>\n",
       "      <th></th>\n",
       "      <th></th>\n",
       "      <th></th>\n",
       "      <th></th>\n",
       "      <th></th>\n",
       "      <th></th>\n",
       "      <th></th>\n",
       "    </tr>\n",
       "  </thead>\n",
       "  <tbody>\n",
       "    <tr>\n",
       "      <th>58_CD_plain</th>\n",
       "      <td>0.712765</td>\n",
       "      <td>0.67885</td>\n",
       "      <td>0.86582</td>\n",
       "      <td>0.855696</td>\n",
       "      <td>0.828452</td>\n",
       "      <td>0.498697</td>\n",
       "      <td>0.567772</td>\n",
       "      <td>0.352862</td>\n",
       "      <td>0.317254</td>\n",
       "      <td>0.76505</td>\n",
       "      <td>...</td>\n",
       "      <td>0.211571</td>\n",
       "      <td>0.283032</td>\n",
       "      <td>0.0</td>\n",
       "      <td>0.703328</td>\n",
       "      <td>0.556984</td>\n",
       "      <td>0.0</td>\n",
       "      <td>0.415272</td>\n",
       "      <td>0.225017</td>\n",
       "      <td>0.0</td>\n",
       "      <td>0.0</td>\n",
       "    </tr>\n",
       "  </tbody>\n",
       "</table>\n",
       "<p>1 rows × 219 columns</p>\n",
       "</div>"
      ],
      "text/plain": [
       "                AADAC    APOA1    APOA4      APOB     APOC3      AQP9  \\\n",
       "Patient_ID                                                              \n",
       "58_CD_plain  0.712765  0.67885  0.86582  0.855696  0.828452  0.498697   \n",
       "\n",
       "                   C6   CEACAM7    CHI3L1    ABCC2  ...     TAF15   ZFYVE20  \\\n",
       "Patient_ID                                          ...                       \n",
       "58_CD_plain  0.567772  0.352862  0.317254  0.76505  ...  0.211571  0.283032   \n",
       "\n",
       "             LOC100420253    LY6G5B   C5orf58  RSL24D1P1     MIEN1  PCBP1_AS1  \\\n",
       "Patient_ID                                                                      \n",
       "58_CD_plain           0.0  0.703328  0.556984        0.0  0.415272   0.225017   \n",
       "\n",
       "             LOC100133165  DNAJB8  \n",
       "Patient_ID                         \n",
       "58_CD_plain           0.0     0.0  \n",
       "\n",
       "[1 rows x 219 columns]"
      ]
     },
     "execution_count": 44,
     "metadata": {},
     "output_type": "execute_result"
    }
   ],
   "source": [
    "idx = 11\n",
    "patient = x_test_scaled.iloc[[idx],:]\n",
    "patient"
   ]
  },
  {
   "cell_type": "code",
   "execution_count": 45,
   "id": "3cf059a4",
   "metadata": {},
   "outputs": [
    {
     "data": {
      "text/html": [
       "<div>\n",
       "<style scoped>\n",
       "    .dataframe tbody tr th:only-of-type {\n",
       "        vertical-align: middle;\n",
       "    }\n",
       "\n",
       "    .dataframe tbody tr th {\n",
       "        vertical-align: top;\n",
       "    }\n",
       "\n",
       "    .dataframe thead th {\n",
       "        text-align: right;\n",
       "    }\n",
       "</style>\n",
       "<table border=\"1\" class=\"dataframe\">\n",
       "  <thead>\n",
       "    <tr style=\"text-align: right;\">\n",
       "      <th></th>\n",
       "      <th>AADAC</th>\n",
       "      <th>APOA1</th>\n",
       "      <th>APOA4</th>\n",
       "      <th>APOB</th>\n",
       "      <th>APOC3</th>\n",
       "      <th>AQP9</th>\n",
       "      <th>C6</th>\n",
       "      <th>CEACAM7</th>\n",
       "      <th>CHI3L1</th>\n",
       "      <th>ABCC2</th>\n",
       "      <th>...</th>\n",
       "      <th>TAF15</th>\n",
       "      <th>ZFYVE20</th>\n",
       "      <th>LOC100420253</th>\n",
       "      <th>LY6G5B</th>\n",
       "      <th>C5orf58</th>\n",
       "      <th>RSL24D1P1</th>\n",
       "      <th>MIEN1</th>\n",
       "      <th>PCBP1_AS1</th>\n",
       "      <th>LOC100133165</th>\n",
       "      <th>DNAJB8</th>\n",
       "    </tr>\n",
       "    <tr>\n",
       "      <th>Patient_ID</th>\n",
       "      <th></th>\n",
       "      <th></th>\n",
       "      <th></th>\n",
       "      <th></th>\n",
       "      <th></th>\n",
       "      <th></th>\n",
       "      <th></th>\n",
       "      <th></th>\n",
       "      <th></th>\n",
       "      <th></th>\n",
       "      <th></th>\n",
       "      <th></th>\n",
       "      <th></th>\n",
       "      <th></th>\n",
       "      <th></th>\n",
       "      <th></th>\n",
       "      <th></th>\n",
       "      <th></th>\n",
       "      <th></th>\n",
       "      <th></th>\n",
       "      <th></th>\n",
       "    </tr>\n",
       "  </thead>\n",
       "  <tbody>\n",
       "    <tr>\n",
       "      <th>253_CD_plain</th>\n",
       "      <td>0.869185</td>\n",
       "      <td>0.84188</td>\n",
       "      <td>0.930171</td>\n",
       "      <td>0.886737</td>\n",
       "      <td>0.835678</td>\n",
       "      <td>0.297964</td>\n",
       "      <td>0.668498</td>\n",
       "      <td>0.26667</td>\n",
       "      <td>0.278122</td>\n",
       "      <td>0.93352</td>\n",
       "      <td>...</td>\n",
       "      <td>0.339788</td>\n",
       "      <td>0.326732</td>\n",
       "      <td>0.0</td>\n",
       "      <td>0.862246</td>\n",
       "      <td>0.074473</td>\n",
       "      <td>0.0</td>\n",
       "      <td>0.498941</td>\n",
       "      <td>0.34992</td>\n",
       "      <td>0.0</td>\n",
       "      <td>0.0</td>\n",
       "    </tr>\n",
       "  </tbody>\n",
       "</table>\n",
       "<p>1 rows × 219 columns</p>\n",
       "</div>"
      ],
      "text/plain": [
       "                 AADAC    APOA1     APOA4      APOB     APOC3      AQP9  \\\n",
       "Patient_ID                                                                \n",
       "253_CD_plain  0.869185  0.84188  0.930171  0.886737  0.835678  0.297964   \n",
       "\n",
       "                    C6  CEACAM7    CHI3L1    ABCC2  ...     TAF15   ZFYVE20  \\\n",
       "Patient_ID                                          ...                       \n",
       "253_CD_plain  0.668498  0.26667  0.278122  0.93352  ...  0.339788  0.326732   \n",
       "\n",
       "              LOC100420253    LY6G5B   C5orf58  RSL24D1P1     MIEN1  \\\n",
       "Patient_ID                                                            \n",
       "253_CD_plain           0.0  0.862246  0.074473        0.0  0.498941   \n",
       "\n",
       "              PCBP1_AS1  LOC100133165  DNAJB8  \n",
       "Patient_ID                                     \n",
       "253_CD_plain    0.34992           0.0     0.0  \n",
       "\n",
       "[1 rows x 219 columns]"
      ]
     },
     "execution_count": 45,
     "metadata": {},
     "output_type": "execute_result"
    }
   ],
   "source": [
    "x_test_scaled.iloc[[0],:]"
   ]
  },
  {
   "cell_type": "code",
   "execution_count": 46,
   "id": "0f6ff8ee",
   "metadata": {},
   "outputs": [
    {
     "name": "stdout",
     "output_type": "stream",
     "text": [
      "1/1 [==============================] - 0s 11ms/step\n",
      "Prediction probabilities for patient: [0.03266477 0.6798533  0.28748193]\n",
      "Predicted class:\n"
     ]
    }
   ],
   "source": [
    "print(f'Prediction probabilities for patient: {compound_model.predict(patient)[0]}')\n",
    "print(\"Predicted class:\")"
   ]
  },
  {
   "cell_type": "markdown",
   "id": "880e63d5",
   "metadata": {},
   "source": [
    "#### Control"
   ]
  },
  {
   "cell_type": "code",
   "execution_count": 47,
   "id": "27a8adf6",
   "metadata": {},
   "outputs": [
    {
     "ename": "NameError",
     "evalue": "name 'gene_shap' is not defined",
     "output_type": "error",
     "traceback": [
      "\u001b[1;31m---------------------------------------------------------------------------\u001b[0m",
      "\u001b[1;31mNameError\u001b[0m                                 Traceback (most recent call last)",
      "Input \u001b[1;32mIn [47]\u001b[0m, in \u001b[0;36m<cell line: 1>\u001b[1;34m()\u001b[0m\n\u001b[1;32m----> 1\u001b[0m \u001b[43mgene_shap\u001b[49m\u001b[38;5;241m.\u001b[39minitjs()\n\u001b[0;32m      2\u001b[0m gene_shap\u001b[38;5;241m.\u001b[39mforce_plot(explainer\u001b[38;5;241m.\u001b[39mexpected_value[\u001b[38;5;241m0\u001b[39m], shap_values[\u001b[38;5;241m0\u001b[39m][idx,:], patient, link\u001b[38;5;241m=\u001b[39m\u001b[38;5;124m\"\u001b[39m\u001b[38;5;124mlogit\u001b[39m\u001b[38;5;124m\"\u001b[39m)\n",
      "\u001b[1;31mNameError\u001b[0m: name 'gene_shap' is not defined"
     ]
    }
   ],
   "source": [
    "\n",
    "gene_shap.initjs()\n",
    "gene_shap.force_plot(explainer.expected_value[0], shap_values[0][idx,:], patient, link=\"logit\")"
   ]
  },
  {
   "cell_type": "markdown",
   "id": "96768a05",
   "metadata": {},
   "source": [
    "####  CD no ulcer"
   ]
  },
  {
   "cell_type": "code",
   "execution_count": null,
   "id": "675e2198",
   "metadata": {},
   "outputs": [],
   "source": [
    "\n",
    "gene_shap.initjs()\n",
    "gene_shap.force_plot(explainer.expected_value[1], shap_values[1][idx,:], patient, link=\"logit\")"
   ]
  },
  {
   "cell_type": "markdown",
   "id": "5aafa12f",
   "metadata": {},
   "source": [
    "####  CD deep ulcer"
   ]
  },
  {
   "cell_type": "code",
   "execution_count": null,
   "id": "ec7c0709",
   "metadata": {},
   "outputs": [],
   "source": [
    "\n",
    "gene_shap.initjs()\n",
    "gene_shap.force_plot(explainer.expected_value[2], shap_values[2][idx,:], patient, link=\"logit\")"
   ]
  },
  {
   "cell_type": "code",
   "execution_count": null,
   "id": "766d5853",
   "metadata": {},
   "outputs": [],
   "source": [
    "# gene_shap.plots.bar(Explanation(x_test_scaled)[0], clustering=clustering)\n",
    "idx = 11\n",
    "gene_shap.waterfall_plot(gene_shap.Explanation(values=shap_values[2][idx], \n",
    "                                              base_values=explainer.expected_value[2], data=x_test_scaled.iloc[idx],  \n",
    "                                         feature_names=x_test_scaled.columns.tolist()))"
   ]
  },
  {
   "cell_type": "markdown",
   "id": "b4b303cc",
   "metadata": {},
   "source": [
    "#### Control"
   ]
  },
  {
   "cell_type": "code",
   "execution_count": null,
   "id": "ffa91609",
   "metadata": {},
   "outputs": [],
   "source": [
    "gene_shap.initjs()\n",
    "gene_shap.force_plot(explainer.expected_value[0], shap_values[0], x_test_scaled)"
   ]
  },
  {
   "cell_type": "markdown",
   "id": "fdcd7ddf",
   "metadata": {},
   "source": [
    "####  CD no ulcer"
   ]
  },
  {
   "cell_type": "code",
   "execution_count": null,
   "id": "97797d00",
   "metadata": {},
   "outputs": [],
   "source": [
    "gene_shap.initjs()\n",
    "gene_shap.force_plot(explainer.expected_value[1], shap_values[1], x_test_scaled)"
   ]
  },
  {
   "cell_type": "markdown",
   "id": "4bc381e3",
   "metadata": {},
   "source": [
    "####  CD deep ulcer"
   ]
  },
  {
   "cell_type": "code",
   "execution_count": null,
   "id": "7edf4ddd",
   "metadata": {
    "scrolled": false
   },
   "outputs": [],
   "source": [
    "gene_shap.initjs()\n",
    "gene_shap.force_plot(explainer.expected_value[2], shap_values[2], x_test_scaled)"
   ]
  },
  {
   "cell_type": "markdown",
   "id": "160490ce",
   "metadata": {},
   "source": [
    "## SHAP Summary Plots"
   ]
  },
  {
   "cell_type": "code",
   "execution_count": 48,
   "id": "bc92454c",
   "metadata": {},
   "outputs": [
    {
     "ename": "NameError",
     "evalue": "name 'gene_shap' is not defined",
     "output_type": "error",
     "traceback": [
      "\u001b[1;31m---------------------------------------------------------------------------\u001b[0m",
      "\u001b[1;31mNameError\u001b[0m                                 Traceback (most recent call last)",
      "Input \u001b[1;32mIn [48]\u001b[0m, in \u001b[0;36m<cell line: 1>\u001b[1;34m()\u001b[0m\n\u001b[1;32m----> 1\u001b[0m \u001b[43mgene_shap\u001b[49m\u001b[38;5;241m.\u001b[39msummary_plot(shap_values, x_test_scaled)\n",
      "\u001b[1;31mNameError\u001b[0m: name 'gene_shap' is not defined"
     ]
    }
   ],
   "source": [
    "gene_shap.summary_plot(shap_values, x_test_scaled)"
   ]
  },
  {
   "cell_type": "code",
   "execution_count": null,
   "id": "13a4e5cc",
   "metadata": {},
   "outputs": [],
   "source": [
    "# control\n",
    "gene_shap.summary_plot(shap_values[0], x_test_scaled)"
   ]
  },
  {
   "cell_type": "code",
   "execution_count": null,
   "id": "fcf04630",
   "metadata": {},
   "outputs": [],
   "source": [
    "# CD no ulcer\n",
    "gene_shap.summary_plot(shap_values[1], x_test_scaled)"
   ]
  },
  {
   "cell_type": "code",
   "execution_count": null,
   "id": "b7df69c3",
   "metadata": {},
   "outputs": [],
   "source": [
    "# CD deep ulcer\n",
    "gene_shap.summary_plot(shap_values[2], x_test_scaled)"
   ]
  },
  {
   "cell_type": "markdown",
   "id": "716061f1",
   "metadata": {},
   "source": [
    "## SHAP Dependence Plots"
   ]
  },
  {
   "cell_type": "code",
   "execution_count": null,
   "id": "2bb377cf",
   "metadata": {},
   "outputs": [],
   "source": [
    "# control\n",
    "gene_shap.dependence_plot(\"CNTFR\", shap_values[0], x_test_scaled)"
   ]
  },
  {
   "cell_type": "code",
   "execution_count": null,
   "id": "e9f7e59b",
   "metadata": {},
   "outputs": [],
   "source": [
    "# CD no ulcer\n",
    "gene_shap.dependence_plot(\"MMP1\", shap_values[1], x_test_scaled)"
   ]
  },
  {
   "cell_type": "code",
   "execution_count": null,
   "id": "a4b5a55d",
   "metadata": {},
   "outputs": [],
   "source": [
    "# CD deep ulcer\n",
    "gene_shap.dependence_plot(\"FPR2\",shap_values[2], x_test_scaled)"
   ]
  },
  {
   "cell_type": "markdown",
   "id": "d000a8fa",
   "metadata": {},
   "source": [
    "## Clustering"
   ]
  },
  {
   "cell_type": "code",
   "execution_count": null,
   "id": "1923a45d",
   "metadata": {},
   "outputs": [],
   "source": [
    "clustering = gene_shap.utils.hclust(x_test_scaled, disease_labels_test)\n"
   ]
  },
  {
   "cell_type": "code",
   "execution_count": null,
   "id": "6300c291",
   "metadata": {},
   "outputs": [],
   "source": [
    "row = 8"
   ]
  },
  {
   "cell_type": "code",
   "execution_count": null,
   "id": "029cad77",
   "metadata": {},
   "outputs": [],
   "source": [
    "gene_shap.plots.bar(gene_shap.Explanation(values=shap_values[2][row], base_values=explainer.expected_value[2], data=x_test_scaled.iloc[row], feature_names=x_test_scaled.columns.tolist()), clustering=clustering)\n"
   ]
  },
  {
   "cell_type": "code",
   "execution_count": null,
   "id": "d9ffc895",
   "metadata": {},
   "outputs": [],
   "source": [
    "# clustering = gene_shap.utils.hclust(x_test_scaled, disease_labels_test) # by default this trains (X.shape[1] choose 2) 2-feature XGBoost models\n",
    "# gene_shap.plots.bar(shap_values_exp, clustering=clustering)"
   ]
  },
  {
   "cell_type": "code",
   "execution_count": null,
   "id": "71efc6ff",
   "metadata": {},
   "outputs": [],
   "source": [
    "# Fits the explainer\n",
    "# explainer = gene_shap.Explainer(classifier.predict, x_test_scaled)"
   ]
  },
  {
   "cell_type": "code",
   "execution_count": null,
   "id": "23858a79",
   "metadata": {},
   "outputs": [],
   "source": [
    "# explainer = gene_shap.Explainer(classifier)"
   ]
  },
  {
   "cell_type": "code",
   "execution_count": null,
   "id": "05dc0d16",
   "metadata": {},
   "outputs": [],
   "source": [
    "# shap_values = explainer(x_test_scaled)"
   ]
  },
  {
   "cell_type": "code",
   "execution_count": null,
   "id": "4ccbe970",
   "metadata": {},
   "outputs": [],
   "source": [
    "# shap_values.shape"
   ]
  },
  {
   "cell_type": "code",
   "execution_count": null,
   "id": "a09ce288",
   "metadata": {},
   "outputs": [],
   "source": [
    "# Prints the SHAP feature importances\n",
    "# print_feature_importances_shap_values(shap_values, X.columns)"
   ]
  },
  {
   "cell_type": "code",
   "execution_count": null,
   "id": "343dd65a",
   "metadata": {},
   "outputs": [],
   "source": [
    "# gene_shap.plots.bar(shap_values)"
   ]
  },
  {
   "cell_type": "code",
   "execution_count": null,
   "id": "1cfe7b50",
   "metadata": {},
   "outputs": [],
   "source": [
    "# Plots the beeswarm\n",
    "# gene_shap.plots.beeswarm(shap_values)"
   ]
  },
  {
   "cell_type": "code",
   "execution_count": null,
   "id": "5a2f84c7",
   "metadata": {},
   "outputs": [],
   "source": []
  }
 ],
 "metadata": {
  "kernelspec": {
   "display_name": "Python 3 (ipykernel)",
   "language": "python",
   "name": "python3"
  },
  "language_info": {
   "codemirror_mode": {
    "name": "ipython",
    "version": 3
   },
   "file_extension": ".py",
   "mimetype": "text/x-python",
   "name": "python",
   "nbconvert_exporter": "python",
   "pygments_lexer": "ipython3",
   "version": "3.10.6"
  }
 },
 "nbformat": 4,
 "nbformat_minor": 5
}
