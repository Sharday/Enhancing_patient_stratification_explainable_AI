{
 "cells": [
  {
   "cell_type": "markdown",
   "id": "b866c9dc",
   "metadata": {},
   "source": [
    "## SHAP evaluation"
   ]
  },
  {
   "cell_type": "code",
   "execution_count": 25,
   "id": "18ece6d5",
   "metadata": {},
   "outputs": [],
   "source": [
    "# from importlib import reload\n",
    "import sys\n",
    "sys.stdout = sys.__stdout__\n",
    "# stdout = sys.stdout\n",
    "# reload(sys)\n",
    "# # sys.setdefaultencoding('utf-8')\n",
    "# sys.stdout = stdout\n",
    "\n",
    "# sys.stdout = open(1, 'w')\n",
    "# import sys\n",
    "# stdout = sys.stdout\n",
    "\n",
    "import gene_shap_minimal"
   ]
  },
  {
   "cell_type": "code",
   "execution_count": 27,
   "id": "760ca5f3",
   "metadata": {},
   "outputs": [
    {
     "data": {
      "text/plain": [
       "<explainers._kernel.Kernel at 0x219e0afb760>"
      ]
     },
     "execution_count": 27,
     "metadata": {},
     "output_type": "execute_result"
    }
   ],
   "source": [
    "import logging\n",
    "logging.basicConfig(level=logging.INFO)\n",
    "\n",
    "# Import the module containing the print statements\n",
    "import gene_shap_minimal\n",
    "\n",
    "# Create a logger for the module\n",
    "logger = logging.getLogger('gene_shap_minimal')\n",
    "logger.setLevel(logging.INFO)\n",
    "\n",
    "# Create a stream handler to write to the console\n",
    "handler = logging.StreamHandler(sys.stdout)\n",
    "handler.setLevel(logging.INFO)\n",
    "\n",
    "# Add the handler to the logger\n",
    "logger.addHandler(handler)\n",
    "\n",
    "# Call functions in the module that contain print statements\n",
    "gene_shap_minimal.objects.get_explainer(None, None, None)"
   ]
  },
  {
   "cell_type": "code",
   "execution_count": 24,
   "id": "f3fd82d4",
   "metadata": {},
   "outputs": [
    {
     "data": {
      "text/plain": [
       "<_io.TextIOWrapper name='<stdout>' mode='w' encoding='utf-8'>"
      ]
     },
     "execution_count": 24,
     "metadata": {},
     "output_type": "execute_result"
    }
   ],
   "source": [
    "sys.stdout"
   ]
  },
  {
   "cell_type": "code",
   "execution_count": 2,
   "id": "6a8fdfed",
   "metadata": {},
   "outputs": [],
   "source": [
    "# import shap\n",
    "import numpy as np"
   ]
  },
  {
   "cell_type": "code",
   "execution_count": 3,
   "id": "65f73286",
   "metadata": {},
   "outputs": [],
   "source": [
    "# explainer = shap.KernelExplainer(model=compound_model.predict, data=x_train_scaled, link=\"logit\")"
   ]
  },
  {
   "cell_type": "code",
   "execution_count": 4,
   "id": "cd2bde3e",
   "metadata": {},
   "outputs": [],
   "source": [
    "# import sys\n",
    "sys.path.insert(0,r\"C:\\Users\\shard\\OneDrive - University of Cambridge\\MPhil-Sonny\\research project\\exploring dataset\\gene_shap_minimal\")"
   ]
  },
  {
   "cell_type": "code",
   "execution_count": 5,
   "id": "8bdae39c",
   "metadata": {},
   "outputs": [
    {
     "data": {
      "text/plain": [
       "['C:\\\\Users\\\\shard\\\\OneDrive - University of Cambridge\\\\MPhil-Sonny\\\\research project\\\\exploring dataset\\\\gene_shap_minimal',\n",
       " 'C:\\\\Users\\\\shard\\\\OneDrive - University of Cambridge\\\\MPhil-Sonny\\\\research project\\\\patient_stratification',\n",
       " 'C:\\\\Program Files (x86)\\\\Eclipse\\\\Sumo\\\\tools',\n",
       " 'C:\\\\Users\\\\shard\\\\anaconda3\\\\envs\\\\mvp4\\\\python310.zip',\n",
       " 'C:\\\\Users\\\\shard\\\\anaconda3\\\\envs\\\\mvp4\\\\DLLs',\n",
       " 'C:\\\\Users\\\\shard\\\\anaconda3\\\\envs\\\\mvp4\\\\lib',\n",
       " 'C:\\\\Users\\\\shard\\\\anaconda3\\\\envs\\\\mvp4',\n",
       " '',\n",
       " 'C:\\\\Users\\\\shard\\\\anaconda3\\\\envs\\\\mvp4\\\\lib\\\\site-packages',\n",
       " 'C:\\\\Users\\\\shard\\\\anaconda3\\\\envs\\\\mvp4\\\\lib\\\\site-packages\\\\win32',\n",
       " 'C:\\\\Users\\\\shard\\\\anaconda3\\\\envs\\\\mvp4\\\\lib\\\\site-packages\\\\win32\\\\lib',\n",
       " 'C:\\\\Users\\\\shard\\\\anaconda3\\\\envs\\\\mvp4\\\\lib\\\\site-packages\\\\Pythonwin']"
      ]
     },
     "execution_count": 5,
     "metadata": {},
     "output_type": "execute_result"
    }
   ],
   "source": [
    "\n",
    "sys.path"
   ]
  },
  {
   "cell_type": "code",
   "execution_count": 6,
   "id": "57d177eb",
   "metadata": {},
   "outputs": [],
   "source": [
    "# some functions that mess up sys.stdout\n",
    "\n"
   ]
  },
  {
   "cell_type": "code",
   "execution_count": 7,
   "id": "ca042e42",
   "metadata": {},
   "outputs": [
    {
     "name": "stderr",
     "output_type": "stream",
     "text": [
      "C:\\Users\\shard\\anaconda3\\envs\\mvp4\\lib\\site-packages\\tqdm\\auto.py:22: TqdmWarning: IProgress not found. Please update jupyter and ipywidgets. See https://ipywidgets.readthedocs.io/en/stable/user_install.html\n",
      "  from .autonotebook import tqdm as notebook_tqdm\n"
     ]
    }
   ],
   "source": [
    "from gene_shap_minimal import objects"
   ]
  },
  {
   "cell_type": "code",
   "execution_count": 8,
   "id": "940adedc",
   "metadata": {
    "scrolled": true
   },
   "outputs": [],
   "source": [
    "# explainer = objects.get_explainer(model=compound_model.predict, data=x_train_scaled[:2], link=\"logit\")"
   ]
  },
  {
   "cell_type": "code",
   "execution_count": 9,
   "id": "66d234db",
   "metadata": {},
   "outputs": [
    {
     "data": {
      "text/plain": [
       "<explainers._kernel.Kernel at 0x219e07d0f40>"
      ]
     },
     "execution_count": 9,
     "metadata": {},
     "output_type": "execute_result"
    }
   ],
   "source": [
    "objects.get_explainer(None, None, None)"
   ]
  },
  {
   "cell_type": "code",
   "execution_count": 10,
   "id": "0a87e632",
   "metadata": {},
   "outputs": [],
   "source": [
    "explainer = objects.get_explainer(None, None, None)"
   ]
  },
  {
   "cell_type": "code",
   "execution_count": 11,
   "id": "0f1f05d5",
   "metadata": {},
   "outputs": [
    {
     "data": {
      "text/plain": [
       "explainers._kernel.Kernel"
      ]
     },
     "execution_count": 11,
     "metadata": {},
     "output_type": "execute_result"
    }
   ],
   "source": [
    "type(explainer)"
   ]
  },
  {
   "cell_type": "code",
   "execution_count": 12,
   "id": "410a946a",
   "metadata": {},
   "outputs": [],
   "source": [
    "# import geneSHAP"
   ]
  },
  {
   "cell_type": "code",
   "execution_count": 13,
   "id": "59d8bafd",
   "metadata": {},
   "outputs": [],
   "source": [
    "# explainer = shap.KernelExplainer(model=compound_model.predict, data=x_train_scaled, link=\"logit\")"
   ]
  },
  {
   "cell_type": "code",
   "execution_count": 14,
   "id": "ebdcac88",
   "metadata": {},
   "outputs": [],
   "source": [
    "x = np.ones((16, 16))"
   ]
  },
  {
   "cell_type": "code",
   "execution_count": 15,
   "id": "96f5ce58",
   "metadata": {},
   "outputs": [],
   "source": [
    "sys.stdout = sys.__stdout__"
   ]
  },
  {
   "cell_type": "code",
   "execution_count": 16,
   "id": "cb727ec3",
   "metadata": {},
   "outputs": [],
   "source": [
    "e = explainer.explain(np.ones((1, 4)))"
   ]
  },
  {
   "cell_type": "code",
   "execution_count": 17,
   "id": "24d5b983",
   "metadata": {},
   "outputs": [],
   "source": [
    "# sys.stdout = stdout"
   ]
  },
  {
   "cell_type": "code",
   "execution_count": 18,
   "id": "d2611e83",
   "metadata": {
    "scrolled": false
   },
   "outputs": [
    {
     "name": "stderr",
     "output_type": "stream",
     "text": [
      "100%|████████████████████████████████████████████████████████████████████████████████| 16/16 [00:00<00:00, 4001.01it/s]\n"
     ]
    }
   ],
   "source": [
    "shap_values = explainer.shap_values(X=x)"
   ]
  },
  {
   "cell_type": "code",
   "execution_count": 19,
   "id": "56cc1e53",
   "metadata": {},
   "outputs": [
    {
     "data": {
      "text/plain": [
       "array([[0., 0., 0., 0.],\n",
       "       [0., 0., 0., 0.],\n",
       "       [0., 0., 0., 0.],\n",
       "       [0., 0., 0., 0.],\n",
       "       [0., 0., 0., 0.],\n",
       "       [0., 0., 0., 0.],\n",
       "       [0., 0., 0., 0.],\n",
       "       [0., 0., 0., 0.],\n",
       "       [0., 0., 0., 0.],\n",
       "       [0., 0., 0., 0.],\n",
       "       [0., 0., 0., 0.],\n",
       "       [0., 0., 0., 0.],\n",
       "       [0., 0., 0., 0.],\n",
       "       [0., 0., 0., 0.],\n",
       "       [0., 0., 0., 0.],\n",
       "       [0., 0., 0., 0.]])"
      ]
     },
     "execution_count": 19,
     "metadata": {},
     "output_type": "execute_result"
    }
   ],
   "source": [
    "shap_values"
   ]
  },
  {
   "cell_type": "code",
   "execution_count": 20,
   "id": "4ccbe970",
   "metadata": {},
   "outputs": [],
   "source": [
    "# shap_values.shape"
   ]
  },
  {
   "cell_type": "code",
   "execution_count": 21,
   "id": "a09ce288",
   "metadata": {},
   "outputs": [],
   "source": [
    "# Prints the SHAP feature importances\n",
    "# print_feature_importances_shap_values(shap_values, X.columns)"
   ]
  },
  {
   "cell_type": "code",
   "execution_count": 22,
   "id": "343dd65a",
   "metadata": {},
   "outputs": [],
   "source": [
    "# gene_shap.plots.bar(shap_values)"
   ]
  },
  {
   "cell_type": "code",
   "execution_count": 23,
   "id": "1cfe7b50",
   "metadata": {},
   "outputs": [],
   "source": [
    "# Plots the beeswarm\n",
    "# gene_shap.plots.beeswarm(shap_values)"
   ]
  },
  {
   "cell_type": "code",
   "execution_count": null,
   "id": "5a2f84c7",
   "metadata": {},
   "outputs": [],
   "source": []
  }
 ],
 "metadata": {
  "kernelspec": {
   "display_name": "Python 3 (ipykernel)",
   "language": "python",
   "name": "python3"
  },
  "language_info": {
   "codemirror_mode": {
    "name": "ipython",
    "version": 3
   },
   "file_extension": ".py",
   "mimetype": "text/x-python",
   "name": "python",
   "nbconvert_exporter": "python",
   "pygments_lexer": "ipython3",
   "version": "3.10.9"
  }
 },
 "nbformat": 4,
 "nbformat_minor": 5
}
