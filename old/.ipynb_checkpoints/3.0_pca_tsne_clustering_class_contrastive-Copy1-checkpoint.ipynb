{
 "cells": [
  {
   "cell_type": "code",
   "execution_count": 1,
   "id": "b079f8ef",
   "metadata": {},
   "outputs": [],
   "source": [
    "import math\n",
    "import pandas as pd\n",
    "import tensorflow as tf\n",
    "# import keras_tuner.tuners as kt\n",
    "import matplotlib.pyplot as plt\n",
    "import keras\n",
    "from tensorflow.keras import Model\n",
    "from tensorflow.keras import Sequential\n",
    "from sklearn.preprocessing import StandardScaler\n",
    "from tensorflow.keras.layers import Dense, Dropout\n",
    "from sklearn.model_selection import train_test_split\n",
    "from tensorflow.keras.losses import MeanSquaredLogarithmicError\n",
    "import numpy as np\n",
    "import pickle\n",
    "np.random.seed(0)\n",
    "from tensorflow.keras import Input\n",
    "from tensorflow.keras.layers import Conv1D, Conv2D, LeakyReLU, MaxPool1D, AveragePooling1D, UpSampling1D, Flatten, Dense, Reshape, BatchNormalization\n",
    "# https://towardsdatascience.com/improve-your-model-performance-with-auto-encoders-d4ee543b4154\n",
    "from tensorflow.keras import initializers\n",
    "from sklearn.decomposition import PCA"
   ]
  },
  {
   "cell_type": "code",
   "execution_count": 2,
   "id": "709f0fd4",
   "metadata": {},
   "outputs": [
    {
     "ename": "FileNotFoundError",
     "evalue": "[Errno 2] No such file or directory: '260_sample_test_scaled.csv'",
     "output_type": "error",
     "traceback": [
      "\u001b[1;31m---------------------------------------------------------------------------\u001b[0m",
      "\u001b[1;31mFileNotFoundError\u001b[0m                         Traceback (most recent call last)",
      "Cell \u001b[1;32mIn[2], line 1\u001b[0m\n\u001b[1;32m----> 1\u001b[0m x_test_scaled \u001b[38;5;241m=\u001b[39m \u001b[43mpd\u001b[49m\u001b[38;5;241;43m.\u001b[39;49m\u001b[43mread_csv\u001b[49m\u001b[43m(\u001b[49m\u001b[38;5;124;43m'\u001b[39;49m\u001b[38;5;124;43m260_sample_test_scaled.csv\u001b[39;49m\u001b[38;5;124;43m'\u001b[39;49m\u001b[43m)\u001b[49m\u001b[38;5;241m.\u001b[39mset_index(\u001b[38;5;124m\"\u001b[39m\u001b[38;5;124mPatient_ID\u001b[39m\u001b[38;5;124m\"\u001b[39m)\n\u001b[0;32m      2\u001b[0m \u001b[38;5;66;03m# x_test_scaled = x_test_scaled.set_index(\"Patient_ID\")\u001b[39;00m\n\u001b[0;32m      3\u001b[0m x_test_scaled\n",
      "File \u001b[1;32m~\\anaconda3\\envs\\mvp4\\lib\\site-packages\\pandas\\util\\_decorators.py:211\u001b[0m, in \u001b[0;36mdeprecate_kwarg.<locals>._deprecate_kwarg.<locals>.wrapper\u001b[1;34m(*args, **kwargs)\u001b[0m\n\u001b[0;32m    209\u001b[0m     \u001b[38;5;28;01melse\u001b[39;00m:\n\u001b[0;32m    210\u001b[0m         kwargs[new_arg_name] \u001b[38;5;241m=\u001b[39m new_arg_value\n\u001b[1;32m--> 211\u001b[0m \u001b[38;5;28;01mreturn\u001b[39;00m func(\u001b[38;5;241m*\u001b[39margs, \u001b[38;5;241m*\u001b[39m\u001b[38;5;241m*\u001b[39mkwargs)\n",
      "File \u001b[1;32m~\\anaconda3\\envs\\mvp4\\lib\\site-packages\\pandas\\util\\_decorators.py:331\u001b[0m, in \u001b[0;36mdeprecate_nonkeyword_arguments.<locals>.decorate.<locals>.wrapper\u001b[1;34m(*args, **kwargs)\u001b[0m\n\u001b[0;32m    325\u001b[0m \u001b[38;5;28;01mif\u001b[39;00m \u001b[38;5;28mlen\u001b[39m(args) \u001b[38;5;241m>\u001b[39m num_allow_args:\n\u001b[0;32m    326\u001b[0m     warnings\u001b[38;5;241m.\u001b[39mwarn(\n\u001b[0;32m    327\u001b[0m         msg\u001b[38;5;241m.\u001b[39mformat(arguments\u001b[38;5;241m=\u001b[39m_format_argument_list(allow_args)),\n\u001b[0;32m    328\u001b[0m         \u001b[38;5;167;01mFutureWarning\u001b[39;00m,\n\u001b[0;32m    329\u001b[0m         stacklevel\u001b[38;5;241m=\u001b[39mfind_stack_level(),\n\u001b[0;32m    330\u001b[0m     )\n\u001b[1;32m--> 331\u001b[0m \u001b[38;5;28;01mreturn\u001b[39;00m func(\u001b[38;5;241m*\u001b[39margs, \u001b[38;5;241m*\u001b[39m\u001b[38;5;241m*\u001b[39mkwargs)\n",
      "File \u001b[1;32m~\\anaconda3\\envs\\mvp4\\lib\\site-packages\\pandas\\io\\parsers\\readers.py:950\u001b[0m, in \u001b[0;36mread_csv\u001b[1;34m(filepath_or_buffer, sep, delimiter, header, names, index_col, usecols, squeeze, prefix, mangle_dupe_cols, dtype, engine, converters, true_values, false_values, skipinitialspace, skiprows, skipfooter, nrows, na_values, keep_default_na, na_filter, verbose, skip_blank_lines, parse_dates, infer_datetime_format, keep_date_col, date_parser, dayfirst, cache_dates, iterator, chunksize, compression, thousands, decimal, lineterminator, quotechar, quoting, doublequote, escapechar, comment, encoding, encoding_errors, dialect, error_bad_lines, warn_bad_lines, on_bad_lines, delim_whitespace, low_memory, memory_map, float_precision, storage_options)\u001b[0m\n\u001b[0;32m    935\u001b[0m kwds_defaults \u001b[38;5;241m=\u001b[39m _refine_defaults_read(\n\u001b[0;32m    936\u001b[0m     dialect,\n\u001b[0;32m    937\u001b[0m     delimiter,\n\u001b[1;32m   (...)\u001b[0m\n\u001b[0;32m    946\u001b[0m     defaults\u001b[38;5;241m=\u001b[39m{\u001b[38;5;124m\"\u001b[39m\u001b[38;5;124mdelimiter\u001b[39m\u001b[38;5;124m\"\u001b[39m: \u001b[38;5;124m\"\u001b[39m\u001b[38;5;124m,\u001b[39m\u001b[38;5;124m\"\u001b[39m},\n\u001b[0;32m    947\u001b[0m )\n\u001b[0;32m    948\u001b[0m kwds\u001b[38;5;241m.\u001b[39mupdate(kwds_defaults)\n\u001b[1;32m--> 950\u001b[0m \u001b[38;5;28;01mreturn\u001b[39;00m \u001b[43m_read\u001b[49m\u001b[43m(\u001b[49m\u001b[43mfilepath_or_buffer\u001b[49m\u001b[43m,\u001b[49m\u001b[43m \u001b[49m\u001b[43mkwds\u001b[49m\u001b[43m)\u001b[49m\n",
      "File \u001b[1;32m~\\anaconda3\\envs\\mvp4\\lib\\site-packages\\pandas\\io\\parsers\\readers.py:605\u001b[0m, in \u001b[0;36m_read\u001b[1;34m(filepath_or_buffer, kwds)\u001b[0m\n\u001b[0;32m    602\u001b[0m _validate_names(kwds\u001b[38;5;241m.\u001b[39mget(\u001b[38;5;124m\"\u001b[39m\u001b[38;5;124mnames\u001b[39m\u001b[38;5;124m\"\u001b[39m, \u001b[38;5;28;01mNone\u001b[39;00m))\n\u001b[0;32m    604\u001b[0m \u001b[38;5;66;03m# Create the parser.\u001b[39;00m\n\u001b[1;32m--> 605\u001b[0m parser \u001b[38;5;241m=\u001b[39m TextFileReader(filepath_or_buffer, \u001b[38;5;241m*\u001b[39m\u001b[38;5;241m*\u001b[39mkwds)\n\u001b[0;32m    607\u001b[0m \u001b[38;5;28;01mif\u001b[39;00m chunksize \u001b[38;5;129;01mor\u001b[39;00m iterator:\n\u001b[0;32m    608\u001b[0m     \u001b[38;5;28;01mreturn\u001b[39;00m parser\n",
      "File \u001b[1;32m~\\anaconda3\\envs\\mvp4\\lib\\site-packages\\pandas\\io\\parsers\\readers.py:1442\u001b[0m, in \u001b[0;36mTextFileReader.__init__\u001b[1;34m(self, f, engine, **kwds)\u001b[0m\n\u001b[0;32m   1439\u001b[0m     \u001b[38;5;28mself\u001b[39m\u001b[38;5;241m.\u001b[39moptions[\u001b[38;5;124m\"\u001b[39m\u001b[38;5;124mhas_index_names\u001b[39m\u001b[38;5;124m\"\u001b[39m] \u001b[38;5;241m=\u001b[39m kwds[\u001b[38;5;124m\"\u001b[39m\u001b[38;5;124mhas_index_names\u001b[39m\u001b[38;5;124m\"\u001b[39m]\n\u001b[0;32m   1441\u001b[0m \u001b[38;5;28mself\u001b[39m\u001b[38;5;241m.\u001b[39mhandles: IOHandles \u001b[38;5;241m|\u001b[39m \u001b[38;5;28;01mNone\u001b[39;00m \u001b[38;5;241m=\u001b[39m \u001b[38;5;28;01mNone\u001b[39;00m\n\u001b[1;32m-> 1442\u001b[0m \u001b[38;5;28mself\u001b[39m\u001b[38;5;241m.\u001b[39m_engine \u001b[38;5;241m=\u001b[39m \u001b[38;5;28;43mself\u001b[39;49m\u001b[38;5;241;43m.\u001b[39;49m\u001b[43m_make_engine\u001b[49m\u001b[43m(\u001b[49m\u001b[43mf\u001b[49m\u001b[43m,\u001b[49m\u001b[43m \u001b[49m\u001b[38;5;28;43mself\u001b[39;49m\u001b[38;5;241;43m.\u001b[39;49m\u001b[43mengine\u001b[49m\u001b[43m)\u001b[49m\n",
      "File \u001b[1;32m~\\anaconda3\\envs\\mvp4\\lib\\site-packages\\pandas\\io\\parsers\\readers.py:1735\u001b[0m, in \u001b[0;36mTextFileReader._make_engine\u001b[1;34m(self, f, engine)\u001b[0m\n\u001b[0;32m   1733\u001b[0m     \u001b[38;5;28;01mif\u001b[39;00m \u001b[38;5;124m\"\u001b[39m\u001b[38;5;124mb\u001b[39m\u001b[38;5;124m\"\u001b[39m \u001b[38;5;129;01mnot\u001b[39;00m \u001b[38;5;129;01min\u001b[39;00m mode:\n\u001b[0;32m   1734\u001b[0m         mode \u001b[38;5;241m+\u001b[39m\u001b[38;5;241m=\u001b[39m \u001b[38;5;124m\"\u001b[39m\u001b[38;5;124mb\u001b[39m\u001b[38;5;124m\"\u001b[39m\n\u001b[1;32m-> 1735\u001b[0m \u001b[38;5;28mself\u001b[39m\u001b[38;5;241m.\u001b[39mhandles \u001b[38;5;241m=\u001b[39m \u001b[43mget_handle\u001b[49m\u001b[43m(\u001b[49m\n\u001b[0;32m   1736\u001b[0m \u001b[43m    \u001b[49m\u001b[43mf\u001b[49m\u001b[43m,\u001b[49m\n\u001b[0;32m   1737\u001b[0m \u001b[43m    \u001b[49m\u001b[43mmode\u001b[49m\u001b[43m,\u001b[49m\n\u001b[0;32m   1738\u001b[0m \u001b[43m    \u001b[49m\u001b[43mencoding\u001b[49m\u001b[38;5;241;43m=\u001b[39;49m\u001b[38;5;28;43mself\u001b[39;49m\u001b[38;5;241;43m.\u001b[39;49m\u001b[43moptions\u001b[49m\u001b[38;5;241;43m.\u001b[39;49m\u001b[43mget\u001b[49m\u001b[43m(\u001b[49m\u001b[38;5;124;43m\"\u001b[39;49m\u001b[38;5;124;43mencoding\u001b[39;49m\u001b[38;5;124;43m\"\u001b[39;49m\u001b[43m,\u001b[49m\u001b[43m \u001b[49m\u001b[38;5;28;43;01mNone\u001b[39;49;00m\u001b[43m)\u001b[49m\u001b[43m,\u001b[49m\n\u001b[0;32m   1739\u001b[0m \u001b[43m    \u001b[49m\u001b[43mcompression\u001b[49m\u001b[38;5;241;43m=\u001b[39;49m\u001b[38;5;28;43mself\u001b[39;49m\u001b[38;5;241;43m.\u001b[39;49m\u001b[43moptions\u001b[49m\u001b[38;5;241;43m.\u001b[39;49m\u001b[43mget\u001b[49m\u001b[43m(\u001b[49m\u001b[38;5;124;43m\"\u001b[39;49m\u001b[38;5;124;43mcompression\u001b[39;49m\u001b[38;5;124;43m\"\u001b[39;49m\u001b[43m,\u001b[49m\u001b[43m \u001b[49m\u001b[38;5;28;43;01mNone\u001b[39;49;00m\u001b[43m)\u001b[49m\u001b[43m,\u001b[49m\n\u001b[0;32m   1740\u001b[0m \u001b[43m    \u001b[49m\u001b[43mmemory_map\u001b[49m\u001b[38;5;241;43m=\u001b[39;49m\u001b[38;5;28;43mself\u001b[39;49m\u001b[38;5;241;43m.\u001b[39;49m\u001b[43moptions\u001b[49m\u001b[38;5;241;43m.\u001b[39;49m\u001b[43mget\u001b[49m\u001b[43m(\u001b[49m\u001b[38;5;124;43m\"\u001b[39;49m\u001b[38;5;124;43mmemory_map\u001b[39;49m\u001b[38;5;124;43m\"\u001b[39;49m\u001b[43m,\u001b[49m\u001b[43m \u001b[49m\u001b[38;5;28;43;01mFalse\u001b[39;49;00m\u001b[43m)\u001b[49m\u001b[43m,\u001b[49m\n\u001b[0;32m   1741\u001b[0m \u001b[43m    \u001b[49m\u001b[43mis_text\u001b[49m\u001b[38;5;241;43m=\u001b[39;49m\u001b[43mis_text\u001b[49m\u001b[43m,\u001b[49m\n\u001b[0;32m   1742\u001b[0m \u001b[43m    \u001b[49m\u001b[43merrors\u001b[49m\u001b[38;5;241;43m=\u001b[39;49m\u001b[38;5;28;43mself\u001b[39;49m\u001b[38;5;241;43m.\u001b[39;49m\u001b[43moptions\u001b[49m\u001b[38;5;241;43m.\u001b[39;49m\u001b[43mget\u001b[49m\u001b[43m(\u001b[49m\u001b[38;5;124;43m\"\u001b[39;49m\u001b[38;5;124;43mencoding_errors\u001b[39;49m\u001b[38;5;124;43m\"\u001b[39;49m\u001b[43m,\u001b[49m\u001b[43m \u001b[49m\u001b[38;5;124;43m\"\u001b[39;49m\u001b[38;5;124;43mstrict\u001b[39;49m\u001b[38;5;124;43m\"\u001b[39;49m\u001b[43m)\u001b[49m\u001b[43m,\u001b[49m\n\u001b[0;32m   1743\u001b[0m \u001b[43m    \u001b[49m\u001b[43mstorage_options\u001b[49m\u001b[38;5;241;43m=\u001b[39;49m\u001b[38;5;28;43mself\u001b[39;49m\u001b[38;5;241;43m.\u001b[39;49m\u001b[43moptions\u001b[49m\u001b[38;5;241;43m.\u001b[39;49m\u001b[43mget\u001b[49m\u001b[43m(\u001b[49m\u001b[38;5;124;43m\"\u001b[39;49m\u001b[38;5;124;43mstorage_options\u001b[39;49m\u001b[38;5;124;43m\"\u001b[39;49m\u001b[43m,\u001b[49m\u001b[43m \u001b[49m\u001b[38;5;28;43;01mNone\u001b[39;49;00m\u001b[43m)\u001b[49m\u001b[43m,\u001b[49m\n\u001b[0;32m   1744\u001b[0m \u001b[43m\u001b[49m\u001b[43m)\u001b[49m\n\u001b[0;32m   1745\u001b[0m \u001b[38;5;28;01massert\u001b[39;00m \u001b[38;5;28mself\u001b[39m\u001b[38;5;241m.\u001b[39mhandles \u001b[38;5;129;01mis\u001b[39;00m \u001b[38;5;129;01mnot\u001b[39;00m \u001b[38;5;28;01mNone\u001b[39;00m\n\u001b[0;32m   1746\u001b[0m f \u001b[38;5;241m=\u001b[39m \u001b[38;5;28mself\u001b[39m\u001b[38;5;241m.\u001b[39mhandles\u001b[38;5;241m.\u001b[39mhandle\n",
      "File \u001b[1;32m~\\anaconda3\\envs\\mvp4\\lib\\site-packages\\pandas\\io\\common.py:856\u001b[0m, in \u001b[0;36mget_handle\u001b[1;34m(path_or_buf, mode, encoding, compression, memory_map, is_text, errors, storage_options)\u001b[0m\n\u001b[0;32m    851\u001b[0m \u001b[38;5;28;01melif\u001b[39;00m \u001b[38;5;28misinstance\u001b[39m(handle, \u001b[38;5;28mstr\u001b[39m):\n\u001b[0;32m    852\u001b[0m     \u001b[38;5;66;03m# Check whether the filename is to be opened in binary mode.\u001b[39;00m\n\u001b[0;32m    853\u001b[0m     \u001b[38;5;66;03m# Binary mode does not support 'encoding' and 'newline'.\u001b[39;00m\n\u001b[0;32m    854\u001b[0m     \u001b[38;5;28;01mif\u001b[39;00m ioargs\u001b[38;5;241m.\u001b[39mencoding \u001b[38;5;129;01mand\u001b[39;00m \u001b[38;5;124m\"\u001b[39m\u001b[38;5;124mb\u001b[39m\u001b[38;5;124m\"\u001b[39m \u001b[38;5;129;01mnot\u001b[39;00m \u001b[38;5;129;01min\u001b[39;00m ioargs\u001b[38;5;241m.\u001b[39mmode:\n\u001b[0;32m    855\u001b[0m         \u001b[38;5;66;03m# Encoding\u001b[39;00m\n\u001b[1;32m--> 856\u001b[0m         handle \u001b[38;5;241m=\u001b[39m \u001b[38;5;28;43mopen\u001b[39;49m\u001b[43m(\u001b[49m\n\u001b[0;32m    857\u001b[0m \u001b[43m            \u001b[49m\u001b[43mhandle\u001b[49m\u001b[43m,\u001b[49m\n\u001b[0;32m    858\u001b[0m \u001b[43m            \u001b[49m\u001b[43mioargs\u001b[49m\u001b[38;5;241;43m.\u001b[39;49m\u001b[43mmode\u001b[49m\u001b[43m,\u001b[49m\n\u001b[0;32m    859\u001b[0m \u001b[43m            \u001b[49m\u001b[43mencoding\u001b[49m\u001b[38;5;241;43m=\u001b[39;49m\u001b[43mioargs\u001b[49m\u001b[38;5;241;43m.\u001b[39;49m\u001b[43mencoding\u001b[49m\u001b[43m,\u001b[49m\n\u001b[0;32m    860\u001b[0m \u001b[43m            \u001b[49m\u001b[43merrors\u001b[49m\u001b[38;5;241;43m=\u001b[39;49m\u001b[43merrors\u001b[49m\u001b[43m,\u001b[49m\n\u001b[0;32m    861\u001b[0m \u001b[43m            \u001b[49m\u001b[43mnewline\u001b[49m\u001b[38;5;241;43m=\u001b[39;49m\u001b[38;5;124;43m\"\u001b[39;49m\u001b[38;5;124;43m\"\u001b[39;49m\u001b[43m,\u001b[49m\n\u001b[0;32m    862\u001b[0m \u001b[43m        \u001b[49m\u001b[43m)\u001b[49m\n\u001b[0;32m    863\u001b[0m     \u001b[38;5;28;01melse\u001b[39;00m:\n\u001b[0;32m    864\u001b[0m         \u001b[38;5;66;03m# Binary mode\u001b[39;00m\n\u001b[0;32m    865\u001b[0m         handle \u001b[38;5;241m=\u001b[39m \u001b[38;5;28mopen\u001b[39m(handle, ioargs\u001b[38;5;241m.\u001b[39mmode)\n",
      "\u001b[1;31mFileNotFoundError\u001b[0m: [Errno 2] No such file or directory: '260_sample_test_scaled.csv'"
     ]
    }
   ],
   "source": [
    "x_test_scaled = pd.read_csv('260_sample_test_scaled.csv').set_index(\"Patient_ID\")\n",
    "# x_test_scaled = x_test_scaled.set_index(\"Patient_ID\")\n",
    "x_test_scaled"
   ]
  },
  {
   "cell_type": "code",
   "execution_count": null,
   "id": "43d67577",
   "metadata": {},
   "outputs": [],
   "source": [
    "test_set = x_test_scaled.copy()"
   ]
  },
  {
   "cell_type": "code",
   "execution_count": null,
   "id": "22032b0e",
   "metadata": {},
   "outputs": [],
   "source": [
    "# https://www.datacamp.com/tutorial/principal-component-analysis-in-python\n",
    "\n",
    "def encode_pca(dataset):\n",
    "    comp_cols = np.asarray(np.arange(32), dtype=str)\n",
    "    pca_x_test = PCA(n_components=32)\n",
    "    principalComponents_x_test = pca_x_test.fit_transform(dataset)\n",
    "    pca_x_test_ds = pd.DataFrame(data = principalComponents_x_test, \n",
    "                                       columns = comp_cols, index=dataset.index)\n",
    "    return pca_x_test_ds, pca_x_test\n",
    "\n",
    "tsne_dataset, pca_x_test = encode_pca(test_set)"
   ]
  },
  {
   "cell_type": "code",
   "execution_count": null,
   "id": "10b8192e",
   "metadata": {},
   "outputs": [],
   "source": [
    "print('Explained variation per principal component: {}'.format(pca_x_test.explained_variance_ratio_))\n",
    "print(\"Total variance explained:\",np.sum(pca_x_test.explained_variance_ratio_))"
   ]
  },
  {
   "cell_type": "code",
   "execution_count": null,
   "id": "2695c3be",
   "metadata": {},
   "outputs": [],
   "source": []
  },
  {
   "cell_type": "code",
   "execution_count": null,
   "id": "5c8138f6",
   "metadata": {},
   "outputs": [],
   "source": [
    "tsne_dataset"
   ]
  },
  {
   "cell_type": "markdown",
   "id": "c66abae6",
   "metadata": {},
   "source": [
    "## Labels"
   ]
  },
  {
   "cell_type": "code",
   "execution_count": null,
   "id": "d3ca0fd3",
   "metadata": {},
   "outputs": [],
   "source": [
    "patient_ids = np.array(tsne_dataset.index)\n",
    "patient_ids"
   ]
  },
  {
   "cell_type": "code",
   "execution_count": null,
   "id": "187c3a11",
   "metadata": {},
   "outputs": [],
   "source": [
    "def classify(x):\n",
    "    if \"_control\" in x: # control\n",
    "        return 0\n",
    "    elif \"CD_plain\" in x: # Crohn's Disease no deep ulcer\n",
    "#         print(x)\n",
    "        return 1\n",
    "    elif \"CD_deep_ulcer\" in x: # Crohn's Disease deep ulcer\n",
    "#         print(x)\n",
    "        return 2\n",
    "    else:\n",
    "        return 3 # Ulcerative Collitis\n",
    "\n",
    "vec = np.vectorize(classify)\n",
    "\n",
    "disease_labels = vec(patient_ids)\n",
    "disease_labels"
   ]
  },
  {
   "cell_type": "markdown",
   "id": "27b01b3c",
   "metadata": {},
   "source": [
    "## tSNE plots"
   ]
  },
  {
   "cell_type": "code",
   "execution_count": null,
   "id": "4dccef07",
   "metadata": {},
   "outputs": [],
   "source": [
    "import matplotlib.pyplot as plt\n",
    "\n",
    "from matplotlib.ticker import NullFormatter\n",
    "from sklearn import manifold, datasets\n",
    "from time import time"
   ]
  },
  {
   "cell_type": "code",
   "execution_count": null,
   "id": "f11e0b77",
   "metadata": {},
   "outputs": [],
   "source": [
    "no_IBD = disease_labels == 0\n",
    "CD_no_ulcer = disease_labels == 1\n",
    "CD_deep_ulcer = disease_labels == 2\n",
    "UC = disease_labels == 3"
   ]
  },
  {
   "cell_type": "code",
   "execution_count": null,
   "id": "6526e4e7",
   "metadata": {},
   "outputs": [],
   "source": [
    "no_IBD.shape"
   ]
  },
  {
   "cell_type": "code",
   "execution_count": null,
   "id": "cfaec97f",
   "metadata": {},
   "outputs": [],
   "source": [
    "tsne_dataset"
   ]
  },
  {
   "cell_type": "code",
   "execution_count": null,
   "id": "4fc8a523",
   "metadata": {},
   "outputs": [],
   "source": [
    "def plot_tsne(tsne_dataset, selected_patient_idx=None):\n",
    "    n_samples = 78\n",
    "    n_components = 2\n",
    "    print(\"dataset size:\",tsne_dataset.shape)\n",
    "\n",
    "    (fig, subplots) = plt.subplots(2, 4, figsize=(20, 10))\n",
    "    perplexities = [10, 20, 30, 40]\n",
    "\n",
    "    for i, perplexity in enumerate(perplexities):\n",
    "        ax = subplots[0][i]\n",
    "\n",
    "        t0 = time()\n",
    "        tsne = manifold.TSNE(\n",
    "            n_components=n_components,\n",
    "            init=\"random\",\n",
    "            random_state=0,\n",
    "            perplexity=perplexity,\n",
    "            n_iter=750,\n",
    "            method='exact'\n",
    "        )\n",
    "        Y = tsne.fit_transform(tsne_dataset)\n",
    "        t1 = time()\n",
    "        ax.set_title(\"Perplexity=%d\" % perplexity)\n",
    "        ax.scatter(Y[no_IBD, 0], Y[no_IBD, 1], c=\"g\", label=\"Control - no IBD\")\n",
    "        ax.scatter(Y[CD_no_ulcer, 0], Y[CD_no_ulcer, 1], c=\"orange\", label=\"CD, no deep ulcer\")\n",
    "        ax.scatter(Y[CD_deep_ulcer, 0], Y[CD_deep_ulcer, 1], c=\"r\", label=\"CD, deep ulcer\")\n",
    "        \n",
    "        if selected_patient_idx is not None:\n",
    "            ax.scatter(Y[selected_patient_idx, 0], Y[selected_patient_idx, 1], c=\"cyan\", s=500, marker='*',edgecolor='black', linewidth=.7, label=\"Selected patient\")\n",
    "    #     ax.scatter(Y[UC, 0], Y[UC, 1], c=\"brown\", label=\"UC\")\n",
    "\n",
    "        if i == 3:\n",
    "            ax.legend()\n",
    "\n",
    "        ax.axis(\"tight\")\n",
    "\n",
    "    perplexities = [50, 60, 70, 75]\n",
    "    for i, perplexity in enumerate(perplexities):\n",
    "        ax = subplots[1][i]\n",
    "\n",
    "        t0 = time()\n",
    "        tsne = manifold.TSNE(\n",
    "            n_components=n_components,\n",
    "            init=\"random\",\n",
    "            random_state=0,\n",
    "            perplexity=perplexity,\n",
    "            n_iter=1000,\n",
    "            method='exact'\n",
    "        )\n",
    "        Y = tsne.fit_transform(tsne_dataset)\n",
    "        t1 = time()\n",
    "        ax.set_title(\"Perplexity=%d\" % perplexity)\n",
    "        ax.scatter(Y[no_IBD, 0], Y[no_IBD, 1], c=\"g\")\n",
    "        ax.scatter(Y[CD_no_ulcer, 0], Y[CD_no_ulcer, 1], c=\"orange\")\n",
    "        ax.scatter(Y[CD_deep_ulcer, 0], Y[CD_deep_ulcer, 1], c=\"r\")\n",
    "        \n",
    "        if selected_patient_idx is not None:\n",
    "            ax.scatter(Y[selected_patient_idx, 0], Y[selected_patient_idx, 1], c=\"cyan\", s=500, marker='*',edgecolor='black', linewidth=.7, label=\"Selected patient\")\n",
    "    #     ax.scatter(Y[UC, 0], Y[UC, 1], c=\"brown\", label=\"UC\")\n",
    "\n",
    "        ax.axis(\"tight\")\n",
    "\n",
    "plot_tsne(tsne_dataset)"
   ]
  },
  {
   "cell_type": "markdown",
   "id": "b8a4e506",
   "metadata": {},
   "source": [
    "# Class contrastive explainability"
   ]
  },
  {
   "cell_type": "markdown",
   "id": "e50b5276",
   "metadata": {},
   "source": [
    "## Gene expression distributions of test set (post scaling)"
   ]
  },
  {
   "cell_type": "code",
   "execution_count": null,
   "id": "95c30a61",
   "metadata": {},
   "outputs": [],
   "source": [
    "# tsne_dataset"
   ]
  },
  {
   "cell_type": "code",
   "execution_count": null,
   "id": "49fce9e2",
   "metadata": {},
   "outputs": [],
   "source": [
    "hundred_control = x_test_scaled.loc[x_test_scaled.index.str.endswith('_control')]\n",
    "hundred_CD_plain = x_test_scaled.loc[x_test_scaled.index.str.endswith('_CD_plain')]\n",
    "hundred_CD_deep_ulcer = x_test_scaled.loc[x_test_scaled.index.str.endswith('_CD_deep_ulcer')]\n",
    "datasets = [hundred_control, hundred_CD_plain, hundred_CD_deep_ulcer]\n",
    "labels = [\"Control\", \"Crohn's Disease\", \"Crohn's Disease Deep Ulcer\"]\n",
    "colours = [\"green\", \"orange\", \"red\"]"
   ]
  },
  {
   "cell_type": "code",
   "execution_count": null,
   "id": "1c60f005",
   "metadata": {},
   "outputs": [],
   "source": [
    "# import matplotlib.pyplot as plt\n",
    "# import scipy.stats as stats\n",
    "# import math\n",
    "\n",
    "# for gene_symbol in hundred_control.columns:\n",
    "#     for i in range(len(datasets)):\n",
    "#         ds = datasets[i]\n",
    "#         label = labels[i]\n",
    "#         colour = colours[i]\n",
    "#         vals = ds[gene_symbol].values\n",
    "#         gene_stats = ds.describe()\n",
    "#         g_mean = gene_stats.loc[\"mean\", gene_symbol]\n",
    "#         g_std = gene_stats.loc[\"std\", gene_symbol]\n",
    "#         g_min = gene_stats.loc[\"min\", gene_symbol]\n",
    "#         g_max = gene_stats.loc[\"max\", gene_symbol]\n",
    "\n",
    "#         mu = g_mean\n",
    "#         variance = g_std**2\n",
    "#         sigma = math.sqrt(variance)\n",
    "#         x = np.linspace(g_min, g_max, 100)\n",
    "#         plt.plot(x, stats.norm.pdf(x, mu, sigma), label=label, c=colour)\n",
    "\n",
    "#         if i<4:\n",
    "#             plt.hist(vals, bins=25, density=True, alpha=0.6, color=colour)\n",
    "#     plt.title(gene_symbol+\" Distributions\")\n",
    "#     plt.xlabel('Gene expression (FPKM)')\n",
    "#     plt.ylabel('Probability density')\n",
    "#     plt.legend()\n",
    "#     plt.show()"
   ]
  },
  {
   "cell_type": "markdown",
   "id": "871c3d33",
   "metadata": {},
   "source": [
    "## CD Deep Ulcer patient"
   ]
  },
  {
   "cell_type": "code",
   "execution_count": null,
   "id": "97de3b41",
   "metadata": {},
   "outputs": [],
   "source": [
    "test_set = x_test_scaled.copy()\n",
    "test_set"
   ]
  },
  {
   "cell_type": "code",
   "execution_count": null,
   "id": "666c0b95",
   "metadata": {},
   "outputs": [],
   "source": [
    "# pid = '212_CD_deep_ulcer'\n",
    "def get_patient(symptom, frac=2):\n",
    "    poss_patients = test_set.loc[test_set.index.str.endswith(symptom)]\n",
    "    print(len(poss_patients),\"possible\")\n",
    "    selected_patient = poss_patients.iloc[[len(poss_patients)//frac]]\n",
    "    pid = selected_patient.index[0]\n",
    "    return selected_patient, pid\n",
    "\n",
    "selected_patient, pid = get_patient('CD_deep_ulcer')\n",
    "selected_patient"
   ]
  },
  {
   "cell_type": "code",
   "execution_count": null,
   "id": "9913fafb",
   "metadata": {},
   "outputs": [],
   "source": [
    "pid"
   ]
  },
  {
   "cell_type": "code",
   "execution_count": null,
   "id": "08069bc0",
   "metadata": {},
   "outputs": [],
   "source": [
    "ind = tsne_dataset.index\n",
    "selected_patient_idx = ind.get_loc(pid)\n"
   ]
  },
  {
   "cell_type": "code",
   "execution_count": null,
   "id": "7eacfccd",
   "metadata": {},
   "outputs": [],
   "source": [
    "\n",
    "\n",
    "plot_tsne(tsne_dataset, selected_patient_idx)"
   ]
  },
  {
   "cell_type": "code",
   "execution_count": null,
   "id": "054fc906",
   "metadata": {},
   "outputs": [],
   "source": []
  },
  {
   "cell_type": "markdown",
   "id": "67bafe8e",
   "metadata": {},
   "source": [
    "### Modify gene expressions for the selected patient - 60 genes"
   ]
  },
  {
   "cell_type": "code",
   "execution_count": null,
   "id": "6d3bacfa",
   "metadata": {},
   "outputs": [],
   "source": []
  },
  {
   "cell_type": "code",
   "execution_count": null,
   "id": "1d9f4d1c",
   "metadata": {},
   "outputs": [],
   "source": [
    "test_set = x_test_scaled.copy()\n",
    "\n",
    "selected_patient = test_set.loc[test_set.index.str.startswith(pid)]\n",
    "selected_patient\n",
    "\n",
    "# selected_patient, pid = get_patient('CD_deep_ulcer')\n",
    "# selected_patient"
   ]
  },
  {
   "cell_type": "code",
   "execution_count": null,
   "id": "acc2b2b1",
   "metadata": {},
   "outputs": [],
   "source": [
    "with open(\"most_diff_genes_60\", \"rb\") as fp:   # Unpickling\n",
    "    most_diff_genes_60 = pickle.load(fp)"
   ]
  },
  {
   "cell_type": "code",
   "execution_count": null,
   "id": "8b13e6ec",
   "metadata": {},
   "outputs": [],
   "source": [
    "def modify_expression(pid, most_diff_genes, dataset):\n",
    "    print(\"dataset size (should be test):\",dataset.shape)\n",
    "    controls = dataset.loc[dataset.index.str.endswith('_control')]\n",
    "#     plains = x_test_scaled.loc[x_test_scaled.index.str.endswith('_CD_plain')]\n",
    "#     ulcers = x_test_scaled.loc[x_test_scaled.index.str.endswith('_CD_deep_ulcer')]\n",
    "    \n",
    "    for gene_symbol in most_diff_genes:\n",
    "        new_val = controls.describe().loc[\"mean\", gene_symbol]\n",
    "        dataset.loc[dataset.index.str.startswith(pid), gene_symbol] = new_val\n",
    "    return dataset\n",
    "\n"
   ]
  },
  {
   "cell_type": "code",
   "execution_count": null,
   "id": "3ab877d3",
   "metadata": {},
   "outputs": [],
   "source": [
    "test_set.columns"
   ]
  },
  {
   "cell_type": "code",
   "execution_count": null,
   "id": "f5f7a5eb",
   "metadata": {},
   "outputs": [],
   "source": [
    "test_set = modify_expression(pid, most_diff_genes_60, test_set)\n",
    "test_set.loc[test_set.index.str.startswith(pid)]"
   ]
  },
  {
   "cell_type": "markdown",
   "id": "4b5e8f16",
   "metadata": {},
   "source": [
    "## Re-encoding the dataset"
   ]
  },
  {
   "cell_type": "code",
   "execution_count": null,
   "id": "89cfa424",
   "metadata": {},
   "outputs": [],
   "source": [
    "tsne_dataset, pca_x_test = encode_pca(test_set)\n",
    "tsne_dataset"
   ]
  },
  {
   "cell_type": "markdown",
   "id": "ccfe8daa",
   "metadata": {},
   "source": [
    "## Replot tSNE"
   ]
  },
  {
   "cell_type": "code",
   "execution_count": null,
   "id": "c9b254de",
   "metadata": {},
   "outputs": [],
   "source": [
    "\n",
    "\n",
    "plot_tsne(tsne_dataset, selected_patient_idx)"
   ]
  },
  {
   "cell_type": "markdown",
   "id": "74ae68d7",
   "metadata": {},
   "source": [
    "### Modify gene expressions for the selected patient - 120 genes"
   ]
  },
  {
   "cell_type": "code",
   "execution_count": null,
   "id": "a7132219",
   "metadata": {},
   "outputs": [],
   "source": [
    "test_set = x_test_scaled.copy()\n",
    "\n",
    "selected_patient = test_set.loc[test_set.index.str.startswith(pid)]\n",
    "selected_patient"
   ]
  },
  {
   "cell_type": "code",
   "execution_count": null,
   "id": "e61c2852",
   "metadata": {},
   "outputs": [],
   "source": [
    "\n",
    "# selected_patient = tsne_dataset.loc[tsne_dataset.index.str.startswith(pid)]\n",
    "# selected_patient"
   ]
  },
  {
   "cell_type": "code",
   "execution_count": null,
   "id": "a5acf109",
   "metadata": {},
   "outputs": [],
   "source": [
    "with open(\"most_diff_genes_115\", \"rb\") as fp:   # Unpickling\n",
    "    most_diff_genes = pickle.load(fp)\n",
    "\n",
    "most_diff_genes"
   ]
  },
  {
   "cell_type": "code",
   "execution_count": null,
   "id": "796bbe7b",
   "metadata": {},
   "outputs": [],
   "source": [
    "test_set = modify_expression(pid, most_diff_genes, test_set)\n",
    "test_set.loc[test_set.index.str.startswith(pid)]"
   ]
  },
  {
   "cell_type": "markdown",
   "id": "9bdfb478",
   "metadata": {},
   "source": [
    "## Re-encoding the dataset"
   ]
  },
  {
   "cell_type": "code",
   "execution_count": null,
   "id": "f171a7ba",
   "metadata": {},
   "outputs": [],
   "source": [
    "tsne_dataset, pca_x_test = encode_pca(test_set)\n",
    "tsne_dataset"
   ]
  },
  {
   "cell_type": "markdown",
   "id": "c04a37dd",
   "metadata": {},
   "source": [
    "## Replot tSNE"
   ]
  },
  {
   "cell_type": "code",
   "execution_count": null,
   "id": "cee1149a",
   "metadata": {},
   "outputs": [],
   "source": [
    "\n",
    "\n",
    "plot_tsne(tsne_dataset, selected_patient_idx)"
   ]
  },
  {
   "cell_type": "markdown",
   "id": "da60cc42",
   "metadata": {},
   "source": [
    "Patient moves into the control cluster"
   ]
  },
  {
   "cell_type": "markdown",
   "id": "b5400689",
   "metadata": {},
   "source": [
    "## CD No Deep Ulcer patient"
   ]
  },
  {
   "cell_type": "code",
   "execution_count": null,
   "id": "89672a7a",
   "metadata": {},
   "outputs": [],
   "source": [
    "test_set = x_test_scaled.copy()\n",
    "test_set"
   ]
  },
  {
   "cell_type": "code",
   "execution_count": null,
   "id": "d4e5d134",
   "metadata": {},
   "outputs": [],
   "source": [
    "\n",
    "\n",
    "selected_patient, pid = get_patient('CD_plain', 6)\n",
    "selected_patient"
   ]
  },
  {
   "cell_type": "code",
   "execution_count": null,
   "id": "f99ddcdc",
   "metadata": {},
   "outputs": [],
   "source": [
    "pid"
   ]
  },
  {
   "cell_type": "code",
   "execution_count": null,
   "id": "3776b0e9",
   "metadata": {},
   "outputs": [],
   "source": [
    "ind = tsne_dataset.index\n",
    "selected_patient_idx = ind.get_loc(pid)\n"
   ]
  },
  {
   "cell_type": "code",
   "execution_count": null,
   "id": "2279cf09",
   "metadata": {},
   "outputs": [],
   "source": [
    "\n",
    "\n",
    "plot_tsne(tsne_dataset, selected_patient_idx)"
   ]
  },
  {
   "cell_type": "code",
   "execution_count": null,
   "id": "4a0fa9fd",
   "metadata": {},
   "outputs": [],
   "source": []
  },
  {
   "cell_type": "markdown",
   "id": "39f4c03f",
   "metadata": {},
   "source": [
    "### Modify gene expressions for the selected patient - 60 genes"
   ]
  },
  {
   "cell_type": "code",
   "execution_count": null,
   "id": "8ab511cb",
   "metadata": {},
   "outputs": [],
   "source": []
  },
  {
   "cell_type": "code",
   "execution_count": null,
   "id": "9ed24c69",
   "metadata": {},
   "outputs": [],
   "source": [
    "test_set = x_test_scaled.copy()\n",
    "\n",
    "selected_patient = test_set.loc[test_set.index.str.startswith(pid)]\n",
    "selected_patient\n",
    "\n",
    "# selected_patient, pid = get_patient('CD_deep_ulcer')\n",
    "# selected_patient"
   ]
  },
  {
   "cell_type": "code",
   "execution_count": null,
   "id": "d7695109",
   "metadata": {},
   "outputs": [],
   "source": [
    "with open(\"most_diff_genes_60\", \"rb\") as fp:   # Unpickling\n",
    "    most_diff_genes_60 = pickle.load(fp)"
   ]
  },
  {
   "cell_type": "code",
   "execution_count": null,
   "id": "2656af20",
   "metadata": {},
   "outputs": [],
   "source": [
    "def modify_expression(pid, most_diff_genes, dataset):\n",
    "    print(\"dataset size (should be test):\",dataset.shape)\n",
    "    controls = dataset.loc[dataset.index.str.endswith('_control')]\n",
    "#     plains = x_test_scaled.loc[x_test_scaled.index.str.endswith('_CD_plain')]\n",
    "#     ulcers = x_test_scaled.loc[x_test_scaled.index.str.endswith('_CD_deep_ulcer')]\n",
    "    \n",
    "    for gene_symbol in most_diff_genes:\n",
    "        new_val = controls.describe().loc[\"mean\", gene_symbol]\n",
    "        dataset.loc[dataset.index.str.startswith(pid), gene_symbol] = new_val\n",
    "    return dataset\n",
    "\n"
   ]
  },
  {
   "cell_type": "code",
   "execution_count": null,
   "id": "a03ceccc",
   "metadata": {},
   "outputs": [],
   "source": [
    "test_set.columns"
   ]
  },
  {
   "cell_type": "code",
   "execution_count": null,
   "id": "42e5437e",
   "metadata": {},
   "outputs": [],
   "source": [
    "test_set = modify_expression(pid, most_diff_genes_60, test_set)\n",
    "test_set.loc[test_set.index.str.startswith(pid)]"
   ]
  },
  {
   "cell_type": "markdown",
   "id": "0fd2c2b6",
   "metadata": {},
   "source": [
    "## Re-encoding the dataset"
   ]
  },
  {
   "cell_type": "code",
   "execution_count": null,
   "id": "f8a56951",
   "metadata": {},
   "outputs": [],
   "source": [
    "tsne_dataset, pca_x_test = encode_pca(test_set)\n",
    "tsne_dataset"
   ]
  },
  {
   "cell_type": "markdown",
   "id": "fdcd4c59",
   "metadata": {},
   "source": [
    "## Replot tSNE"
   ]
  },
  {
   "cell_type": "code",
   "execution_count": null,
   "id": "7c142e2d",
   "metadata": {},
   "outputs": [],
   "source": [
    "\n",
    "\n",
    "plot_tsne(tsne_dataset, selected_patient_idx)"
   ]
  },
  {
   "cell_type": "markdown",
   "id": "51d5ff91",
   "metadata": {},
   "source": [
    "### Modify gene expressions for the selected patient - 120 genes"
   ]
  },
  {
   "cell_type": "code",
   "execution_count": null,
   "id": "7ffe64cd",
   "metadata": {},
   "outputs": [],
   "source": [
    "test_set = x_test_scaled.copy()\n",
    "\n",
    "selected_patient = test_set.loc[test_set.index.str.startswith(pid)]\n",
    "selected_patient"
   ]
  },
  {
   "cell_type": "code",
   "execution_count": null,
   "id": "30a8c781",
   "metadata": {},
   "outputs": [],
   "source": [
    "\n",
    "# selected_patient = tsne_dataset.loc[tsne_dataset.index.str.startswith(pid)]\n",
    "# selected_patient"
   ]
  },
  {
   "cell_type": "code",
   "execution_count": null,
   "id": "4526d1a0",
   "metadata": {},
   "outputs": [],
   "source": [
    "with open(\"most_diff_genes_115\", \"rb\") as fp:   # Unpickling\n",
    "    most_diff_genes = pickle.load(fp)\n",
    "\n",
    "most_diff_genes"
   ]
  },
  {
   "cell_type": "code",
   "execution_count": null,
   "id": "cec0739c",
   "metadata": {},
   "outputs": [],
   "source": [
    "test_set = modify_expression(pid, most_diff_genes, test_set)\n",
    "test_set.loc[test_set.index.str.startswith(pid)]"
   ]
  },
  {
   "cell_type": "markdown",
   "id": "6ef6c704",
   "metadata": {},
   "source": [
    "## Re-encoding the dataset"
   ]
  },
  {
   "cell_type": "code",
   "execution_count": null,
   "id": "4e83d90d",
   "metadata": {},
   "outputs": [],
   "source": [
    "tsne_dataset, pca_x_test = encode_pca(test_set)\n",
    "tsne_dataset"
   ]
  },
  {
   "cell_type": "markdown",
   "id": "7f98ce39",
   "metadata": {},
   "source": [
    "## Replot tSNE"
   ]
  },
  {
   "cell_type": "code",
   "execution_count": null,
   "id": "bd6d8ca1",
   "metadata": {},
   "outputs": [],
   "source": [
    "\n",
    "\n",
    "plot_tsne(tsne_dataset, selected_patient_idx)"
   ]
  },
  {
   "cell_type": "markdown",
   "id": "edb66e5f",
   "metadata": {},
   "source": [
    "Patient moves into the control cluster"
   ]
  }
 ],
 "metadata": {
  "kernelspec": {
   "display_name": "Python 3 (ipykernel)",
   "language": "python",
   "name": "python3"
  },
  "language_info": {
   "codemirror_mode": {
    "name": "ipython",
    "version": 3
   },
   "file_extension": ".py",
   "mimetype": "text/x-python",
   "name": "python",
   "nbconvert_exporter": "python",
   "pygments_lexer": "ipython3",
   "version": "3.10.9"
  }
 },
 "nbformat": 4,
 "nbformat_minor": 5
}
